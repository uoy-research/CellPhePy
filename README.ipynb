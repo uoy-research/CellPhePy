{
 "cells": [
  {
   "cell_type": "markdown",
   "id": "b5fc0adf-389b-48aa-9d29-042ccde050ba",
   "metadata": {},
   "source": [
    "# CellPhe\n",
    "\n",
    "<!-- badges: start -->\n",
    "<a href=\"https://zenodo.org/badge/latestdoi/449769672\"><img src=\"https://zenodo.org/badge/449769672.svg\" alt=\"DOI\"></a>\n",
    "<!-- badges: end -->\n",
    "\n",
    "CellPhe provides functions to phenotype cells from time-lapse videos and accompanies the paper:\\\n",
    "Wiggins, L., Lord, A., Murphy, K.L. et al.\\\n",
    "The CellPhe toolkit for cell phenotyping using time-lapse imaging and pattern recognition.\\\n",
    "Nat Commun 14, 1854 (2023).\\\n",
    "https://doi.org/10.1038/s41467-023-37447-3\n",
    "\n",
    "The Python package is a port of the [original R implementation](https://github.com/uoy-research/CellPhe).\n",
    "\n",
    "## Installation\n",
    "\n",
    "You can install the latest version of CellPhe from\n",
    "[PyPi](https://pypi.org/project/cellphe/) with:\n",
    "\n",
    "```\n",
    "pip install cellphe\n",
    "```\n",
    "\n",
    "## Example\n",
    "\n",
    "An example dataset to demonstrate CellPhe’s capabilities is hosted on [Dryad](https://doi.org/10.5061/dryad.4xgxd25f0) in the archive `example_data.zip` and comprises 3 parts:\n",
    "\n",
    "-   The time-lapse stills as TIFF images (`05062019_B3_3_imagedata`)\n",
    "-   Existing pre-extracted features from PhaseFocus Livecyte.\n",
    "    (`05062019_B3_3_Phase-FullFeatureTable.csv`)\n",
    "-   Region-of-interest (ROI) boundaries already demarked in ImageJ\n",
    "    format (`05062019_B3_3_Phase`)\n",
    "\n",
    "These should be extracted into a suitable location (this guide assumes they have been extracted into `data`) before proceeding\n",
    "with the rest of the tutorial.\n",
    "\n",
    "The first step in the CellPhe workflow is to prepare a dataframe containing\n",
    "metadata identifying the tracked cells across all the frames, along with any\n",
    "pre-existing attributes. The segmenting and tracking can be performed within\n",
    "CellPhe, or pre-segmented and tracked data from two widely used software\n",
    "(PhaseFocus Livecyte & Trackmate) can be directly imported.\n",
    "\n"
   ]
  },
  {
   "cell_type": "markdown",
   "id": "f045f709-f7a9-4e4c-9adc-0c93d9035a36",
   "metadata": {},
   "source": [
    "\n",
    "### Segmenting and tracking\n",
    "\n",
    "**NB: This feature is still experimental, please report any bugs at the [issue tracker](https://github.com/uoy-research/CellPhePy/issues)**\n",
    "\n",
    "CellPhe provides 2 functions to segment and track an image sequence:\n",
    "\n",
    "  - `segment_images`: Segments images using Cellpose\n",
    "  - `track_images`: Uses the ImageJ plugin TrackMate to track cells between frames without requiring ImageJ to be installed\n"
   ]
  },
  {
   "cell_type": "code",
   "execution_count": 1,
   "id": "fe209380-7bf8-4ca4-8609-67b387ecf394",
   "metadata": {},
   "outputs": [],
   "source": [
    "from cellphe import segment_images, track_images"
   ]
  },
  {
   "cell_type": "markdown",
   "id": "c80a0fc0-b79e-4b90-900d-0c4c9a7b39ce",
   "metadata": {},
   "source": [
    "`segment_images` takes 2 arguments: the path to the directory where the images are stored (where the folder `05062019_B3_3_imagedata` was extracted to), and a path to an output folder where the resultant Cellpose masks will be saved.\n",
    "\n",
    "This can take several minutes depending on the number of images and their resolution."
   ]
  },
  {
   "cell_type": "code",
   "execution_count": 2,
   "id": "af612b28-de78-46ee-9ebc-b81ae8660616",
   "metadata": {},
   "outputs": [
    {
     "name": "stderr",
     "output_type": "stream",
     "text": [
      "/home/stuart/venvs/cellphepydev/lib/python3.12/site-packages/cellpose/resnet_torch.py:275: FutureWarning: You are using `torch.load` with `weights_only=False` (the current default value), which uses the default pickle module implicitly. It is possible to construct malicious pickle data which will execute arbitrary code during unpickling (See https://github.com/pytorch/pytorch/blob/main/SECURITY.md#untrusted-models for more details). In a future release, the default value for `weights_only` will be flipped to `True`. This limits the functions that could be executed during unpickling. Arbitrary objects will no longer be allowed to be loaded via this mode unless they are explicitly allowlisted by the user via `torch.serialization.add_safe_globals`. We recommend you start setting `weights_only=True` for any use case where you don't have full control of the loaded file. Please open an issue on GitHub for any issues related to this experimental feature.\n",
      "  state_dict = torch.load(filename, map_location=torch.device(\"cpu\"))\n"
     ]
    },
    {
     "name": "stdout",
     "output_type": "stream",
     "text": [
      "Processing image: data/05062019_B3_3_imagedata/05062019_B3_3_Phase-0001.tif\n"
     ]
    },
    {
     "name": "stderr",
     "output_type": "stream",
     "text": [
      "/home/stuart/repos/CellPhePy/src/cellphe/input.py:175: UserWarning: data/masks/05062019_B3_3_Phase-0001_mask.tif is a low contrast image\n",
      "  io.imsave(save_path, masks.astype(\"uint16\"))  # Assuming masks are uint16\n"
     ]
    },
    {
     "name": "stdout",
     "output_type": "stream",
     "text": [
      "Masks saved for data/05062019_B3_3_imagedata/05062019_B3_3_Phase-0001.tif at data/masks/05062019_B3_3_Phase-0001_mask.tif\n",
      "Processing image: data/05062019_B3_3_imagedata/05062019_B3_3_Phase-0002.tif\n"
     ]
    },
    {
     "name": "stderr",
     "output_type": "stream",
     "text": [
      "/home/stuart/repos/CellPhePy/src/cellphe/input.py:175: UserWarning: data/masks/05062019_B3_3_Phase-0002_mask.tif is a low contrast image\n",
      "  io.imsave(save_path, masks.astype(\"uint16\"))  # Assuming masks are uint16\n"
     ]
    },
    {
     "name": "stdout",
     "output_type": "stream",
     "text": [
      "Masks saved for data/05062019_B3_3_imagedata/05062019_B3_3_Phase-0002.tif at data/masks/05062019_B3_3_Phase-0002_mask.tif\n",
      "Processing image: data/05062019_B3_3_imagedata/05062019_B3_3_Phase-0003.tif\n"
     ]
    },
    {
     "name": "stderr",
     "output_type": "stream",
     "text": [
      "/home/stuart/repos/CellPhePy/src/cellphe/input.py:175: UserWarning: data/masks/05062019_B3_3_Phase-0003_mask.tif is a low contrast image\n",
      "  io.imsave(save_path, masks.astype(\"uint16\"))  # Assuming masks are uint16\n"
     ]
    },
    {
     "name": "stdout",
     "output_type": "stream",
     "text": [
      "Masks saved for data/05062019_B3_3_imagedata/05062019_B3_3_Phase-0003.tif at data/masks/05062019_B3_3_Phase-0003_mask.tif\n",
      "Processing image: data/05062019_B3_3_imagedata/05062019_B3_3_Phase-0004.tif\n"
     ]
    },
    {
     "name": "stderr",
     "output_type": "stream",
     "text": [
      "/home/stuart/repos/CellPhePy/src/cellphe/input.py:175: UserWarning: data/masks/05062019_B3_3_Phase-0004_mask.tif is a low contrast image\n",
      "  io.imsave(save_path, masks.astype(\"uint16\"))  # Assuming masks are uint16\n"
     ]
    },
    {
     "name": "stdout",
     "output_type": "stream",
     "text": [
      "Masks saved for data/05062019_B3_3_imagedata/05062019_B3_3_Phase-0004.tif at data/masks/05062019_B3_3_Phase-0004_mask.tif\n",
      "Processing image: data/05062019_B3_3_imagedata/05062019_B3_3_Phase-0005.tif\n"
     ]
    },
    {
     "name": "stderr",
     "output_type": "stream",
     "text": [
      "/home/stuart/repos/CellPhePy/src/cellphe/input.py:175: UserWarning: data/masks/05062019_B3_3_Phase-0005_mask.tif is a low contrast image\n",
      "  io.imsave(save_path, masks.astype(\"uint16\"))  # Assuming masks are uint16\n"
     ]
    },
    {
     "name": "stdout",
     "output_type": "stream",
     "text": [
      "Masks saved for data/05062019_B3_3_imagedata/05062019_B3_3_Phase-0005.tif at data/masks/05062019_B3_3_Phase-0005_mask.tif\n",
      "Processing image: data/05062019_B3_3_imagedata/05062019_B3_3_Phase-0006.tif\n"
     ]
    },
    {
     "name": "stderr",
     "output_type": "stream",
     "text": [
      "/home/stuart/repos/CellPhePy/src/cellphe/input.py:175: UserWarning: data/masks/05062019_B3_3_Phase-0006_mask.tif is a low contrast image\n",
      "  io.imsave(save_path, masks.astype(\"uint16\"))  # Assuming masks are uint16\n"
     ]
    },
    {
     "name": "stdout",
     "output_type": "stream",
     "text": [
      "Masks saved for data/05062019_B3_3_imagedata/05062019_B3_3_Phase-0006.tif at data/masks/05062019_B3_3_Phase-0006_mask.tif\n",
      "Processing image: data/05062019_B3_3_imagedata/05062019_B3_3_Phase-0007.tif\n"
     ]
    },
    {
     "name": "stderr",
     "output_type": "stream",
     "text": [
      "/home/stuart/repos/CellPhePy/src/cellphe/input.py:175: UserWarning: data/masks/05062019_B3_3_Phase-0007_mask.tif is a low contrast image\n",
      "  io.imsave(save_path, masks.astype(\"uint16\"))  # Assuming masks are uint16\n"
     ]
    },
    {
     "name": "stdout",
     "output_type": "stream",
     "text": [
      "Masks saved for data/05062019_B3_3_imagedata/05062019_B3_3_Phase-0007.tif at data/masks/05062019_B3_3_Phase-0007_mask.tif\n",
      "Processing image: data/05062019_B3_3_imagedata/05062019_B3_3_Phase-0008.tif\n"
     ]
    },
    {
     "name": "stderr",
     "output_type": "stream",
     "text": [
      "/home/stuart/repos/CellPhePy/src/cellphe/input.py:175: UserWarning: data/masks/05062019_B3_3_Phase-0008_mask.tif is a low contrast image\n",
      "  io.imsave(save_path, masks.astype(\"uint16\"))  # Assuming masks are uint16\n"
     ]
    },
    {
     "name": "stdout",
     "output_type": "stream",
     "text": [
      "Masks saved for data/05062019_B3_3_imagedata/05062019_B3_3_Phase-0008.tif at data/masks/05062019_B3_3_Phase-0008_mask.tif\n",
      "Processing image: data/05062019_B3_3_imagedata/05062019_B3_3_Phase-0009.tif\n"
     ]
    },
    {
     "name": "stderr",
     "output_type": "stream",
     "text": [
      "/home/stuart/repos/CellPhePy/src/cellphe/input.py:175: UserWarning: data/masks/05062019_B3_3_Phase-0009_mask.tif is a low contrast image\n",
      "  io.imsave(save_path, masks.astype(\"uint16\"))  # Assuming masks are uint16\n"
     ]
    },
    {
     "name": "stdout",
     "output_type": "stream",
     "text": [
      "Masks saved for data/05062019_B3_3_imagedata/05062019_B3_3_Phase-0009.tif at data/masks/05062019_B3_3_Phase-0009_mask.tif\n",
      "Processing image: data/05062019_B3_3_imagedata/05062019_B3_3_Phase-0010.tif\n"
     ]
    },
    {
     "name": "stderr",
     "output_type": "stream",
     "text": [
      "/home/stuart/repos/CellPhePy/src/cellphe/input.py:175: UserWarning: data/masks/05062019_B3_3_Phase-0010_mask.tif is a low contrast image\n",
      "  io.imsave(save_path, masks.astype(\"uint16\"))  # Assuming masks are uint16\n"
     ]
    },
    {
     "name": "stdout",
     "output_type": "stream",
     "text": [
      "Masks saved for data/05062019_B3_3_imagedata/05062019_B3_3_Phase-0010.tif at data/masks/05062019_B3_3_Phase-0010_mask.tif\n",
      "Processing image: data/05062019_B3_3_imagedata/05062019_B3_3_Phase-0011.tif\n"
     ]
    },
    {
     "name": "stderr",
     "output_type": "stream",
     "text": [
      "/home/stuart/repos/CellPhePy/src/cellphe/input.py:175: UserWarning: data/masks/05062019_B3_3_Phase-0011_mask.tif is a low contrast image\n",
      "  io.imsave(save_path, masks.astype(\"uint16\"))  # Assuming masks are uint16\n"
     ]
    },
    {
     "name": "stdout",
     "output_type": "stream",
     "text": [
      "Masks saved for data/05062019_B3_3_imagedata/05062019_B3_3_Phase-0011.tif at data/masks/05062019_B3_3_Phase-0011_mask.tif\n",
      "Processing image: data/05062019_B3_3_imagedata/05062019_B3_3_Phase-0012.tif\n"
     ]
    },
    {
     "name": "stderr",
     "output_type": "stream",
     "text": [
      "/home/stuart/repos/CellPhePy/src/cellphe/input.py:175: UserWarning: data/masks/05062019_B3_3_Phase-0012_mask.tif is a low contrast image\n",
      "  io.imsave(save_path, masks.astype(\"uint16\"))  # Assuming masks are uint16\n"
     ]
    },
    {
     "name": "stdout",
     "output_type": "stream",
     "text": [
      "Masks saved for data/05062019_B3_3_imagedata/05062019_B3_3_Phase-0012.tif at data/masks/05062019_B3_3_Phase-0012_mask.tif\n",
      "Processing image: data/05062019_B3_3_imagedata/05062019_B3_3_Phase-0013.tif\n"
     ]
    },
    {
     "name": "stderr",
     "output_type": "stream",
     "text": [
      "/home/stuart/repos/CellPhePy/src/cellphe/input.py:175: UserWarning: data/masks/05062019_B3_3_Phase-0013_mask.tif is a low contrast image\n",
      "  io.imsave(save_path, masks.astype(\"uint16\"))  # Assuming masks are uint16\n"
     ]
    },
    {
     "name": "stdout",
     "output_type": "stream",
     "text": [
      "Masks saved for data/05062019_B3_3_imagedata/05062019_B3_3_Phase-0013.tif at data/masks/05062019_B3_3_Phase-0013_mask.tif\n",
      "Processing image: data/05062019_B3_3_imagedata/05062019_B3_3_Phase-0014.tif\n"
     ]
    },
    {
     "name": "stderr",
     "output_type": "stream",
     "text": [
      "/home/stuart/repos/CellPhePy/src/cellphe/input.py:175: UserWarning: data/masks/05062019_B3_3_Phase-0014_mask.tif is a low contrast image\n",
      "  io.imsave(save_path, masks.astype(\"uint16\"))  # Assuming masks are uint16\n"
     ]
    },
    {
     "name": "stdout",
     "output_type": "stream",
     "text": [
      "Masks saved for data/05062019_B3_3_imagedata/05062019_B3_3_Phase-0014.tif at data/masks/05062019_B3_3_Phase-0014_mask.tif\n",
      "Processing image: data/05062019_B3_3_imagedata/05062019_B3_3_Phase-0015.tif\n"
     ]
    },
    {
     "name": "stderr",
     "output_type": "stream",
     "text": [
      "/home/stuart/repos/CellPhePy/src/cellphe/input.py:175: UserWarning: data/masks/05062019_B3_3_Phase-0015_mask.tif is a low contrast image\n",
      "  io.imsave(save_path, masks.astype(\"uint16\"))  # Assuming masks are uint16\n"
     ]
    },
    {
     "name": "stdout",
     "output_type": "stream",
     "text": [
      "Masks saved for data/05062019_B3_3_imagedata/05062019_B3_3_Phase-0015.tif at data/masks/05062019_B3_3_Phase-0015_mask.tif\n",
      "Processing image: data/05062019_B3_3_imagedata/05062019_B3_3_Phase-0016.tif\n"
     ]
    },
    {
     "name": "stderr",
     "output_type": "stream",
     "text": [
      "/home/stuart/repos/CellPhePy/src/cellphe/input.py:175: UserWarning: data/masks/05062019_B3_3_Phase-0016_mask.tif is a low contrast image\n",
      "  io.imsave(save_path, masks.astype(\"uint16\"))  # Assuming masks are uint16\n"
     ]
    },
    {
     "name": "stdout",
     "output_type": "stream",
     "text": [
      "Masks saved for data/05062019_B3_3_imagedata/05062019_B3_3_Phase-0016.tif at data/masks/05062019_B3_3_Phase-0016_mask.tif\n",
      "Processing image: data/05062019_B3_3_imagedata/05062019_B3_3_Phase-0017.tif\n"
     ]
    },
    {
     "name": "stderr",
     "output_type": "stream",
     "text": [
      "/home/stuart/repos/CellPhePy/src/cellphe/input.py:175: UserWarning: data/masks/05062019_B3_3_Phase-0017_mask.tif is a low contrast image\n",
      "  io.imsave(save_path, masks.astype(\"uint16\"))  # Assuming masks are uint16\n"
     ]
    },
    {
     "name": "stdout",
     "output_type": "stream",
     "text": [
      "Masks saved for data/05062019_B3_3_imagedata/05062019_B3_3_Phase-0017.tif at data/masks/05062019_B3_3_Phase-0017_mask.tif\n",
      "Processing image: data/05062019_B3_3_imagedata/05062019_B3_3_Phase-0018.tif\n"
     ]
    },
    {
     "name": "stderr",
     "output_type": "stream",
     "text": [
      "/home/stuart/repos/CellPhePy/src/cellphe/input.py:175: UserWarning: data/masks/05062019_B3_3_Phase-0018_mask.tif is a low contrast image\n",
      "  io.imsave(save_path, masks.astype(\"uint16\"))  # Assuming masks are uint16\n"
     ]
    },
    {
     "name": "stdout",
     "output_type": "stream",
     "text": [
      "Masks saved for data/05062019_B3_3_imagedata/05062019_B3_3_Phase-0018.tif at data/masks/05062019_B3_3_Phase-0018_mask.tif\n",
      "Processing image: data/05062019_B3_3_imagedata/05062019_B3_3_Phase-0019.tif\n"
     ]
    },
    {
     "name": "stderr",
     "output_type": "stream",
     "text": [
      "/home/stuart/repos/CellPhePy/src/cellphe/input.py:175: UserWarning: data/masks/05062019_B3_3_Phase-0019_mask.tif is a low contrast image\n",
      "  io.imsave(save_path, masks.astype(\"uint16\"))  # Assuming masks are uint16\n"
     ]
    },
    {
     "name": "stdout",
     "output_type": "stream",
     "text": [
      "Masks saved for data/05062019_B3_3_imagedata/05062019_B3_3_Phase-0019.tif at data/masks/05062019_B3_3_Phase-0019_mask.tif\n",
      "Processing image: data/05062019_B3_3_imagedata/05062019_B3_3_Phase-0020.tif\n"
     ]
    },
    {
     "name": "stderr",
     "output_type": "stream",
     "text": [
      "/home/stuart/repos/CellPhePy/src/cellphe/input.py:175: UserWarning: data/masks/05062019_B3_3_Phase-0020_mask.tif is a low contrast image\n",
      "  io.imsave(save_path, masks.astype(\"uint16\"))  # Assuming masks are uint16\n"
     ]
    },
    {
     "name": "stdout",
     "output_type": "stream",
     "text": [
      "Masks saved for data/05062019_B3_3_imagedata/05062019_B3_3_Phase-0020.tif at data/masks/05062019_B3_3_Phase-0020_mask.tif\n",
      "Processing image: data/05062019_B3_3_imagedata/05062019_B3_3_Phase-0021.tif\n"
     ]
    },
    {
     "name": "stderr",
     "output_type": "stream",
     "text": [
      "/home/stuart/repos/CellPhePy/src/cellphe/input.py:175: UserWarning: data/masks/05062019_B3_3_Phase-0021_mask.tif is a low contrast image\n",
      "  io.imsave(save_path, masks.astype(\"uint16\"))  # Assuming masks are uint16\n"
     ]
    },
    {
     "name": "stdout",
     "output_type": "stream",
     "text": [
      "Masks saved for data/05062019_B3_3_imagedata/05062019_B3_3_Phase-0021.tif at data/masks/05062019_B3_3_Phase-0021_mask.tif\n",
      "Processing image: data/05062019_B3_3_imagedata/05062019_B3_3_Phase-0022.tif\n"
     ]
    },
    {
     "name": "stderr",
     "output_type": "stream",
     "text": [
      "/home/stuart/repos/CellPhePy/src/cellphe/input.py:175: UserWarning: data/masks/05062019_B3_3_Phase-0022_mask.tif is a low contrast image\n",
      "  io.imsave(save_path, masks.astype(\"uint16\"))  # Assuming masks are uint16\n"
     ]
    },
    {
     "name": "stdout",
     "output_type": "stream",
     "text": [
      "Masks saved for data/05062019_B3_3_imagedata/05062019_B3_3_Phase-0022.tif at data/masks/05062019_B3_3_Phase-0022_mask.tif\n",
      "Processing image: data/05062019_B3_3_imagedata/05062019_B3_3_Phase-0023.tif\n"
     ]
    },
    {
     "name": "stderr",
     "output_type": "stream",
     "text": [
      "/home/stuart/repos/CellPhePy/src/cellphe/input.py:175: UserWarning: data/masks/05062019_B3_3_Phase-0023_mask.tif is a low contrast image\n",
      "  io.imsave(save_path, masks.astype(\"uint16\"))  # Assuming masks are uint16\n"
     ]
    },
    {
     "name": "stdout",
     "output_type": "stream",
     "text": [
      "Masks saved for data/05062019_B3_3_imagedata/05062019_B3_3_Phase-0023.tif at data/masks/05062019_B3_3_Phase-0023_mask.tif\n",
      "Processing image: data/05062019_B3_3_imagedata/05062019_B3_3_Phase-0024.tif\n"
     ]
    },
    {
     "name": "stderr",
     "output_type": "stream",
     "text": [
      "/home/stuart/repos/CellPhePy/src/cellphe/input.py:175: UserWarning: data/masks/05062019_B3_3_Phase-0024_mask.tif is a low contrast image\n",
      "  io.imsave(save_path, masks.astype(\"uint16\"))  # Assuming masks are uint16\n"
     ]
    },
    {
     "name": "stdout",
     "output_type": "stream",
     "text": [
      "Masks saved for data/05062019_B3_3_imagedata/05062019_B3_3_Phase-0024.tif at data/masks/05062019_B3_3_Phase-0024_mask.tif\n",
      "Processing image: data/05062019_B3_3_imagedata/05062019_B3_3_Phase-0025.tif\n"
     ]
    },
    {
     "name": "stderr",
     "output_type": "stream",
     "text": [
      "/home/stuart/repos/CellPhePy/src/cellphe/input.py:175: UserWarning: data/masks/05062019_B3_3_Phase-0025_mask.tif is a low contrast image\n",
      "  io.imsave(save_path, masks.astype(\"uint16\"))  # Assuming masks are uint16\n"
     ]
    },
    {
     "name": "stdout",
     "output_type": "stream",
     "text": [
      "Masks saved for data/05062019_B3_3_imagedata/05062019_B3_3_Phase-0025.tif at data/masks/05062019_B3_3_Phase-0025_mask.tif\n",
      "Processing image: data/05062019_B3_3_imagedata/05062019_B3_3_Phase-0026.tif\n"
     ]
    },
    {
     "name": "stderr",
     "output_type": "stream",
     "text": [
      "/home/stuart/repos/CellPhePy/src/cellphe/input.py:175: UserWarning: data/masks/05062019_B3_3_Phase-0026_mask.tif is a low contrast image\n",
      "  io.imsave(save_path, masks.astype(\"uint16\"))  # Assuming masks are uint16\n"
     ]
    },
    {
     "name": "stdout",
     "output_type": "stream",
     "text": [
      "Masks saved for data/05062019_B3_3_imagedata/05062019_B3_3_Phase-0026.tif at data/masks/05062019_B3_3_Phase-0026_mask.tif\n",
      "Processing image: data/05062019_B3_3_imagedata/05062019_B3_3_Phase-0027.tif\n"
     ]
    },
    {
     "name": "stderr",
     "output_type": "stream",
     "text": [
      "/home/stuart/repos/CellPhePy/src/cellphe/input.py:175: UserWarning: data/masks/05062019_B3_3_Phase-0027_mask.tif is a low contrast image\n",
      "  io.imsave(save_path, masks.astype(\"uint16\"))  # Assuming masks are uint16\n"
     ]
    },
    {
     "name": "stdout",
     "output_type": "stream",
     "text": [
      "Masks saved for data/05062019_B3_3_imagedata/05062019_B3_3_Phase-0027.tif at data/masks/05062019_B3_3_Phase-0027_mask.tif\n",
      "Processing image: data/05062019_B3_3_imagedata/05062019_B3_3_Phase-0028.tif\n"
     ]
    },
    {
     "name": "stderr",
     "output_type": "stream",
     "text": [
      "/home/stuart/repos/CellPhePy/src/cellphe/input.py:175: UserWarning: data/masks/05062019_B3_3_Phase-0028_mask.tif is a low contrast image\n",
      "  io.imsave(save_path, masks.astype(\"uint16\"))  # Assuming masks are uint16\n"
     ]
    },
    {
     "name": "stdout",
     "output_type": "stream",
     "text": [
      "Masks saved for data/05062019_B3_3_imagedata/05062019_B3_3_Phase-0028.tif at data/masks/05062019_B3_3_Phase-0028_mask.tif\n",
      "Processing image: data/05062019_B3_3_imagedata/05062019_B3_3_Phase-0029.tif\n"
     ]
    },
    {
     "name": "stderr",
     "output_type": "stream",
     "text": [
      "/home/stuart/repos/CellPhePy/src/cellphe/input.py:175: UserWarning: data/masks/05062019_B3_3_Phase-0029_mask.tif is a low contrast image\n",
      "  io.imsave(save_path, masks.astype(\"uint16\"))  # Assuming masks are uint16\n"
     ]
    },
    {
     "name": "stdout",
     "output_type": "stream",
     "text": [
      "Masks saved for data/05062019_B3_3_imagedata/05062019_B3_3_Phase-0029.tif at data/masks/05062019_B3_3_Phase-0029_mask.tif\n",
      "Processing image: data/05062019_B3_3_imagedata/05062019_B3_3_Phase-0030.tif\n"
     ]
    },
    {
     "name": "stderr",
     "output_type": "stream",
     "text": [
      "/home/stuart/repos/CellPhePy/src/cellphe/input.py:175: UserWarning: data/masks/05062019_B3_3_Phase-0030_mask.tif is a low contrast image\n",
      "  io.imsave(save_path, masks.astype(\"uint16\"))  # Assuming masks are uint16\n"
     ]
    },
    {
     "name": "stdout",
     "output_type": "stream",
     "text": [
      "Masks saved for data/05062019_B3_3_imagedata/05062019_B3_3_Phase-0030.tif at data/masks/05062019_B3_3_Phase-0030_mask.tif\n",
      "Processing image: data/05062019_B3_3_imagedata/05062019_B3_3_Phase-0031.tif\n"
     ]
    },
    {
     "name": "stderr",
     "output_type": "stream",
     "text": [
      "/home/stuart/repos/CellPhePy/src/cellphe/input.py:175: UserWarning: data/masks/05062019_B3_3_Phase-0031_mask.tif is a low contrast image\n",
      "  io.imsave(save_path, masks.astype(\"uint16\"))  # Assuming masks are uint16\n"
     ]
    },
    {
     "name": "stdout",
     "output_type": "stream",
     "text": [
      "Masks saved for data/05062019_B3_3_imagedata/05062019_B3_3_Phase-0031.tif at data/masks/05062019_B3_3_Phase-0031_mask.tif\n",
      "Processing image: data/05062019_B3_3_imagedata/05062019_B3_3_Phase-0032.tif\n"
     ]
    },
    {
     "name": "stderr",
     "output_type": "stream",
     "text": [
      "/home/stuart/repos/CellPhePy/src/cellphe/input.py:175: UserWarning: data/masks/05062019_B3_3_Phase-0032_mask.tif is a low contrast image\n",
      "  io.imsave(save_path, masks.astype(\"uint16\"))  # Assuming masks are uint16\n"
     ]
    },
    {
     "name": "stdout",
     "output_type": "stream",
     "text": [
      "Masks saved for data/05062019_B3_3_imagedata/05062019_B3_3_Phase-0032.tif at data/masks/05062019_B3_3_Phase-0032_mask.tif\n",
      "Processing image: data/05062019_B3_3_imagedata/05062019_B3_3_Phase-0033.tif\n"
     ]
    },
    {
     "name": "stderr",
     "output_type": "stream",
     "text": [
      "/home/stuart/repos/CellPhePy/src/cellphe/input.py:175: UserWarning: data/masks/05062019_B3_3_Phase-0033_mask.tif is a low contrast image\n",
      "  io.imsave(save_path, masks.astype(\"uint16\"))  # Assuming masks are uint16\n"
     ]
    },
    {
     "name": "stdout",
     "output_type": "stream",
     "text": [
      "Masks saved for data/05062019_B3_3_imagedata/05062019_B3_3_Phase-0033.tif at data/masks/05062019_B3_3_Phase-0033_mask.tif\n",
      "Processing image: data/05062019_B3_3_imagedata/05062019_B3_3_Phase-0034.tif\n"
     ]
    },
    {
     "name": "stderr",
     "output_type": "stream",
     "text": [
      "/home/stuart/repos/CellPhePy/src/cellphe/input.py:175: UserWarning: data/masks/05062019_B3_3_Phase-0034_mask.tif is a low contrast image\n",
      "  io.imsave(save_path, masks.astype(\"uint16\"))  # Assuming masks are uint16\n"
     ]
    },
    {
     "name": "stdout",
     "output_type": "stream",
     "text": [
      "Masks saved for data/05062019_B3_3_imagedata/05062019_B3_3_Phase-0034.tif at data/masks/05062019_B3_3_Phase-0034_mask.tif\n",
      "Processing image: data/05062019_B3_3_imagedata/05062019_B3_3_Phase-0035.tif\n"
     ]
    },
    {
     "name": "stderr",
     "output_type": "stream",
     "text": [
      "/home/stuart/repos/CellPhePy/src/cellphe/input.py:175: UserWarning: data/masks/05062019_B3_3_Phase-0035_mask.tif is a low contrast image\n",
      "  io.imsave(save_path, masks.astype(\"uint16\"))  # Assuming masks are uint16\n"
     ]
    },
    {
     "name": "stdout",
     "output_type": "stream",
     "text": [
      "Masks saved for data/05062019_B3_3_imagedata/05062019_B3_3_Phase-0035.tif at data/masks/05062019_B3_3_Phase-0035_mask.tif\n",
      "Processing image: data/05062019_B3_3_imagedata/05062019_B3_3_Phase-0036.tif\n"
     ]
    },
    {
     "name": "stderr",
     "output_type": "stream",
     "text": [
      "/home/stuart/repos/CellPhePy/src/cellphe/input.py:175: UserWarning: data/masks/05062019_B3_3_Phase-0036_mask.tif is a low contrast image\n",
      "  io.imsave(save_path, masks.astype(\"uint16\"))  # Assuming masks are uint16\n"
     ]
    },
    {
     "name": "stdout",
     "output_type": "stream",
     "text": [
      "Masks saved for data/05062019_B3_3_imagedata/05062019_B3_3_Phase-0036.tif at data/masks/05062019_B3_3_Phase-0036_mask.tif\n",
      "Processing image: data/05062019_B3_3_imagedata/05062019_B3_3_Phase-0037.tif\n"
     ]
    },
    {
     "name": "stderr",
     "output_type": "stream",
     "text": [
      "/home/stuart/repos/CellPhePy/src/cellphe/input.py:175: UserWarning: data/masks/05062019_B3_3_Phase-0037_mask.tif is a low contrast image\n",
      "  io.imsave(save_path, masks.astype(\"uint16\"))  # Assuming masks are uint16\n"
     ]
    },
    {
     "name": "stdout",
     "output_type": "stream",
     "text": [
      "Masks saved for data/05062019_B3_3_imagedata/05062019_B3_3_Phase-0037.tif at data/masks/05062019_B3_3_Phase-0037_mask.tif\n",
      "Processing image: data/05062019_B3_3_imagedata/05062019_B3_3_Phase-0038.tif\n"
     ]
    },
    {
     "name": "stderr",
     "output_type": "stream",
     "text": [
      "/home/stuart/repos/CellPhePy/src/cellphe/input.py:175: UserWarning: data/masks/05062019_B3_3_Phase-0038_mask.tif is a low contrast image\n",
      "  io.imsave(save_path, masks.astype(\"uint16\"))  # Assuming masks are uint16\n"
     ]
    },
    {
     "name": "stdout",
     "output_type": "stream",
     "text": [
      "Masks saved for data/05062019_B3_3_imagedata/05062019_B3_3_Phase-0038.tif at data/masks/05062019_B3_3_Phase-0038_mask.tif\n",
      "Processing image: data/05062019_B3_3_imagedata/05062019_B3_3_Phase-0039.tif\n"
     ]
    },
    {
     "name": "stderr",
     "output_type": "stream",
     "text": [
      "/home/stuart/repos/CellPhePy/src/cellphe/input.py:175: UserWarning: data/masks/05062019_B3_3_Phase-0039_mask.tif is a low contrast image\n",
      "  io.imsave(save_path, masks.astype(\"uint16\"))  # Assuming masks are uint16\n"
     ]
    },
    {
     "name": "stdout",
     "output_type": "stream",
     "text": [
      "Masks saved for data/05062019_B3_3_imagedata/05062019_B3_3_Phase-0039.tif at data/masks/05062019_B3_3_Phase-0039_mask.tif\n",
      "Processing image: data/05062019_B3_3_imagedata/05062019_B3_3_Phase-0040.tif\n"
     ]
    },
    {
     "name": "stderr",
     "output_type": "stream",
     "text": [
      "/home/stuart/repos/CellPhePy/src/cellphe/input.py:175: UserWarning: data/masks/05062019_B3_3_Phase-0040_mask.tif is a low contrast image\n",
      "  io.imsave(save_path, masks.astype(\"uint16\"))  # Assuming masks are uint16\n"
     ]
    },
    {
     "name": "stdout",
     "output_type": "stream",
     "text": [
      "Masks saved for data/05062019_B3_3_imagedata/05062019_B3_3_Phase-0040.tif at data/masks/05062019_B3_3_Phase-0040_mask.tif\n",
      "Processing image: data/05062019_B3_3_imagedata/05062019_B3_3_Phase-0041.tif\n"
     ]
    },
    {
     "name": "stderr",
     "output_type": "stream",
     "text": [
      "/home/stuart/repos/CellPhePy/src/cellphe/input.py:175: UserWarning: data/masks/05062019_B3_3_Phase-0041_mask.tif is a low contrast image\n",
      "  io.imsave(save_path, masks.astype(\"uint16\"))  # Assuming masks are uint16\n"
     ]
    },
    {
     "name": "stdout",
     "output_type": "stream",
     "text": [
      "Masks saved for data/05062019_B3_3_imagedata/05062019_B3_3_Phase-0041.tif at data/masks/05062019_B3_3_Phase-0041_mask.tif\n",
      "Processing image: data/05062019_B3_3_imagedata/05062019_B3_3_Phase-0042.tif\n"
     ]
    },
    {
     "name": "stderr",
     "output_type": "stream",
     "text": [
      "/home/stuart/repos/CellPhePy/src/cellphe/input.py:175: UserWarning: data/masks/05062019_B3_3_Phase-0042_mask.tif is a low contrast image\n",
      "  io.imsave(save_path, masks.astype(\"uint16\"))  # Assuming masks are uint16\n"
     ]
    },
    {
     "name": "stdout",
     "output_type": "stream",
     "text": [
      "Masks saved for data/05062019_B3_3_imagedata/05062019_B3_3_Phase-0042.tif at data/masks/05062019_B3_3_Phase-0042_mask.tif\n",
      "Processing image: data/05062019_B3_3_imagedata/05062019_B3_3_Phase-0043.tif\n"
     ]
    },
    {
     "name": "stderr",
     "output_type": "stream",
     "text": [
      "/home/stuart/repos/CellPhePy/src/cellphe/input.py:175: UserWarning: data/masks/05062019_B3_3_Phase-0043_mask.tif is a low contrast image\n",
      "  io.imsave(save_path, masks.astype(\"uint16\"))  # Assuming masks are uint16\n"
     ]
    },
    {
     "name": "stdout",
     "output_type": "stream",
     "text": [
      "Masks saved for data/05062019_B3_3_imagedata/05062019_B3_3_Phase-0043.tif at data/masks/05062019_B3_3_Phase-0043_mask.tif\n",
      "Processing image: data/05062019_B3_3_imagedata/05062019_B3_3_Phase-0044.tif\n"
     ]
    },
    {
     "name": "stderr",
     "output_type": "stream",
     "text": [
      "/home/stuart/repos/CellPhePy/src/cellphe/input.py:175: UserWarning: data/masks/05062019_B3_3_Phase-0044_mask.tif is a low contrast image\n",
      "  io.imsave(save_path, masks.astype(\"uint16\"))  # Assuming masks are uint16\n"
     ]
    },
    {
     "name": "stdout",
     "output_type": "stream",
     "text": [
      "Masks saved for data/05062019_B3_3_imagedata/05062019_B3_3_Phase-0044.tif at data/masks/05062019_B3_3_Phase-0044_mask.tif\n",
      "Processing image: data/05062019_B3_3_imagedata/05062019_B3_3_Phase-0045.tif\n"
     ]
    },
    {
     "name": "stderr",
     "output_type": "stream",
     "text": [
      "/home/stuart/repos/CellPhePy/src/cellphe/input.py:175: UserWarning: data/masks/05062019_B3_3_Phase-0045_mask.tif is a low contrast image\n",
      "  io.imsave(save_path, masks.astype(\"uint16\"))  # Assuming masks are uint16\n"
     ]
    },
    {
     "name": "stdout",
     "output_type": "stream",
     "text": [
      "Masks saved for data/05062019_B3_3_imagedata/05062019_B3_3_Phase-0045.tif at data/masks/05062019_B3_3_Phase-0045_mask.tif\n",
      "Processing image: data/05062019_B3_3_imagedata/05062019_B3_3_Phase-0046.tif\n"
     ]
    },
    {
     "name": "stderr",
     "output_type": "stream",
     "text": [
      "/home/stuart/repos/CellPhePy/src/cellphe/input.py:175: UserWarning: data/masks/05062019_B3_3_Phase-0046_mask.tif is a low contrast image\n",
      "  io.imsave(save_path, masks.astype(\"uint16\"))  # Assuming masks are uint16\n"
     ]
    },
    {
     "name": "stdout",
     "output_type": "stream",
     "text": [
      "Masks saved for data/05062019_B3_3_imagedata/05062019_B3_3_Phase-0046.tif at data/masks/05062019_B3_3_Phase-0046_mask.tif\n",
      "Processing image: data/05062019_B3_3_imagedata/05062019_B3_3_Phase-0047.tif\n"
     ]
    },
    {
     "name": "stderr",
     "output_type": "stream",
     "text": [
      "/home/stuart/repos/CellPhePy/src/cellphe/input.py:175: UserWarning: data/masks/05062019_B3_3_Phase-0047_mask.tif is a low contrast image\n",
      "  io.imsave(save_path, masks.astype(\"uint16\"))  # Assuming masks are uint16\n"
     ]
    },
    {
     "name": "stdout",
     "output_type": "stream",
     "text": [
      "Masks saved for data/05062019_B3_3_imagedata/05062019_B3_3_Phase-0047.tif at data/masks/05062019_B3_3_Phase-0047_mask.tif\n",
      "Processing image: data/05062019_B3_3_imagedata/05062019_B3_3_Phase-0048.tif\n"
     ]
    },
    {
     "name": "stderr",
     "output_type": "stream",
     "text": [
      "/home/stuart/repos/CellPhePy/src/cellphe/input.py:175: UserWarning: data/masks/05062019_B3_3_Phase-0048_mask.tif is a low contrast image\n",
      "  io.imsave(save_path, masks.astype(\"uint16\"))  # Assuming masks are uint16\n"
     ]
    },
    {
     "name": "stdout",
     "output_type": "stream",
     "text": [
      "Masks saved for data/05062019_B3_3_imagedata/05062019_B3_3_Phase-0048.tif at data/masks/05062019_B3_3_Phase-0048_mask.tif\n",
      "Processing image: data/05062019_B3_3_imagedata/05062019_B3_3_Phase-0049.tif\n"
     ]
    },
    {
     "name": "stderr",
     "output_type": "stream",
     "text": [
      "/home/stuart/repos/CellPhePy/src/cellphe/input.py:175: UserWarning: data/masks/05062019_B3_3_Phase-0049_mask.tif is a low contrast image\n",
      "  io.imsave(save_path, masks.astype(\"uint16\"))  # Assuming masks are uint16\n"
     ]
    },
    {
     "name": "stdout",
     "output_type": "stream",
     "text": [
      "Masks saved for data/05062019_B3_3_imagedata/05062019_B3_3_Phase-0049.tif at data/masks/05062019_B3_3_Phase-0049_mask.tif\n",
      "Processing image: data/05062019_B3_3_imagedata/05062019_B3_3_Phase-0050.tif\n"
     ]
    },
    {
     "name": "stderr",
     "output_type": "stream",
     "text": [
      "/home/stuart/repos/CellPhePy/src/cellphe/input.py:175: UserWarning: data/masks/05062019_B3_3_Phase-0050_mask.tif is a low contrast image\n",
      "  io.imsave(save_path, masks.astype(\"uint16\"))  # Assuming masks are uint16\n"
     ]
    },
    {
     "name": "stdout",
     "output_type": "stream",
     "text": [
      "Masks saved for data/05062019_B3_3_imagedata/05062019_B3_3_Phase-0050.tif at data/masks/05062019_B3_3_Phase-0050_mask.tif\n",
      "Processing image: data/05062019_B3_3_imagedata/05062019_B3_3_Phase-0051.tif\n"
     ]
    },
    {
     "name": "stderr",
     "output_type": "stream",
     "text": [
      "/home/stuart/repos/CellPhePy/src/cellphe/input.py:175: UserWarning: data/masks/05062019_B3_3_Phase-0051_mask.tif is a low contrast image\n",
      "  io.imsave(save_path, masks.astype(\"uint16\"))  # Assuming masks are uint16\n"
     ]
    },
    {
     "name": "stdout",
     "output_type": "stream",
     "text": [
      "Masks saved for data/05062019_B3_3_imagedata/05062019_B3_3_Phase-0051.tif at data/masks/05062019_B3_3_Phase-0051_mask.tif\n",
      "Processing image: data/05062019_B3_3_imagedata/05062019_B3_3_Phase-0052.tif\n"
     ]
    },
    {
     "name": "stderr",
     "output_type": "stream",
     "text": [
      "/home/stuart/repos/CellPhePy/src/cellphe/input.py:175: UserWarning: data/masks/05062019_B3_3_Phase-0052_mask.tif is a low contrast image\n",
      "  io.imsave(save_path, masks.astype(\"uint16\"))  # Assuming masks are uint16\n"
     ]
    },
    {
     "name": "stdout",
     "output_type": "stream",
     "text": [
      "Masks saved for data/05062019_B3_3_imagedata/05062019_B3_3_Phase-0052.tif at data/masks/05062019_B3_3_Phase-0052_mask.tif\n",
      "Processing image: data/05062019_B3_3_imagedata/05062019_B3_3_Phase-0053.tif\n"
     ]
    },
    {
     "name": "stderr",
     "output_type": "stream",
     "text": [
      "/home/stuart/repos/CellPhePy/src/cellphe/input.py:175: UserWarning: data/masks/05062019_B3_3_Phase-0053_mask.tif is a low contrast image\n",
      "  io.imsave(save_path, masks.astype(\"uint16\"))  # Assuming masks are uint16\n"
     ]
    },
    {
     "name": "stdout",
     "output_type": "stream",
     "text": [
      "Masks saved for data/05062019_B3_3_imagedata/05062019_B3_3_Phase-0053.tif at data/masks/05062019_B3_3_Phase-0053_mask.tif\n",
      "Processing image: data/05062019_B3_3_imagedata/05062019_B3_3_Phase-0054.tif\n"
     ]
    },
    {
     "name": "stderr",
     "output_type": "stream",
     "text": [
      "/home/stuart/repos/CellPhePy/src/cellphe/input.py:175: UserWarning: data/masks/05062019_B3_3_Phase-0054_mask.tif is a low contrast image\n",
      "  io.imsave(save_path, masks.astype(\"uint16\"))  # Assuming masks are uint16\n"
     ]
    },
    {
     "name": "stdout",
     "output_type": "stream",
     "text": [
      "Masks saved for data/05062019_B3_3_imagedata/05062019_B3_3_Phase-0054.tif at data/masks/05062019_B3_3_Phase-0054_mask.tif\n",
      "Processing image: data/05062019_B3_3_imagedata/05062019_B3_3_Phase-0055.tif\n"
     ]
    },
    {
     "name": "stderr",
     "output_type": "stream",
     "text": [
      "/home/stuart/repos/CellPhePy/src/cellphe/input.py:175: UserWarning: data/masks/05062019_B3_3_Phase-0055_mask.tif is a low contrast image\n",
      "  io.imsave(save_path, masks.astype(\"uint16\"))  # Assuming masks are uint16\n"
     ]
    },
    {
     "name": "stdout",
     "output_type": "stream",
     "text": [
      "Masks saved for data/05062019_B3_3_imagedata/05062019_B3_3_Phase-0055.tif at data/masks/05062019_B3_3_Phase-0055_mask.tif\n",
      "Processing image: data/05062019_B3_3_imagedata/05062019_B3_3_Phase-0056.tif\n"
     ]
    },
    {
     "name": "stderr",
     "output_type": "stream",
     "text": [
      "/home/stuart/repos/CellPhePy/src/cellphe/input.py:175: UserWarning: data/masks/05062019_B3_3_Phase-0056_mask.tif is a low contrast image\n",
      "  io.imsave(save_path, masks.astype(\"uint16\"))  # Assuming masks are uint16\n"
     ]
    },
    {
     "name": "stdout",
     "output_type": "stream",
     "text": [
      "Masks saved for data/05062019_B3_3_imagedata/05062019_B3_3_Phase-0056.tif at data/masks/05062019_B3_3_Phase-0056_mask.tif\n",
      "Processing image: data/05062019_B3_3_imagedata/05062019_B3_3_Phase-0057.tif\n"
     ]
    },
    {
     "name": "stderr",
     "output_type": "stream",
     "text": [
      "/home/stuart/repos/CellPhePy/src/cellphe/input.py:175: UserWarning: data/masks/05062019_B3_3_Phase-0057_mask.tif is a low contrast image\n",
      "  io.imsave(save_path, masks.astype(\"uint16\"))  # Assuming masks are uint16\n"
     ]
    },
    {
     "name": "stdout",
     "output_type": "stream",
     "text": [
      "Masks saved for data/05062019_B3_3_imagedata/05062019_B3_3_Phase-0057.tif at data/masks/05062019_B3_3_Phase-0057_mask.tif\n",
      "Processing image: data/05062019_B3_3_imagedata/05062019_B3_3_Phase-0058.tif\n"
     ]
    },
    {
     "name": "stderr",
     "output_type": "stream",
     "text": [
      "/home/stuart/repos/CellPhePy/src/cellphe/input.py:175: UserWarning: data/masks/05062019_B3_3_Phase-0058_mask.tif is a low contrast image\n",
      "  io.imsave(save_path, masks.astype(\"uint16\"))  # Assuming masks are uint16\n"
     ]
    },
    {
     "name": "stdout",
     "output_type": "stream",
     "text": [
      "Masks saved for data/05062019_B3_3_imagedata/05062019_B3_3_Phase-0058.tif at data/masks/05062019_B3_3_Phase-0058_mask.tif\n",
      "Processing image: data/05062019_B3_3_imagedata/05062019_B3_3_Phase-0059.tif\n"
     ]
    },
    {
     "name": "stderr",
     "output_type": "stream",
     "text": [
      "/home/stuart/repos/CellPhePy/src/cellphe/input.py:175: UserWarning: data/masks/05062019_B3_3_Phase-0059_mask.tif is a low contrast image\n",
      "  io.imsave(save_path, masks.astype(\"uint16\"))  # Assuming masks are uint16\n"
     ]
    },
    {
     "name": "stdout",
     "output_type": "stream",
     "text": [
      "Masks saved for data/05062019_B3_3_imagedata/05062019_B3_3_Phase-0059.tif at data/masks/05062019_B3_3_Phase-0059_mask.tif\n",
      "Processing image: data/05062019_B3_3_imagedata/05062019_B3_3_Phase-0060.tif\n"
     ]
    },
    {
     "name": "stderr",
     "output_type": "stream",
     "text": [
      "/home/stuart/repos/CellPhePy/src/cellphe/input.py:175: UserWarning: data/masks/05062019_B3_3_Phase-0060_mask.tif is a low contrast image\n",
      "  io.imsave(save_path, masks.astype(\"uint16\"))  # Assuming masks are uint16\n"
     ]
    },
    {
     "name": "stdout",
     "output_type": "stream",
     "text": [
      "Masks saved for data/05062019_B3_3_imagedata/05062019_B3_3_Phase-0060.tif at data/masks/05062019_B3_3_Phase-0060_mask.tif\n",
      "Processing image: data/05062019_B3_3_imagedata/05062019_B3_3_Phase-0061.tif\n"
     ]
    },
    {
     "name": "stderr",
     "output_type": "stream",
     "text": [
      "/home/stuart/repos/CellPhePy/src/cellphe/input.py:175: UserWarning: data/masks/05062019_B3_3_Phase-0061_mask.tif is a low contrast image\n",
      "  io.imsave(save_path, masks.astype(\"uint16\"))  # Assuming masks are uint16\n"
     ]
    },
    {
     "name": "stdout",
     "output_type": "stream",
     "text": [
      "Masks saved for data/05062019_B3_3_imagedata/05062019_B3_3_Phase-0061.tif at data/masks/05062019_B3_3_Phase-0061_mask.tif\n",
      "Processing image: data/05062019_B3_3_imagedata/05062019_B3_3_Phase-0062.tif\n"
     ]
    },
    {
     "name": "stderr",
     "output_type": "stream",
     "text": [
      "/home/stuart/repos/CellPhePy/src/cellphe/input.py:175: UserWarning: data/masks/05062019_B3_3_Phase-0062_mask.tif is a low contrast image\n",
      "  io.imsave(save_path, masks.astype(\"uint16\"))  # Assuming masks are uint16\n"
     ]
    },
    {
     "name": "stdout",
     "output_type": "stream",
     "text": [
      "Masks saved for data/05062019_B3_3_imagedata/05062019_B3_3_Phase-0062.tif at data/masks/05062019_B3_3_Phase-0062_mask.tif\n",
      "Processing image: data/05062019_B3_3_imagedata/05062019_B3_3_Phase-0063.tif\n"
     ]
    },
    {
     "name": "stderr",
     "output_type": "stream",
     "text": [
      "/home/stuart/repos/CellPhePy/src/cellphe/input.py:175: UserWarning: data/masks/05062019_B3_3_Phase-0063_mask.tif is a low contrast image\n",
      "  io.imsave(save_path, masks.astype(\"uint16\"))  # Assuming masks are uint16\n"
     ]
    },
    {
     "name": "stdout",
     "output_type": "stream",
     "text": [
      "Masks saved for data/05062019_B3_3_imagedata/05062019_B3_3_Phase-0063.tif at data/masks/05062019_B3_3_Phase-0063_mask.tif\n",
      "Processing image: data/05062019_B3_3_imagedata/05062019_B3_3_Phase-0064.tif\n"
     ]
    },
    {
     "name": "stderr",
     "output_type": "stream",
     "text": [
      "/home/stuart/repos/CellPhePy/src/cellphe/input.py:175: UserWarning: data/masks/05062019_B3_3_Phase-0064_mask.tif is a low contrast image\n",
      "  io.imsave(save_path, masks.astype(\"uint16\"))  # Assuming masks are uint16\n"
     ]
    },
    {
     "name": "stdout",
     "output_type": "stream",
     "text": [
      "Masks saved for data/05062019_B3_3_imagedata/05062019_B3_3_Phase-0064.tif at data/masks/05062019_B3_3_Phase-0064_mask.tif\n",
      "Processing image: data/05062019_B3_3_imagedata/05062019_B3_3_Phase-0065.tif\n"
     ]
    },
    {
     "name": "stderr",
     "output_type": "stream",
     "text": [
      "/home/stuart/repos/CellPhePy/src/cellphe/input.py:175: UserWarning: data/masks/05062019_B3_3_Phase-0065_mask.tif is a low contrast image\n",
      "  io.imsave(save_path, masks.astype(\"uint16\"))  # Assuming masks are uint16\n"
     ]
    },
    {
     "name": "stdout",
     "output_type": "stream",
     "text": [
      "Masks saved for data/05062019_B3_3_imagedata/05062019_B3_3_Phase-0065.tif at data/masks/05062019_B3_3_Phase-0065_mask.tif\n",
      "Processing image: data/05062019_B3_3_imagedata/05062019_B3_3_Phase-0066.tif\n"
     ]
    },
    {
     "name": "stderr",
     "output_type": "stream",
     "text": [
      "/home/stuart/repos/CellPhePy/src/cellphe/input.py:175: UserWarning: data/masks/05062019_B3_3_Phase-0066_mask.tif is a low contrast image\n",
      "  io.imsave(save_path, masks.astype(\"uint16\"))  # Assuming masks are uint16\n"
     ]
    },
    {
     "name": "stdout",
     "output_type": "stream",
     "text": [
      "Masks saved for data/05062019_B3_3_imagedata/05062019_B3_3_Phase-0066.tif at data/masks/05062019_B3_3_Phase-0066_mask.tif\n",
      "Processing image: data/05062019_B3_3_imagedata/05062019_B3_3_Phase-0067.tif\n"
     ]
    },
    {
     "name": "stderr",
     "output_type": "stream",
     "text": [
      "/home/stuart/repos/CellPhePy/src/cellphe/input.py:175: UserWarning: data/masks/05062019_B3_3_Phase-0067_mask.tif is a low contrast image\n",
      "  io.imsave(save_path, masks.astype(\"uint16\"))  # Assuming masks are uint16\n"
     ]
    },
    {
     "name": "stdout",
     "output_type": "stream",
     "text": [
      "Masks saved for data/05062019_B3_3_imagedata/05062019_B3_3_Phase-0067.tif at data/masks/05062019_B3_3_Phase-0067_mask.tif\n",
      "Processing image: data/05062019_B3_3_imagedata/05062019_B3_3_Phase-0068.tif\n"
     ]
    },
    {
     "name": "stderr",
     "output_type": "stream",
     "text": [
      "/home/stuart/repos/CellPhePy/src/cellphe/input.py:175: UserWarning: data/masks/05062019_B3_3_Phase-0068_mask.tif is a low contrast image\n",
      "  io.imsave(save_path, masks.astype(\"uint16\"))  # Assuming masks are uint16\n"
     ]
    },
    {
     "name": "stdout",
     "output_type": "stream",
     "text": [
      "Masks saved for data/05062019_B3_3_imagedata/05062019_B3_3_Phase-0068.tif at data/masks/05062019_B3_3_Phase-0068_mask.tif\n",
      "Processing image: data/05062019_B3_3_imagedata/05062019_B3_3_Phase-0069.tif\n"
     ]
    },
    {
     "name": "stderr",
     "output_type": "stream",
     "text": [
      "/home/stuart/repos/CellPhePy/src/cellphe/input.py:175: UserWarning: data/masks/05062019_B3_3_Phase-0069_mask.tif is a low contrast image\n",
      "  io.imsave(save_path, masks.astype(\"uint16\"))  # Assuming masks are uint16\n"
     ]
    },
    {
     "name": "stdout",
     "output_type": "stream",
     "text": [
      "Masks saved for data/05062019_B3_3_imagedata/05062019_B3_3_Phase-0069.tif at data/masks/05062019_B3_3_Phase-0069_mask.tif\n",
      "Processing image: data/05062019_B3_3_imagedata/05062019_B3_3_Phase-0070.tif\n"
     ]
    },
    {
     "name": "stderr",
     "output_type": "stream",
     "text": [
      "/home/stuart/repos/CellPhePy/src/cellphe/input.py:175: UserWarning: data/masks/05062019_B3_3_Phase-0070_mask.tif is a low contrast image\n",
      "  io.imsave(save_path, masks.astype(\"uint16\"))  # Assuming masks are uint16\n"
     ]
    },
    {
     "name": "stdout",
     "output_type": "stream",
     "text": [
      "Masks saved for data/05062019_B3_3_imagedata/05062019_B3_3_Phase-0070.tif at data/masks/05062019_B3_3_Phase-0070_mask.tif\n",
      "Processing image: data/05062019_B3_3_imagedata/05062019_B3_3_Phase-0071.tif\n"
     ]
    },
    {
     "name": "stderr",
     "output_type": "stream",
     "text": [
      "/home/stuart/repos/CellPhePy/src/cellphe/input.py:175: UserWarning: data/masks/05062019_B3_3_Phase-0071_mask.tif is a low contrast image\n",
      "  io.imsave(save_path, masks.astype(\"uint16\"))  # Assuming masks are uint16\n"
     ]
    },
    {
     "name": "stdout",
     "output_type": "stream",
     "text": [
      "Masks saved for data/05062019_B3_3_imagedata/05062019_B3_3_Phase-0071.tif at data/masks/05062019_B3_3_Phase-0071_mask.tif\n",
      "Processing image: data/05062019_B3_3_imagedata/05062019_B3_3_Phase-0072.tif\n"
     ]
    },
    {
     "name": "stderr",
     "output_type": "stream",
     "text": [
      "/home/stuart/repos/CellPhePy/src/cellphe/input.py:175: UserWarning: data/masks/05062019_B3_3_Phase-0072_mask.tif is a low contrast image\n",
      "  io.imsave(save_path, masks.astype(\"uint16\"))  # Assuming masks are uint16\n"
     ]
    },
    {
     "name": "stdout",
     "output_type": "stream",
     "text": [
      "Masks saved for data/05062019_B3_3_imagedata/05062019_B3_3_Phase-0072.tif at data/masks/05062019_B3_3_Phase-0072_mask.tif\n",
      "Processing image: data/05062019_B3_3_imagedata/05062019_B3_3_Phase-0073.tif\n"
     ]
    },
    {
     "name": "stderr",
     "output_type": "stream",
     "text": [
      "/home/stuart/repos/CellPhePy/src/cellphe/input.py:175: UserWarning: data/masks/05062019_B3_3_Phase-0073_mask.tif is a low contrast image\n",
      "  io.imsave(save_path, masks.astype(\"uint16\"))  # Assuming masks are uint16\n"
     ]
    },
    {
     "name": "stdout",
     "output_type": "stream",
     "text": [
      "Masks saved for data/05062019_B3_3_imagedata/05062019_B3_3_Phase-0073.tif at data/masks/05062019_B3_3_Phase-0073_mask.tif\n",
      "Processing image: data/05062019_B3_3_imagedata/05062019_B3_3_Phase-0074.tif\n"
     ]
    },
    {
     "name": "stderr",
     "output_type": "stream",
     "text": [
      "/home/stuart/repos/CellPhePy/src/cellphe/input.py:175: UserWarning: data/masks/05062019_B3_3_Phase-0074_mask.tif is a low contrast image\n",
      "  io.imsave(save_path, masks.astype(\"uint16\"))  # Assuming masks are uint16\n"
     ]
    },
    {
     "name": "stdout",
     "output_type": "stream",
     "text": [
      "Masks saved for data/05062019_B3_3_imagedata/05062019_B3_3_Phase-0074.tif at data/masks/05062019_B3_3_Phase-0074_mask.tif\n",
      "Processing image: data/05062019_B3_3_imagedata/05062019_B3_3_Phase-0075.tif\n"
     ]
    },
    {
     "name": "stderr",
     "output_type": "stream",
     "text": [
      "/home/stuart/repos/CellPhePy/src/cellphe/input.py:175: UserWarning: data/masks/05062019_B3_3_Phase-0075_mask.tif is a low contrast image\n",
      "  io.imsave(save_path, masks.astype(\"uint16\"))  # Assuming masks are uint16\n"
     ]
    },
    {
     "name": "stdout",
     "output_type": "stream",
     "text": [
      "Masks saved for data/05062019_B3_3_imagedata/05062019_B3_3_Phase-0075.tif at data/masks/05062019_B3_3_Phase-0075_mask.tif\n",
      "Processing image: data/05062019_B3_3_imagedata/05062019_B3_3_Phase-0076.tif\n"
     ]
    },
    {
     "name": "stderr",
     "output_type": "stream",
     "text": [
      "/home/stuart/repos/CellPhePy/src/cellphe/input.py:175: UserWarning: data/masks/05062019_B3_3_Phase-0076_mask.tif is a low contrast image\n",
      "  io.imsave(save_path, masks.astype(\"uint16\"))  # Assuming masks are uint16\n"
     ]
    },
    {
     "name": "stdout",
     "output_type": "stream",
     "text": [
      "Masks saved for data/05062019_B3_3_imagedata/05062019_B3_3_Phase-0076.tif at data/masks/05062019_B3_3_Phase-0076_mask.tif\n",
      "Processing image: data/05062019_B3_3_imagedata/05062019_B3_3_Phase-0077.tif\n"
     ]
    },
    {
     "name": "stderr",
     "output_type": "stream",
     "text": [
      "/home/stuart/repos/CellPhePy/src/cellphe/input.py:175: UserWarning: data/masks/05062019_B3_3_Phase-0077_mask.tif is a low contrast image\n",
      "  io.imsave(save_path, masks.astype(\"uint16\"))  # Assuming masks are uint16\n"
     ]
    },
    {
     "name": "stdout",
     "output_type": "stream",
     "text": [
      "Masks saved for data/05062019_B3_3_imagedata/05062019_B3_3_Phase-0077.tif at data/masks/05062019_B3_3_Phase-0077_mask.tif\n",
      "Processing image: data/05062019_B3_3_imagedata/05062019_B3_3_Phase-0078.tif\n"
     ]
    },
    {
     "name": "stderr",
     "output_type": "stream",
     "text": [
      "/home/stuart/repos/CellPhePy/src/cellphe/input.py:175: UserWarning: data/masks/05062019_B3_3_Phase-0078_mask.tif is a low contrast image\n",
      "  io.imsave(save_path, masks.astype(\"uint16\"))  # Assuming masks are uint16\n"
     ]
    },
    {
     "name": "stdout",
     "output_type": "stream",
     "text": [
      "Masks saved for data/05062019_B3_3_imagedata/05062019_B3_3_Phase-0078.tif at data/masks/05062019_B3_3_Phase-0078_mask.tif\n",
      "Processing image: data/05062019_B3_3_imagedata/05062019_B3_3_Phase-0079.tif\n"
     ]
    },
    {
     "name": "stderr",
     "output_type": "stream",
     "text": [
      "/home/stuart/repos/CellPhePy/src/cellphe/input.py:175: UserWarning: data/masks/05062019_B3_3_Phase-0079_mask.tif is a low contrast image\n",
      "  io.imsave(save_path, masks.astype(\"uint16\"))  # Assuming masks are uint16\n"
     ]
    },
    {
     "name": "stdout",
     "output_type": "stream",
     "text": [
      "Masks saved for data/05062019_B3_3_imagedata/05062019_B3_3_Phase-0079.tif at data/masks/05062019_B3_3_Phase-0079_mask.tif\n",
      "Processing image: data/05062019_B3_3_imagedata/05062019_B3_3_Phase-0080.tif\n"
     ]
    },
    {
     "name": "stderr",
     "output_type": "stream",
     "text": [
      "/home/stuart/repos/CellPhePy/src/cellphe/input.py:175: UserWarning: data/masks/05062019_B3_3_Phase-0080_mask.tif is a low contrast image\n",
      "  io.imsave(save_path, masks.astype(\"uint16\"))  # Assuming masks are uint16\n"
     ]
    },
    {
     "name": "stdout",
     "output_type": "stream",
     "text": [
      "Masks saved for data/05062019_B3_3_imagedata/05062019_B3_3_Phase-0080.tif at data/masks/05062019_B3_3_Phase-0080_mask.tif\n",
      "Processing image: data/05062019_B3_3_imagedata/05062019_B3_3_Phase-0081.tif\n"
     ]
    },
    {
     "name": "stderr",
     "output_type": "stream",
     "text": [
      "/home/stuart/repos/CellPhePy/src/cellphe/input.py:175: UserWarning: data/masks/05062019_B3_3_Phase-0081_mask.tif is a low contrast image\n",
      "  io.imsave(save_path, masks.astype(\"uint16\"))  # Assuming masks are uint16\n"
     ]
    },
    {
     "name": "stdout",
     "output_type": "stream",
     "text": [
      "Masks saved for data/05062019_B3_3_imagedata/05062019_B3_3_Phase-0081.tif at data/masks/05062019_B3_3_Phase-0081_mask.tif\n",
      "Processing image: data/05062019_B3_3_imagedata/05062019_B3_3_Phase-0082.tif\n"
     ]
    },
    {
     "name": "stderr",
     "output_type": "stream",
     "text": [
      "/home/stuart/repos/CellPhePy/src/cellphe/input.py:175: UserWarning: data/masks/05062019_B3_3_Phase-0082_mask.tif is a low contrast image\n",
      "  io.imsave(save_path, masks.astype(\"uint16\"))  # Assuming masks are uint16\n"
     ]
    },
    {
     "name": "stdout",
     "output_type": "stream",
     "text": [
      "Masks saved for data/05062019_B3_3_imagedata/05062019_B3_3_Phase-0082.tif at data/masks/05062019_B3_3_Phase-0082_mask.tif\n",
      "Processing image: data/05062019_B3_3_imagedata/05062019_B3_3_Phase-0083.tif\n"
     ]
    },
    {
     "name": "stderr",
     "output_type": "stream",
     "text": [
      "/home/stuart/repos/CellPhePy/src/cellphe/input.py:175: UserWarning: data/masks/05062019_B3_3_Phase-0083_mask.tif is a low contrast image\n",
      "  io.imsave(save_path, masks.astype(\"uint16\"))  # Assuming masks are uint16\n"
     ]
    },
    {
     "name": "stdout",
     "output_type": "stream",
     "text": [
      "Masks saved for data/05062019_B3_3_imagedata/05062019_B3_3_Phase-0083.tif at data/masks/05062019_B3_3_Phase-0083_mask.tif\n",
      "Processing image: data/05062019_B3_3_imagedata/05062019_B3_3_Phase-0084.tif\n"
     ]
    },
    {
     "name": "stderr",
     "output_type": "stream",
     "text": [
      "/home/stuart/repos/CellPhePy/src/cellphe/input.py:175: UserWarning: data/masks/05062019_B3_3_Phase-0084_mask.tif is a low contrast image\n",
      "  io.imsave(save_path, masks.astype(\"uint16\"))  # Assuming masks are uint16\n"
     ]
    },
    {
     "name": "stdout",
     "output_type": "stream",
     "text": [
      "Masks saved for data/05062019_B3_3_imagedata/05062019_B3_3_Phase-0084.tif at data/masks/05062019_B3_3_Phase-0084_mask.tif\n",
      "Processing image: data/05062019_B3_3_imagedata/05062019_B3_3_Phase-0085.tif\n"
     ]
    },
    {
     "name": "stderr",
     "output_type": "stream",
     "text": [
      "/home/stuart/repos/CellPhePy/src/cellphe/input.py:175: UserWarning: data/masks/05062019_B3_3_Phase-0085_mask.tif is a low contrast image\n",
      "  io.imsave(save_path, masks.astype(\"uint16\"))  # Assuming masks are uint16\n"
     ]
    },
    {
     "name": "stdout",
     "output_type": "stream",
     "text": [
      "Masks saved for data/05062019_B3_3_imagedata/05062019_B3_3_Phase-0085.tif at data/masks/05062019_B3_3_Phase-0085_mask.tif\n",
      "Processing image: data/05062019_B3_3_imagedata/05062019_B3_3_Phase-0086.tif\n"
     ]
    },
    {
     "name": "stderr",
     "output_type": "stream",
     "text": [
      "/home/stuart/repos/CellPhePy/src/cellphe/input.py:175: UserWarning: data/masks/05062019_B3_3_Phase-0086_mask.tif is a low contrast image\n",
      "  io.imsave(save_path, masks.astype(\"uint16\"))  # Assuming masks are uint16\n"
     ]
    },
    {
     "name": "stdout",
     "output_type": "stream",
     "text": [
      "Masks saved for data/05062019_B3_3_imagedata/05062019_B3_3_Phase-0086.tif at data/masks/05062019_B3_3_Phase-0086_mask.tif\n",
      "Processing image: data/05062019_B3_3_imagedata/05062019_B3_3_Phase-0087.tif\n"
     ]
    },
    {
     "name": "stderr",
     "output_type": "stream",
     "text": [
      "/home/stuart/repos/CellPhePy/src/cellphe/input.py:175: UserWarning: data/masks/05062019_B3_3_Phase-0087_mask.tif is a low contrast image\n",
      "  io.imsave(save_path, masks.astype(\"uint16\"))  # Assuming masks are uint16\n"
     ]
    },
    {
     "name": "stdout",
     "output_type": "stream",
     "text": [
      "Masks saved for data/05062019_B3_3_imagedata/05062019_B3_3_Phase-0087.tif at data/masks/05062019_B3_3_Phase-0087_mask.tif\n",
      "Processing image: data/05062019_B3_3_imagedata/05062019_B3_3_Phase-0088.tif\n"
     ]
    },
    {
     "name": "stderr",
     "output_type": "stream",
     "text": [
      "/home/stuart/repos/CellPhePy/src/cellphe/input.py:175: UserWarning: data/masks/05062019_B3_3_Phase-0088_mask.tif is a low contrast image\n",
      "  io.imsave(save_path, masks.astype(\"uint16\"))  # Assuming masks are uint16\n"
     ]
    },
    {
     "name": "stdout",
     "output_type": "stream",
     "text": [
      "Masks saved for data/05062019_B3_3_imagedata/05062019_B3_3_Phase-0088.tif at data/masks/05062019_B3_3_Phase-0088_mask.tif\n",
      "Processing image: data/05062019_B3_3_imagedata/05062019_B3_3_Phase-0089.tif\n"
     ]
    },
    {
     "name": "stderr",
     "output_type": "stream",
     "text": [
      "/home/stuart/repos/CellPhePy/src/cellphe/input.py:175: UserWarning: data/masks/05062019_B3_3_Phase-0089_mask.tif is a low contrast image\n",
      "  io.imsave(save_path, masks.astype(\"uint16\"))  # Assuming masks are uint16\n"
     ]
    },
    {
     "name": "stdout",
     "output_type": "stream",
     "text": [
      "Masks saved for data/05062019_B3_3_imagedata/05062019_B3_3_Phase-0089.tif at data/masks/05062019_B3_3_Phase-0089_mask.tif\n",
      "Processing image: data/05062019_B3_3_imagedata/05062019_B3_3_Phase-0090.tif\n"
     ]
    },
    {
     "name": "stderr",
     "output_type": "stream",
     "text": [
      "/home/stuart/repos/CellPhePy/src/cellphe/input.py:175: UserWarning: data/masks/05062019_B3_3_Phase-0090_mask.tif is a low contrast image\n",
      "  io.imsave(save_path, masks.astype(\"uint16\"))  # Assuming masks are uint16\n"
     ]
    },
    {
     "name": "stdout",
     "output_type": "stream",
     "text": [
      "Masks saved for data/05062019_B3_3_imagedata/05062019_B3_3_Phase-0090.tif at data/masks/05062019_B3_3_Phase-0090_mask.tif\n",
      "Processing image: data/05062019_B3_3_imagedata/05062019_B3_3_Phase-0091.tif\n"
     ]
    },
    {
     "name": "stderr",
     "output_type": "stream",
     "text": [
      "/home/stuart/repos/CellPhePy/src/cellphe/input.py:175: UserWarning: data/masks/05062019_B3_3_Phase-0091_mask.tif is a low contrast image\n",
      "  io.imsave(save_path, masks.astype(\"uint16\"))  # Assuming masks are uint16\n"
     ]
    },
    {
     "name": "stdout",
     "output_type": "stream",
     "text": [
      "Masks saved for data/05062019_B3_3_imagedata/05062019_B3_3_Phase-0091.tif at data/masks/05062019_B3_3_Phase-0091_mask.tif\n",
      "Processing image: data/05062019_B3_3_imagedata/05062019_B3_3_Phase-0092.tif\n"
     ]
    },
    {
     "name": "stderr",
     "output_type": "stream",
     "text": [
      "/home/stuart/repos/CellPhePy/src/cellphe/input.py:175: UserWarning: data/masks/05062019_B3_3_Phase-0092_mask.tif is a low contrast image\n",
      "  io.imsave(save_path, masks.astype(\"uint16\"))  # Assuming masks are uint16\n"
     ]
    },
    {
     "name": "stdout",
     "output_type": "stream",
     "text": [
      "Masks saved for data/05062019_B3_3_imagedata/05062019_B3_3_Phase-0092.tif at data/masks/05062019_B3_3_Phase-0092_mask.tif\n",
      "Processing image: data/05062019_B3_3_imagedata/05062019_B3_3_Phase-0093.tif\n"
     ]
    },
    {
     "name": "stderr",
     "output_type": "stream",
     "text": [
      "/home/stuart/repos/CellPhePy/src/cellphe/input.py:175: UserWarning: data/masks/05062019_B3_3_Phase-0093_mask.tif is a low contrast image\n",
      "  io.imsave(save_path, masks.astype(\"uint16\"))  # Assuming masks are uint16\n"
     ]
    },
    {
     "name": "stdout",
     "output_type": "stream",
     "text": [
      "Masks saved for data/05062019_B3_3_imagedata/05062019_B3_3_Phase-0093.tif at data/masks/05062019_B3_3_Phase-0093_mask.tif\n",
      "Processing image: data/05062019_B3_3_imagedata/05062019_B3_3_Phase-0094.tif\n"
     ]
    },
    {
     "name": "stderr",
     "output_type": "stream",
     "text": [
      "/home/stuart/repos/CellPhePy/src/cellphe/input.py:175: UserWarning: data/masks/05062019_B3_3_Phase-0094_mask.tif is a low contrast image\n",
      "  io.imsave(save_path, masks.astype(\"uint16\"))  # Assuming masks are uint16\n"
     ]
    },
    {
     "name": "stdout",
     "output_type": "stream",
     "text": [
      "Masks saved for data/05062019_B3_3_imagedata/05062019_B3_3_Phase-0094.tif at data/masks/05062019_B3_3_Phase-0094_mask.tif\n",
      "Processing image: data/05062019_B3_3_imagedata/05062019_B3_3_Phase-0095.tif\n"
     ]
    },
    {
     "name": "stderr",
     "output_type": "stream",
     "text": [
      "/home/stuart/repos/CellPhePy/src/cellphe/input.py:175: UserWarning: data/masks/05062019_B3_3_Phase-0095_mask.tif is a low contrast image\n",
      "  io.imsave(save_path, masks.astype(\"uint16\"))  # Assuming masks are uint16\n"
     ]
    },
    {
     "name": "stdout",
     "output_type": "stream",
     "text": [
      "Masks saved for data/05062019_B3_3_imagedata/05062019_B3_3_Phase-0095.tif at data/masks/05062019_B3_3_Phase-0095_mask.tif\n",
      "Processing image: data/05062019_B3_3_imagedata/05062019_B3_3_Phase-0096.tif\n"
     ]
    },
    {
     "name": "stderr",
     "output_type": "stream",
     "text": [
      "/home/stuart/repos/CellPhePy/src/cellphe/input.py:175: UserWarning: data/masks/05062019_B3_3_Phase-0096_mask.tif is a low contrast image\n",
      "  io.imsave(save_path, masks.astype(\"uint16\"))  # Assuming masks are uint16\n"
     ]
    },
    {
     "name": "stdout",
     "output_type": "stream",
     "text": [
      "Masks saved for data/05062019_B3_3_imagedata/05062019_B3_3_Phase-0096.tif at data/masks/05062019_B3_3_Phase-0096_mask.tif\n",
      "Processing image: data/05062019_B3_3_imagedata/05062019_B3_3_Phase-0097.tif\n"
     ]
    },
    {
     "name": "stderr",
     "output_type": "stream",
     "text": [
      "/home/stuart/repos/CellPhePy/src/cellphe/input.py:175: UserWarning: data/masks/05062019_B3_3_Phase-0097_mask.tif is a low contrast image\n",
      "  io.imsave(save_path, masks.astype(\"uint16\"))  # Assuming masks are uint16\n"
     ]
    },
    {
     "name": "stdout",
     "output_type": "stream",
     "text": [
      "Masks saved for data/05062019_B3_3_imagedata/05062019_B3_3_Phase-0097.tif at data/masks/05062019_B3_3_Phase-0097_mask.tif\n",
      "Processing image: data/05062019_B3_3_imagedata/05062019_B3_3_Phase-0098.tif\n"
     ]
    },
    {
     "name": "stderr",
     "output_type": "stream",
     "text": [
      "/home/stuart/repos/CellPhePy/src/cellphe/input.py:175: UserWarning: data/masks/05062019_B3_3_Phase-0098_mask.tif is a low contrast image\n",
      "  io.imsave(save_path, masks.astype(\"uint16\"))  # Assuming masks are uint16\n"
     ]
    },
    {
     "name": "stdout",
     "output_type": "stream",
     "text": [
      "Masks saved for data/05062019_B3_3_imagedata/05062019_B3_3_Phase-0098.tif at data/masks/05062019_B3_3_Phase-0098_mask.tif\n",
      "Processing image: data/05062019_B3_3_imagedata/05062019_B3_3_Phase-0099.tif\n"
     ]
    },
    {
     "name": "stderr",
     "output_type": "stream",
     "text": [
      "/home/stuart/repos/CellPhePy/src/cellphe/input.py:175: UserWarning: data/masks/05062019_B3_3_Phase-0099_mask.tif is a low contrast image\n",
      "  io.imsave(save_path, masks.astype(\"uint16\"))  # Assuming masks are uint16\n"
     ]
    },
    {
     "name": "stdout",
     "output_type": "stream",
     "text": [
      "Masks saved for data/05062019_B3_3_imagedata/05062019_B3_3_Phase-0099.tif at data/masks/05062019_B3_3_Phase-0099_mask.tif\n",
      "Processing image: data/05062019_B3_3_imagedata/05062019_B3_3_Phase-0100.tif\n"
     ]
    },
    {
     "name": "stderr",
     "output_type": "stream",
     "text": [
      "/home/stuart/repos/CellPhePy/src/cellphe/input.py:175: UserWarning: data/masks/05062019_B3_3_Phase-0100_mask.tif is a low contrast image\n",
      "  io.imsave(save_path, masks.astype(\"uint16\"))  # Assuming masks are uint16\n"
     ]
    },
    {
     "name": "stdout",
     "output_type": "stream",
     "text": [
      "Masks saved for data/05062019_B3_3_imagedata/05062019_B3_3_Phase-0100.tif at data/masks/05062019_B3_3_Phase-0100_mask.tif\n",
      "Processing image: data/05062019_B3_3_imagedata/05062019_B3_3_Phase-0101.tif\n"
     ]
    },
    {
     "name": "stderr",
     "output_type": "stream",
     "text": [
      "/home/stuart/repos/CellPhePy/src/cellphe/input.py:175: UserWarning: data/masks/05062019_B3_3_Phase-0101_mask.tif is a low contrast image\n",
      "  io.imsave(save_path, masks.astype(\"uint16\"))  # Assuming masks are uint16\n"
     ]
    },
    {
     "name": "stdout",
     "output_type": "stream",
     "text": [
      "Masks saved for data/05062019_B3_3_imagedata/05062019_B3_3_Phase-0101.tif at data/masks/05062019_B3_3_Phase-0101_mask.tif\n",
      "Processing image: data/05062019_B3_3_imagedata/05062019_B3_3_Phase-0102.tif\n"
     ]
    },
    {
     "name": "stderr",
     "output_type": "stream",
     "text": [
      "/home/stuart/repos/CellPhePy/src/cellphe/input.py:175: UserWarning: data/masks/05062019_B3_3_Phase-0102_mask.tif is a low contrast image\n",
      "  io.imsave(save_path, masks.astype(\"uint16\"))  # Assuming masks are uint16\n"
     ]
    },
    {
     "name": "stdout",
     "output_type": "stream",
     "text": [
      "Masks saved for data/05062019_B3_3_imagedata/05062019_B3_3_Phase-0102.tif at data/masks/05062019_B3_3_Phase-0102_mask.tif\n",
      "Processing image: data/05062019_B3_3_imagedata/05062019_B3_3_Phase-0103.tif\n"
     ]
    },
    {
     "name": "stderr",
     "output_type": "stream",
     "text": [
      "/home/stuart/repos/CellPhePy/src/cellphe/input.py:175: UserWarning: data/masks/05062019_B3_3_Phase-0103_mask.tif is a low contrast image\n",
      "  io.imsave(save_path, masks.astype(\"uint16\"))  # Assuming masks are uint16\n"
     ]
    },
    {
     "name": "stdout",
     "output_type": "stream",
     "text": [
      "Masks saved for data/05062019_B3_3_imagedata/05062019_B3_3_Phase-0103.tif at data/masks/05062019_B3_3_Phase-0103_mask.tif\n",
      "Processing image: data/05062019_B3_3_imagedata/05062019_B3_3_Phase-0104.tif\n"
     ]
    },
    {
     "name": "stderr",
     "output_type": "stream",
     "text": [
      "/home/stuart/repos/CellPhePy/src/cellphe/input.py:175: UserWarning: data/masks/05062019_B3_3_Phase-0104_mask.tif is a low contrast image\n",
      "  io.imsave(save_path, masks.astype(\"uint16\"))  # Assuming masks are uint16\n"
     ]
    },
    {
     "name": "stdout",
     "output_type": "stream",
     "text": [
      "Masks saved for data/05062019_B3_3_imagedata/05062019_B3_3_Phase-0104.tif at data/masks/05062019_B3_3_Phase-0104_mask.tif\n",
      "Processing image: data/05062019_B3_3_imagedata/05062019_B3_3_Phase-0105.tif\n"
     ]
    },
    {
     "name": "stderr",
     "output_type": "stream",
     "text": [
      "/home/stuart/repos/CellPhePy/src/cellphe/input.py:175: UserWarning: data/masks/05062019_B3_3_Phase-0105_mask.tif is a low contrast image\n",
      "  io.imsave(save_path, masks.astype(\"uint16\"))  # Assuming masks are uint16\n"
     ]
    },
    {
     "name": "stdout",
     "output_type": "stream",
     "text": [
      "Masks saved for data/05062019_B3_3_imagedata/05062019_B3_3_Phase-0105.tif at data/masks/05062019_B3_3_Phase-0105_mask.tif\n",
      "Processing image: data/05062019_B3_3_imagedata/05062019_B3_3_Phase-0106.tif\n"
     ]
    },
    {
     "name": "stderr",
     "output_type": "stream",
     "text": [
      "/home/stuart/repos/CellPhePy/src/cellphe/input.py:175: UserWarning: data/masks/05062019_B3_3_Phase-0106_mask.tif is a low contrast image\n",
      "  io.imsave(save_path, masks.astype(\"uint16\"))  # Assuming masks are uint16\n"
     ]
    },
    {
     "name": "stdout",
     "output_type": "stream",
     "text": [
      "Masks saved for data/05062019_B3_3_imagedata/05062019_B3_3_Phase-0106.tif at data/masks/05062019_B3_3_Phase-0106_mask.tif\n",
      "Processing image: data/05062019_B3_3_imagedata/05062019_B3_3_Phase-0107.tif\n"
     ]
    },
    {
     "name": "stderr",
     "output_type": "stream",
     "text": [
      "/home/stuart/repos/CellPhePy/src/cellphe/input.py:175: UserWarning: data/masks/05062019_B3_3_Phase-0107_mask.tif is a low contrast image\n",
      "  io.imsave(save_path, masks.astype(\"uint16\"))  # Assuming masks are uint16\n"
     ]
    },
    {
     "name": "stdout",
     "output_type": "stream",
     "text": [
      "Masks saved for data/05062019_B3_3_imagedata/05062019_B3_3_Phase-0107.tif at data/masks/05062019_B3_3_Phase-0107_mask.tif\n",
      "Processing image: data/05062019_B3_3_imagedata/05062019_B3_3_Phase-0108.tif\n"
     ]
    },
    {
     "name": "stderr",
     "output_type": "stream",
     "text": [
      "/home/stuart/repos/CellPhePy/src/cellphe/input.py:175: UserWarning: data/masks/05062019_B3_3_Phase-0108_mask.tif is a low contrast image\n",
      "  io.imsave(save_path, masks.astype(\"uint16\"))  # Assuming masks are uint16\n"
     ]
    },
    {
     "name": "stdout",
     "output_type": "stream",
     "text": [
      "Masks saved for data/05062019_B3_3_imagedata/05062019_B3_3_Phase-0108.tif at data/masks/05062019_B3_3_Phase-0108_mask.tif\n",
      "Processing image: data/05062019_B3_3_imagedata/05062019_B3_3_Phase-0109.tif\n"
     ]
    },
    {
     "name": "stderr",
     "output_type": "stream",
     "text": [
      "/home/stuart/repos/CellPhePy/src/cellphe/input.py:175: UserWarning: data/masks/05062019_B3_3_Phase-0109_mask.tif is a low contrast image\n",
      "  io.imsave(save_path, masks.astype(\"uint16\"))  # Assuming masks are uint16\n"
     ]
    },
    {
     "name": "stdout",
     "output_type": "stream",
     "text": [
      "Masks saved for data/05062019_B3_3_imagedata/05062019_B3_3_Phase-0109.tif at data/masks/05062019_B3_3_Phase-0109_mask.tif\n",
      "Processing image: data/05062019_B3_3_imagedata/05062019_B3_3_Phase-0110.tif\n"
     ]
    },
    {
     "name": "stderr",
     "output_type": "stream",
     "text": [
      "/home/stuart/repos/CellPhePy/src/cellphe/input.py:175: UserWarning: data/masks/05062019_B3_3_Phase-0110_mask.tif is a low contrast image\n",
      "  io.imsave(save_path, masks.astype(\"uint16\"))  # Assuming masks are uint16\n"
     ]
    },
    {
     "name": "stdout",
     "output_type": "stream",
     "text": [
      "Masks saved for data/05062019_B3_3_imagedata/05062019_B3_3_Phase-0110.tif at data/masks/05062019_B3_3_Phase-0110_mask.tif\n",
      "Processing image: data/05062019_B3_3_imagedata/05062019_B3_3_Phase-0111.tif\n"
     ]
    },
    {
     "name": "stderr",
     "output_type": "stream",
     "text": [
      "/home/stuart/repos/CellPhePy/src/cellphe/input.py:175: UserWarning: data/masks/05062019_B3_3_Phase-0111_mask.tif is a low contrast image\n",
      "  io.imsave(save_path, masks.astype(\"uint16\"))  # Assuming masks are uint16\n"
     ]
    },
    {
     "name": "stdout",
     "output_type": "stream",
     "text": [
      "Masks saved for data/05062019_B3_3_imagedata/05062019_B3_3_Phase-0111.tif at data/masks/05062019_B3_3_Phase-0111_mask.tif\n",
      "Processing image: data/05062019_B3_3_imagedata/05062019_B3_3_Phase-0112.tif\n"
     ]
    },
    {
     "name": "stderr",
     "output_type": "stream",
     "text": [
      "/home/stuart/repos/CellPhePy/src/cellphe/input.py:175: UserWarning: data/masks/05062019_B3_3_Phase-0112_mask.tif is a low contrast image\n",
      "  io.imsave(save_path, masks.astype(\"uint16\"))  # Assuming masks are uint16\n"
     ]
    },
    {
     "name": "stdout",
     "output_type": "stream",
     "text": [
      "Masks saved for data/05062019_B3_3_imagedata/05062019_B3_3_Phase-0112.tif at data/masks/05062019_B3_3_Phase-0112_mask.tif\n",
      "Processing image: data/05062019_B3_3_imagedata/05062019_B3_3_Phase-0113.tif\n"
     ]
    },
    {
     "name": "stderr",
     "output_type": "stream",
     "text": [
      "/home/stuart/repos/CellPhePy/src/cellphe/input.py:175: UserWarning: data/masks/05062019_B3_3_Phase-0113_mask.tif is a low contrast image\n",
      "  io.imsave(save_path, masks.astype(\"uint16\"))  # Assuming masks are uint16\n"
     ]
    },
    {
     "name": "stdout",
     "output_type": "stream",
     "text": [
      "Masks saved for data/05062019_B3_3_imagedata/05062019_B3_3_Phase-0113.tif at data/masks/05062019_B3_3_Phase-0113_mask.tif\n",
      "Processing image: data/05062019_B3_3_imagedata/05062019_B3_3_Phase-0114.tif\n"
     ]
    },
    {
     "name": "stderr",
     "output_type": "stream",
     "text": [
      "/home/stuart/repos/CellPhePy/src/cellphe/input.py:175: UserWarning: data/masks/05062019_B3_3_Phase-0114_mask.tif is a low contrast image\n",
      "  io.imsave(save_path, masks.astype(\"uint16\"))  # Assuming masks are uint16\n"
     ]
    },
    {
     "name": "stdout",
     "output_type": "stream",
     "text": [
      "Masks saved for data/05062019_B3_3_imagedata/05062019_B3_3_Phase-0114.tif at data/masks/05062019_B3_3_Phase-0114_mask.tif\n",
      "Processing image: data/05062019_B3_3_imagedata/05062019_B3_3_Phase-0115.tif\n"
     ]
    },
    {
     "name": "stderr",
     "output_type": "stream",
     "text": [
      "/home/stuart/repos/CellPhePy/src/cellphe/input.py:175: UserWarning: data/masks/05062019_B3_3_Phase-0115_mask.tif is a low contrast image\n",
      "  io.imsave(save_path, masks.astype(\"uint16\"))  # Assuming masks are uint16\n"
     ]
    },
    {
     "name": "stdout",
     "output_type": "stream",
     "text": [
      "Masks saved for data/05062019_B3_3_imagedata/05062019_B3_3_Phase-0115.tif at data/masks/05062019_B3_3_Phase-0115_mask.tif\n",
      "Processing image: data/05062019_B3_3_imagedata/05062019_B3_3_Phase-0116.tif\n"
     ]
    },
    {
     "name": "stderr",
     "output_type": "stream",
     "text": [
      "/home/stuart/repos/CellPhePy/src/cellphe/input.py:175: UserWarning: data/masks/05062019_B3_3_Phase-0116_mask.tif is a low contrast image\n",
      "  io.imsave(save_path, masks.astype(\"uint16\"))  # Assuming masks are uint16\n"
     ]
    },
    {
     "name": "stdout",
     "output_type": "stream",
     "text": [
      "Masks saved for data/05062019_B3_3_imagedata/05062019_B3_3_Phase-0116.tif at data/masks/05062019_B3_3_Phase-0116_mask.tif\n",
      "Processing image: data/05062019_B3_3_imagedata/05062019_B3_3_Phase-0117.tif\n"
     ]
    },
    {
     "name": "stderr",
     "output_type": "stream",
     "text": [
      "/home/stuart/repos/CellPhePy/src/cellphe/input.py:175: UserWarning: data/masks/05062019_B3_3_Phase-0117_mask.tif is a low contrast image\n",
      "  io.imsave(save_path, masks.astype(\"uint16\"))  # Assuming masks are uint16\n"
     ]
    },
    {
     "name": "stdout",
     "output_type": "stream",
     "text": [
      "Masks saved for data/05062019_B3_3_imagedata/05062019_B3_3_Phase-0117.tif at data/masks/05062019_B3_3_Phase-0117_mask.tif\n",
      "Processing image: data/05062019_B3_3_imagedata/05062019_B3_3_Phase-0118.tif\n"
     ]
    },
    {
     "name": "stderr",
     "output_type": "stream",
     "text": [
      "/home/stuart/repos/CellPhePy/src/cellphe/input.py:175: UserWarning: data/masks/05062019_B3_3_Phase-0118_mask.tif is a low contrast image\n",
      "  io.imsave(save_path, masks.astype(\"uint16\"))  # Assuming masks are uint16\n"
     ]
    },
    {
     "name": "stdout",
     "output_type": "stream",
     "text": [
      "Masks saved for data/05062019_B3_3_imagedata/05062019_B3_3_Phase-0118.tif at data/masks/05062019_B3_3_Phase-0118_mask.tif\n",
      "Processing image: data/05062019_B3_3_imagedata/05062019_B3_3_Phase-0119.tif\n"
     ]
    },
    {
     "name": "stderr",
     "output_type": "stream",
     "text": [
      "/home/stuart/repos/CellPhePy/src/cellphe/input.py:175: UserWarning: data/masks/05062019_B3_3_Phase-0119_mask.tif is a low contrast image\n",
      "  io.imsave(save_path, masks.astype(\"uint16\"))  # Assuming masks are uint16\n"
     ]
    },
    {
     "name": "stdout",
     "output_type": "stream",
     "text": [
      "Masks saved for data/05062019_B3_3_imagedata/05062019_B3_3_Phase-0119.tif at data/masks/05062019_B3_3_Phase-0119_mask.tif\n",
      "Processing image: data/05062019_B3_3_imagedata/05062019_B3_3_Phase-0120.tif\n"
     ]
    },
    {
     "name": "stderr",
     "output_type": "stream",
     "text": [
      "/home/stuart/repos/CellPhePy/src/cellphe/input.py:175: UserWarning: data/masks/05062019_B3_3_Phase-0120_mask.tif is a low contrast image\n",
      "  io.imsave(save_path, masks.astype(\"uint16\"))  # Assuming masks are uint16\n"
     ]
    },
    {
     "name": "stdout",
     "output_type": "stream",
     "text": [
      "Masks saved for data/05062019_B3_3_imagedata/05062019_B3_3_Phase-0120.tif at data/masks/05062019_B3_3_Phase-0120_mask.tif\n",
      "Processing image: data/05062019_B3_3_imagedata/05062019_B3_3_Phase-0121.tif\n"
     ]
    },
    {
     "name": "stderr",
     "output_type": "stream",
     "text": [
      "/home/stuart/repos/CellPhePy/src/cellphe/input.py:175: UserWarning: data/masks/05062019_B3_3_Phase-0121_mask.tif is a low contrast image\n",
      "  io.imsave(save_path, masks.astype(\"uint16\"))  # Assuming masks are uint16\n"
     ]
    },
    {
     "name": "stdout",
     "output_type": "stream",
     "text": [
      "Masks saved for data/05062019_B3_3_imagedata/05062019_B3_3_Phase-0121.tif at data/masks/05062019_B3_3_Phase-0121_mask.tif\n",
      "Processing image: data/05062019_B3_3_imagedata/05062019_B3_3_Phase-0122.tif\n"
     ]
    },
    {
     "name": "stderr",
     "output_type": "stream",
     "text": [
      "/home/stuart/repos/CellPhePy/src/cellphe/input.py:175: UserWarning: data/masks/05062019_B3_3_Phase-0122_mask.tif is a low contrast image\n",
      "  io.imsave(save_path, masks.astype(\"uint16\"))  # Assuming masks are uint16\n"
     ]
    },
    {
     "name": "stdout",
     "output_type": "stream",
     "text": [
      "Masks saved for data/05062019_B3_3_imagedata/05062019_B3_3_Phase-0122.tif at data/masks/05062019_B3_3_Phase-0122_mask.tif\n",
      "Processing image: data/05062019_B3_3_imagedata/05062019_B3_3_Phase-0123.tif\n"
     ]
    },
    {
     "name": "stderr",
     "output_type": "stream",
     "text": [
      "/home/stuart/repos/CellPhePy/src/cellphe/input.py:175: UserWarning: data/masks/05062019_B3_3_Phase-0123_mask.tif is a low contrast image\n",
      "  io.imsave(save_path, masks.astype(\"uint16\"))  # Assuming masks are uint16\n"
     ]
    },
    {
     "name": "stdout",
     "output_type": "stream",
     "text": [
      "Masks saved for data/05062019_B3_3_imagedata/05062019_B3_3_Phase-0123.tif at data/masks/05062019_B3_3_Phase-0123_mask.tif\n",
      "Processing image: data/05062019_B3_3_imagedata/05062019_B3_3_Phase-0124.tif\n"
     ]
    },
    {
     "name": "stderr",
     "output_type": "stream",
     "text": [
      "/home/stuart/repos/CellPhePy/src/cellphe/input.py:175: UserWarning: data/masks/05062019_B3_3_Phase-0124_mask.tif is a low contrast image\n",
      "  io.imsave(save_path, masks.astype(\"uint16\"))  # Assuming masks are uint16\n"
     ]
    },
    {
     "name": "stdout",
     "output_type": "stream",
     "text": [
      "Masks saved for data/05062019_B3_3_imagedata/05062019_B3_3_Phase-0124.tif at data/masks/05062019_B3_3_Phase-0124_mask.tif\n",
      "Processing image: data/05062019_B3_3_imagedata/05062019_B3_3_Phase-0125.tif\n"
     ]
    },
    {
     "name": "stderr",
     "output_type": "stream",
     "text": [
      "/home/stuart/repos/CellPhePy/src/cellphe/input.py:175: UserWarning: data/masks/05062019_B3_3_Phase-0125_mask.tif is a low contrast image\n",
      "  io.imsave(save_path, masks.astype(\"uint16\"))  # Assuming masks are uint16\n"
     ]
    },
    {
     "name": "stdout",
     "output_type": "stream",
     "text": [
      "Masks saved for data/05062019_B3_3_imagedata/05062019_B3_3_Phase-0125.tif at data/masks/05062019_B3_3_Phase-0125_mask.tif\n",
      "Processing image: data/05062019_B3_3_imagedata/05062019_B3_3_Phase-0126.tif\n"
     ]
    },
    {
     "name": "stderr",
     "output_type": "stream",
     "text": [
      "/home/stuart/repos/CellPhePy/src/cellphe/input.py:175: UserWarning: data/masks/05062019_B3_3_Phase-0126_mask.tif is a low contrast image\n",
      "  io.imsave(save_path, masks.astype(\"uint16\"))  # Assuming masks are uint16\n"
     ]
    },
    {
     "name": "stdout",
     "output_type": "stream",
     "text": [
      "Masks saved for data/05062019_B3_3_imagedata/05062019_B3_3_Phase-0126.tif at data/masks/05062019_B3_3_Phase-0126_mask.tif\n",
      "Processing image: data/05062019_B3_3_imagedata/05062019_B3_3_Phase-0127.tif\n"
     ]
    },
    {
     "name": "stderr",
     "output_type": "stream",
     "text": [
      "/home/stuart/repos/CellPhePy/src/cellphe/input.py:175: UserWarning: data/masks/05062019_B3_3_Phase-0127_mask.tif is a low contrast image\n",
      "  io.imsave(save_path, masks.astype(\"uint16\"))  # Assuming masks are uint16\n"
     ]
    },
    {
     "name": "stdout",
     "output_type": "stream",
     "text": [
      "Masks saved for data/05062019_B3_3_imagedata/05062019_B3_3_Phase-0127.tif at data/masks/05062019_B3_3_Phase-0127_mask.tif\n",
      "Processing image: data/05062019_B3_3_imagedata/05062019_B3_3_Phase-0128.tif\n"
     ]
    },
    {
     "name": "stderr",
     "output_type": "stream",
     "text": [
      "/home/stuart/repos/CellPhePy/src/cellphe/input.py:175: UserWarning: data/masks/05062019_B3_3_Phase-0128_mask.tif is a low contrast image\n",
      "  io.imsave(save_path, masks.astype(\"uint16\"))  # Assuming masks are uint16\n"
     ]
    },
    {
     "name": "stdout",
     "output_type": "stream",
     "text": [
      "Masks saved for data/05062019_B3_3_imagedata/05062019_B3_3_Phase-0128.tif at data/masks/05062019_B3_3_Phase-0128_mask.tif\n",
      "Processing image: data/05062019_B3_3_imagedata/05062019_B3_3_Phase-0129.tif\n"
     ]
    },
    {
     "name": "stderr",
     "output_type": "stream",
     "text": [
      "/home/stuart/repos/CellPhePy/src/cellphe/input.py:175: UserWarning: data/masks/05062019_B3_3_Phase-0129_mask.tif is a low contrast image\n",
      "  io.imsave(save_path, masks.astype(\"uint16\"))  # Assuming masks are uint16\n"
     ]
    },
    {
     "name": "stdout",
     "output_type": "stream",
     "text": [
      "Masks saved for data/05062019_B3_3_imagedata/05062019_B3_3_Phase-0129.tif at data/masks/05062019_B3_3_Phase-0129_mask.tif\n",
      "Processing image: data/05062019_B3_3_imagedata/05062019_B3_3_Phase-0130.tif\n"
     ]
    },
    {
     "name": "stderr",
     "output_type": "stream",
     "text": [
      "/home/stuart/repos/CellPhePy/src/cellphe/input.py:175: UserWarning: data/masks/05062019_B3_3_Phase-0130_mask.tif is a low contrast image\n",
      "  io.imsave(save_path, masks.astype(\"uint16\"))  # Assuming masks are uint16\n"
     ]
    },
    {
     "name": "stdout",
     "output_type": "stream",
     "text": [
      "Masks saved for data/05062019_B3_3_imagedata/05062019_B3_3_Phase-0130.tif at data/masks/05062019_B3_3_Phase-0130_mask.tif\n",
      "Processing image: data/05062019_B3_3_imagedata/05062019_B3_3_Phase-0131.tif\n"
     ]
    },
    {
     "name": "stderr",
     "output_type": "stream",
     "text": [
      "/home/stuart/repos/CellPhePy/src/cellphe/input.py:175: UserWarning: data/masks/05062019_B3_3_Phase-0131_mask.tif is a low contrast image\n",
      "  io.imsave(save_path, masks.astype(\"uint16\"))  # Assuming masks are uint16\n"
     ]
    },
    {
     "name": "stdout",
     "output_type": "stream",
     "text": [
      "Masks saved for data/05062019_B3_3_imagedata/05062019_B3_3_Phase-0131.tif at data/masks/05062019_B3_3_Phase-0131_mask.tif\n",
      "Processing image: data/05062019_B3_3_imagedata/05062019_B3_3_Phase-0132.tif\n"
     ]
    },
    {
     "name": "stderr",
     "output_type": "stream",
     "text": [
      "/home/stuart/repos/CellPhePy/src/cellphe/input.py:175: UserWarning: data/masks/05062019_B3_3_Phase-0132_mask.tif is a low contrast image\n",
      "  io.imsave(save_path, masks.astype(\"uint16\"))  # Assuming masks are uint16\n"
     ]
    },
    {
     "name": "stdout",
     "output_type": "stream",
     "text": [
      "Masks saved for data/05062019_B3_3_imagedata/05062019_B3_3_Phase-0132.tif at data/masks/05062019_B3_3_Phase-0132_mask.tif\n",
      "Processing image: data/05062019_B3_3_imagedata/05062019_B3_3_Phase-0133.tif\n"
     ]
    },
    {
     "name": "stderr",
     "output_type": "stream",
     "text": [
      "/home/stuart/repos/CellPhePy/src/cellphe/input.py:175: UserWarning: data/masks/05062019_B3_3_Phase-0133_mask.tif is a low contrast image\n",
      "  io.imsave(save_path, masks.astype(\"uint16\"))  # Assuming masks are uint16\n"
     ]
    },
    {
     "name": "stdout",
     "output_type": "stream",
     "text": [
      "Masks saved for data/05062019_B3_3_imagedata/05062019_B3_3_Phase-0133.tif at data/masks/05062019_B3_3_Phase-0133_mask.tif\n",
      "Processing image: data/05062019_B3_3_imagedata/05062019_B3_3_Phase-0134.tif\n"
     ]
    },
    {
     "name": "stderr",
     "output_type": "stream",
     "text": [
      "/home/stuart/repos/CellPhePy/src/cellphe/input.py:175: UserWarning: data/masks/05062019_B3_3_Phase-0134_mask.tif is a low contrast image\n",
      "  io.imsave(save_path, masks.astype(\"uint16\"))  # Assuming masks are uint16\n"
     ]
    },
    {
     "name": "stdout",
     "output_type": "stream",
     "text": [
      "Masks saved for data/05062019_B3_3_imagedata/05062019_B3_3_Phase-0134.tif at data/masks/05062019_B3_3_Phase-0134_mask.tif\n",
      "Processing image: data/05062019_B3_3_imagedata/05062019_B3_3_Phase-0135.tif\n"
     ]
    },
    {
     "name": "stderr",
     "output_type": "stream",
     "text": [
      "/home/stuart/repos/CellPhePy/src/cellphe/input.py:175: UserWarning: data/masks/05062019_B3_3_Phase-0135_mask.tif is a low contrast image\n",
      "  io.imsave(save_path, masks.astype(\"uint16\"))  # Assuming masks are uint16\n"
     ]
    },
    {
     "name": "stdout",
     "output_type": "stream",
     "text": [
      "Masks saved for data/05062019_B3_3_imagedata/05062019_B3_3_Phase-0135.tif at data/masks/05062019_B3_3_Phase-0135_mask.tif\n",
      "Processing image: data/05062019_B3_3_imagedata/05062019_B3_3_Phase-0136.tif\n"
     ]
    },
    {
     "name": "stderr",
     "output_type": "stream",
     "text": [
      "/home/stuart/repos/CellPhePy/src/cellphe/input.py:175: UserWarning: data/masks/05062019_B3_3_Phase-0136_mask.tif is a low contrast image\n",
      "  io.imsave(save_path, masks.astype(\"uint16\"))  # Assuming masks are uint16\n"
     ]
    },
    {
     "name": "stdout",
     "output_type": "stream",
     "text": [
      "Masks saved for data/05062019_B3_3_imagedata/05062019_B3_3_Phase-0136.tif at data/masks/05062019_B3_3_Phase-0136_mask.tif\n",
      "Processing image: data/05062019_B3_3_imagedata/05062019_B3_3_Phase-0137.tif\n"
     ]
    },
    {
     "name": "stderr",
     "output_type": "stream",
     "text": [
      "/home/stuart/repos/CellPhePy/src/cellphe/input.py:175: UserWarning: data/masks/05062019_B3_3_Phase-0137_mask.tif is a low contrast image\n",
      "  io.imsave(save_path, masks.astype(\"uint16\"))  # Assuming masks are uint16\n"
     ]
    },
    {
     "name": "stdout",
     "output_type": "stream",
     "text": [
      "Masks saved for data/05062019_B3_3_imagedata/05062019_B3_3_Phase-0137.tif at data/masks/05062019_B3_3_Phase-0137_mask.tif\n",
      "Processing image: data/05062019_B3_3_imagedata/05062019_B3_3_Phase-0138.tif\n"
     ]
    },
    {
     "name": "stderr",
     "output_type": "stream",
     "text": [
      "/home/stuart/repos/CellPhePy/src/cellphe/input.py:175: UserWarning: data/masks/05062019_B3_3_Phase-0138_mask.tif is a low contrast image\n",
      "  io.imsave(save_path, masks.astype(\"uint16\"))  # Assuming masks are uint16\n"
     ]
    },
    {
     "name": "stdout",
     "output_type": "stream",
     "text": [
      "Masks saved for data/05062019_B3_3_imagedata/05062019_B3_3_Phase-0138.tif at data/masks/05062019_B3_3_Phase-0138_mask.tif\n",
      "Processing image: data/05062019_B3_3_imagedata/05062019_B3_3_Phase-0139.tif\n"
     ]
    },
    {
     "name": "stderr",
     "output_type": "stream",
     "text": [
      "/home/stuart/repos/CellPhePy/src/cellphe/input.py:175: UserWarning: data/masks/05062019_B3_3_Phase-0139_mask.tif is a low contrast image\n",
      "  io.imsave(save_path, masks.astype(\"uint16\"))  # Assuming masks are uint16\n"
     ]
    },
    {
     "name": "stdout",
     "output_type": "stream",
     "text": [
      "Masks saved for data/05062019_B3_3_imagedata/05062019_B3_3_Phase-0139.tif at data/masks/05062019_B3_3_Phase-0139_mask.tif\n",
      "Processing image: data/05062019_B3_3_imagedata/05062019_B3_3_Phase-0140.tif\n"
     ]
    },
    {
     "name": "stderr",
     "output_type": "stream",
     "text": [
      "/home/stuart/repos/CellPhePy/src/cellphe/input.py:175: UserWarning: data/masks/05062019_B3_3_Phase-0140_mask.tif is a low contrast image\n",
      "  io.imsave(save_path, masks.astype(\"uint16\"))  # Assuming masks are uint16\n"
     ]
    },
    {
     "name": "stdout",
     "output_type": "stream",
     "text": [
      "Masks saved for data/05062019_B3_3_imagedata/05062019_B3_3_Phase-0140.tif at data/masks/05062019_B3_3_Phase-0140_mask.tif\n",
      "Processing image: data/05062019_B3_3_imagedata/05062019_B3_3_Phase-0141.tif\n"
     ]
    },
    {
     "name": "stderr",
     "output_type": "stream",
     "text": [
      "/home/stuart/repos/CellPhePy/src/cellphe/input.py:175: UserWarning: data/masks/05062019_B3_3_Phase-0141_mask.tif is a low contrast image\n",
      "  io.imsave(save_path, masks.astype(\"uint16\"))  # Assuming masks are uint16\n"
     ]
    },
    {
     "name": "stdout",
     "output_type": "stream",
     "text": [
      "Masks saved for data/05062019_B3_3_imagedata/05062019_B3_3_Phase-0141.tif at data/masks/05062019_B3_3_Phase-0141_mask.tif\n",
      "Processing image: data/05062019_B3_3_imagedata/05062019_B3_3_Phase-0142.tif\n"
     ]
    },
    {
     "name": "stderr",
     "output_type": "stream",
     "text": [
      "/home/stuart/repos/CellPhePy/src/cellphe/input.py:175: UserWarning: data/masks/05062019_B3_3_Phase-0142_mask.tif is a low contrast image\n",
      "  io.imsave(save_path, masks.astype(\"uint16\"))  # Assuming masks are uint16\n"
     ]
    },
    {
     "name": "stdout",
     "output_type": "stream",
     "text": [
      "Masks saved for data/05062019_B3_3_imagedata/05062019_B3_3_Phase-0142.tif at data/masks/05062019_B3_3_Phase-0142_mask.tif\n",
      "Processing image: data/05062019_B3_3_imagedata/05062019_B3_3_Phase-0143.tif\n"
     ]
    },
    {
     "name": "stderr",
     "output_type": "stream",
     "text": [
      "/home/stuart/repos/CellPhePy/src/cellphe/input.py:175: UserWarning: data/masks/05062019_B3_3_Phase-0143_mask.tif is a low contrast image\n",
      "  io.imsave(save_path, masks.astype(\"uint16\"))  # Assuming masks are uint16\n"
     ]
    },
    {
     "name": "stdout",
     "output_type": "stream",
     "text": [
      "Masks saved for data/05062019_B3_3_imagedata/05062019_B3_3_Phase-0143.tif at data/masks/05062019_B3_3_Phase-0143_mask.tif\n",
      "Processing image: data/05062019_B3_3_imagedata/05062019_B3_3_Phase-0144.tif\n"
     ]
    },
    {
     "name": "stderr",
     "output_type": "stream",
     "text": [
      "/home/stuart/repos/CellPhePy/src/cellphe/input.py:175: UserWarning: data/masks/05062019_B3_3_Phase-0144_mask.tif is a low contrast image\n",
      "  io.imsave(save_path, masks.astype(\"uint16\"))  # Assuming masks are uint16\n"
     ]
    },
    {
     "name": "stdout",
     "output_type": "stream",
     "text": [
      "Masks saved for data/05062019_B3_3_imagedata/05062019_B3_3_Phase-0144.tif at data/masks/05062019_B3_3_Phase-0144_mask.tif\n",
      "Processing image: data/05062019_B3_3_imagedata/05062019_B3_3_Phase-0145.tif\n"
     ]
    },
    {
     "name": "stderr",
     "output_type": "stream",
     "text": [
      "/home/stuart/repos/CellPhePy/src/cellphe/input.py:175: UserWarning: data/masks/05062019_B3_3_Phase-0145_mask.tif is a low contrast image\n",
      "  io.imsave(save_path, masks.astype(\"uint16\"))  # Assuming masks are uint16\n"
     ]
    },
    {
     "name": "stdout",
     "output_type": "stream",
     "text": [
      "Masks saved for data/05062019_B3_3_imagedata/05062019_B3_3_Phase-0145.tif at data/masks/05062019_B3_3_Phase-0145_mask.tif\n",
      "Processing image: data/05062019_B3_3_imagedata/05062019_B3_3_Phase-0146.tif\n"
     ]
    },
    {
     "name": "stderr",
     "output_type": "stream",
     "text": [
      "/home/stuart/repos/CellPhePy/src/cellphe/input.py:175: UserWarning: data/masks/05062019_B3_3_Phase-0146_mask.tif is a low contrast image\n",
      "  io.imsave(save_path, masks.astype(\"uint16\"))  # Assuming masks are uint16\n"
     ]
    },
    {
     "name": "stdout",
     "output_type": "stream",
     "text": [
      "Masks saved for data/05062019_B3_3_imagedata/05062019_B3_3_Phase-0146.tif at data/masks/05062019_B3_3_Phase-0146_mask.tif\n",
      "Processing image: data/05062019_B3_3_imagedata/05062019_B3_3_Phase-0147.tif\n"
     ]
    },
    {
     "name": "stderr",
     "output_type": "stream",
     "text": [
      "/home/stuart/repos/CellPhePy/src/cellphe/input.py:175: UserWarning: data/masks/05062019_B3_3_Phase-0147_mask.tif is a low contrast image\n",
      "  io.imsave(save_path, masks.astype(\"uint16\"))  # Assuming masks are uint16\n"
     ]
    },
    {
     "name": "stdout",
     "output_type": "stream",
     "text": [
      "Masks saved for data/05062019_B3_3_imagedata/05062019_B3_3_Phase-0147.tif at data/masks/05062019_B3_3_Phase-0147_mask.tif\n",
      "Processing image: data/05062019_B3_3_imagedata/05062019_B3_3_Phase-0148.tif\n"
     ]
    },
    {
     "name": "stderr",
     "output_type": "stream",
     "text": [
      "/home/stuart/repos/CellPhePy/src/cellphe/input.py:175: UserWarning: data/masks/05062019_B3_3_Phase-0148_mask.tif is a low contrast image\n",
      "  io.imsave(save_path, masks.astype(\"uint16\"))  # Assuming masks are uint16\n"
     ]
    },
    {
     "name": "stdout",
     "output_type": "stream",
     "text": [
      "Masks saved for data/05062019_B3_3_imagedata/05062019_B3_3_Phase-0148.tif at data/masks/05062019_B3_3_Phase-0148_mask.tif\n",
      "Processing image: data/05062019_B3_3_imagedata/05062019_B3_3_Phase-0149.tif\n"
     ]
    },
    {
     "name": "stderr",
     "output_type": "stream",
     "text": [
      "/home/stuart/repos/CellPhePy/src/cellphe/input.py:175: UserWarning: data/masks/05062019_B3_3_Phase-0149_mask.tif is a low contrast image\n",
      "  io.imsave(save_path, masks.astype(\"uint16\"))  # Assuming masks are uint16\n"
     ]
    },
    {
     "name": "stdout",
     "output_type": "stream",
     "text": [
      "Masks saved for data/05062019_B3_3_imagedata/05062019_B3_3_Phase-0149.tif at data/masks/05062019_B3_3_Phase-0149_mask.tif\n",
      "Processing image: data/05062019_B3_3_imagedata/05062019_B3_3_Phase-0150.tif\n"
     ]
    },
    {
     "name": "stderr",
     "output_type": "stream",
     "text": [
      "/home/stuart/repos/CellPhePy/src/cellphe/input.py:175: UserWarning: data/masks/05062019_B3_3_Phase-0150_mask.tif is a low contrast image\n",
      "  io.imsave(save_path, masks.astype(\"uint16\"))  # Assuming masks are uint16\n"
     ]
    },
    {
     "name": "stdout",
     "output_type": "stream",
     "text": [
      "Masks saved for data/05062019_B3_3_imagedata/05062019_B3_3_Phase-0150.tif at data/masks/05062019_B3_3_Phase-0150_mask.tif\n",
      "Processing image: data/05062019_B3_3_imagedata/05062019_B3_3_Phase-0151.tif\n"
     ]
    },
    {
     "name": "stderr",
     "output_type": "stream",
     "text": [
      "/home/stuart/repos/CellPhePy/src/cellphe/input.py:175: UserWarning: data/masks/05062019_B3_3_Phase-0151_mask.tif is a low contrast image\n",
      "  io.imsave(save_path, masks.astype(\"uint16\"))  # Assuming masks are uint16\n"
     ]
    },
    {
     "name": "stdout",
     "output_type": "stream",
     "text": [
      "Masks saved for data/05062019_B3_3_imagedata/05062019_B3_3_Phase-0151.tif at data/masks/05062019_B3_3_Phase-0151_mask.tif\n",
      "Processing image: data/05062019_B3_3_imagedata/05062019_B3_3_Phase-0152.tif\n"
     ]
    },
    {
     "name": "stderr",
     "output_type": "stream",
     "text": [
      "/home/stuart/repos/CellPhePy/src/cellphe/input.py:175: UserWarning: data/masks/05062019_B3_3_Phase-0152_mask.tif is a low contrast image\n",
      "  io.imsave(save_path, masks.astype(\"uint16\"))  # Assuming masks are uint16\n"
     ]
    },
    {
     "name": "stdout",
     "output_type": "stream",
     "text": [
      "Masks saved for data/05062019_B3_3_imagedata/05062019_B3_3_Phase-0152.tif at data/masks/05062019_B3_3_Phase-0152_mask.tif\n",
      "Processing image: data/05062019_B3_3_imagedata/05062019_B3_3_Phase-0153.tif\n"
     ]
    },
    {
     "name": "stderr",
     "output_type": "stream",
     "text": [
      "/home/stuart/repos/CellPhePy/src/cellphe/input.py:175: UserWarning: data/masks/05062019_B3_3_Phase-0153_mask.tif is a low contrast image\n",
      "  io.imsave(save_path, masks.astype(\"uint16\"))  # Assuming masks are uint16\n"
     ]
    },
    {
     "name": "stdout",
     "output_type": "stream",
     "text": [
      "Masks saved for data/05062019_B3_3_imagedata/05062019_B3_3_Phase-0153.tif at data/masks/05062019_B3_3_Phase-0153_mask.tif\n",
      "Processing image: data/05062019_B3_3_imagedata/05062019_B3_3_Phase-0154.tif\n"
     ]
    },
    {
     "name": "stderr",
     "output_type": "stream",
     "text": [
      "/home/stuart/repos/CellPhePy/src/cellphe/input.py:175: UserWarning: data/masks/05062019_B3_3_Phase-0154_mask.tif is a low contrast image\n",
      "  io.imsave(save_path, masks.astype(\"uint16\"))  # Assuming masks are uint16\n"
     ]
    },
    {
     "name": "stdout",
     "output_type": "stream",
     "text": [
      "Masks saved for data/05062019_B3_3_imagedata/05062019_B3_3_Phase-0154.tif at data/masks/05062019_B3_3_Phase-0154_mask.tif\n",
      "Processing image: data/05062019_B3_3_imagedata/05062019_B3_3_Phase-0155.tif\n"
     ]
    },
    {
     "name": "stderr",
     "output_type": "stream",
     "text": [
      "/home/stuart/repos/CellPhePy/src/cellphe/input.py:175: UserWarning: data/masks/05062019_B3_3_Phase-0155_mask.tif is a low contrast image\n",
      "  io.imsave(save_path, masks.astype(\"uint16\"))  # Assuming masks are uint16\n"
     ]
    },
    {
     "name": "stdout",
     "output_type": "stream",
     "text": [
      "Masks saved for data/05062019_B3_3_imagedata/05062019_B3_3_Phase-0155.tif at data/masks/05062019_B3_3_Phase-0155_mask.tif\n",
      "Processing image: data/05062019_B3_3_imagedata/05062019_B3_3_Phase-0156.tif\n"
     ]
    },
    {
     "name": "stderr",
     "output_type": "stream",
     "text": [
      "/home/stuart/repos/CellPhePy/src/cellphe/input.py:175: UserWarning: data/masks/05062019_B3_3_Phase-0156_mask.tif is a low contrast image\n",
      "  io.imsave(save_path, masks.astype(\"uint16\"))  # Assuming masks are uint16\n"
     ]
    },
    {
     "name": "stdout",
     "output_type": "stream",
     "text": [
      "Masks saved for data/05062019_B3_3_imagedata/05062019_B3_3_Phase-0156.tif at data/masks/05062019_B3_3_Phase-0156_mask.tif\n",
      "Processing image: data/05062019_B3_3_imagedata/05062019_B3_3_Phase-0157.tif\n"
     ]
    },
    {
     "name": "stderr",
     "output_type": "stream",
     "text": [
      "/home/stuart/repos/CellPhePy/src/cellphe/input.py:175: UserWarning: data/masks/05062019_B3_3_Phase-0157_mask.tif is a low contrast image\n",
      "  io.imsave(save_path, masks.astype(\"uint16\"))  # Assuming masks are uint16\n"
     ]
    },
    {
     "name": "stdout",
     "output_type": "stream",
     "text": [
      "Masks saved for data/05062019_B3_3_imagedata/05062019_B3_3_Phase-0157.tif at data/masks/05062019_B3_3_Phase-0157_mask.tif\n",
      "Processing image: data/05062019_B3_3_imagedata/05062019_B3_3_Phase-0158.tif\n"
     ]
    },
    {
     "name": "stderr",
     "output_type": "stream",
     "text": [
      "/home/stuart/repos/CellPhePy/src/cellphe/input.py:175: UserWarning: data/masks/05062019_B3_3_Phase-0158_mask.tif is a low contrast image\n",
      "  io.imsave(save_path, masks.astype(\"uint16\"))  # Assuming masks are uint16\n"
     ]
    },
    {
     "name": "stdout",
     "output_type": "stream",
     "text": [
      "Masks saved for data/05062019_B3_3_imagedata/05062019_B3_3_Phase-0158.tif at data/masks/05062019_B3_3_Phase-0158_mask.tif\n",
      "Processing image: data/05062019_B3_3_imagedata/05062019_B3_3_Phase-0159.tif\n"
     ]
    },
    {
     "name": "stderr",
     "output_type": "stream",
     "text": [
      "/home/stuart/repos/CellPhePy/src/cellphe/input.py:175: UserWarning: data/masks/05062019_B3_3_Phase-0159_mask.tif is a low contrast image\n",
      "  io.imsave(save_path, masks.astype(\"uint16\"))  # Assuming masks are uint16\n"
     ]
    },
    {
     "name": "stdout",
     "output_type": "stream",
     "text": [
      "Masks saved for data/05062019_B3_3_imagedata/05062019_B3_3_Phase-0159.tif at data/masks/05062019_B3_3_Phase-0159_mask.tif\n",
      "Processing image: data/05062019_B3_3_imagedata/05062019_B3_3_Phase-0160.tif\n"
     ]
    },
    {
     "name": "stderr",
     "output_type": "stream",
     "text": [
      "/home/stuart/repos/CellPhePy/src/cellphe/input.py:175: UserWarning: data/masks/05062019_B3_3_Phase-0160_mask.tif is a low contrast image\n",
      "  io.imsave(save_path, masks.astype(\"uint16\"))  # Assuming masks are uint16\n"
     ]
    },
    {
     "name": "stdout",
     "output_type": "stream",
     "text": [
      "Masks saved for data/05062019_B3_3_imagedata/05062019_B3_3_Phase-0160.tif at data/masks/05062019_B3_3_Phase-0160_mask.tif\n",
      "Processing image: data/05062019_B3_3_imagedata/05062019_B3_3_Phase-0161.tif\n"
     ]
    },
    {
     "name": "stderr",
     "output_type": "stream",
     "text": [
      "/home/stuart/repos/CellPhePy/src/cellphe/input.py:175: UserWarning: data/masks/05062019_B3_3_Phase-0161_mask.tif is a low contrast image\n",
      "  io.imsave(save_path, masks.astype(\"uint16\"))  # Assuming masks are uint16\n"
     ]
    },
    {
     "name": "stdout",
     "output_type": "stream",
     "text": [
      "Masks saved for data/05062019_B3_3_imagedata/05062019_B3_3_Phase-0161.tif at data/masks/05062019_B3_3_Phase-0161_mask.tif\n",
      "Processing image: data/05062019_B3_3_imagedata/05062019_B3_3_Phase-0162.tif\n"
     ]
    },
    {
     "name": "stderr",
     "output_type": "stream",
     "text": [
      "/home/stuart/repos/CellPhePy/src/cellphe/input.py:175: UserWarning: data/masks/05062019_B3_3_Phase-0162_mask.tif is a low contrast image\n",
      "  io.imsave(save_path, masks.astype(\"uint16\"))  # Assuming masks are uint16\n"
     ]
    },
    {
     "name": "stdout",
     "output_type": "stream",
     "text": [
      "Masks saved for data/05062019_B3_3_imagedata/05062019_B3_3_Phase-0162.tif at data/masks/05062019_B3_3_Phase-0162_mask.tif\n",
      "Processing image: data/05062019_B3_3_imagedata/05062019_B3_3_Phase-0163.tif\n"
     ]
    },
    {
     "name": "stderr",
     "output_type": "stream",
     "text": [
      "/home/stuart/repos/CellPhePy/src/cellphe/input.py:175: UserWarning: data/masks/05062019_B3_3_Phase-0163_mask.tif is a low contrast image\n",
      "  io.imsave(save_path, masks.astype(\"uint16\"))  # Assuming masks are uint16\n"
     ]
    },
    {
     "name": "stdout",
     "output_type": "stream",
     "text": [
      "Masks saved for data/05062019_B3_3_imagedata/05062019_B3_3_Phase-0163.tif at data/masks/05062019_B3_3_Phase-0163_mask.tif\n",
      "Processing image: data/05062019_B3_3_imagedata/05062019_B3_3_Phase-0164.tif\n"
     ]
    },
    {
     "name": "stderr",
     "output_type": "stream",
     "text": [
      "/home/stuart/repos/CellPhePy/src/cellphe/input.py:175: UserWarning: data/masks/05062019_B3_3_Phase-0164_mask.tif is a low contrast image\n",
      "  io.imsave(save_path, masks.astype(\"uint16\"))  # Assuming masks are uint16\n"
     ]
    },
    {
     "name": "stdout",
     "output_type": "stream",
     "text": [
      "Masks saved for data/05062019_B3_3_imagedata/05062019_B3_3_Phase-0164.tif at data/masks/05062019_B3_3_Phase-0164_mask.tif\n",
      "Processing image: data/05062019_B3_3_imagedata/05062019_B3_3_Phase-0165.tif\n"
     ]
    },
    {
     "name": "stderr",
     "output_type": "stream",
     "text": [
      "/home/stuart/repos/CellPhePy/src/cellphe/input.py:175: UserWarning: data/masks/05062019_B3_3_Phase-0165_mask.tif is a low contrast image\n",
      "  io.imsave(save_path, masks.astype(\"uint16\"))  # Assuming masks are uint16\n"
     ]
    },
    {
     "name": "stdout",
     "output_type": "stream",
     "text": [
      "Masks saved for data/05062019_B3_3_imagedata/05062019_B3_3_Phase-0165.tif at data/masks/05062019_B3_3_Phase-0165_mask.tif\n",
      "Processing image: data/05062019_B3_3_imagedata/05062019_B3_3_Phase-0166.tif\n"
     ]
    },
    {
     "name": "stderr",
     "output_type": "stream",
     "text": [
      "/home/stuart/repos/CellPhePy/src/cellphe/input.py:175: UserWarning: data/masks/05062019_B3_3_Phase-0166_mask.tif is a low contrast image\n",
      "  io.imsave(save_path, masks.astype(\"uint16\"))  # Assuming masks are uint16\n"
     ]
    },
    {
     "name": "stdout",
     "output_type": "stream",
     "text": [
      "Masks saved for data/05062019_B3_3_imagedata/05062019_B3_3_Phase-0166.tif at data/masks/05062019_B3_3_Phase-0166_mask.tif\n",
      "Processing image: data/05062019_B3_3_imagedata/05062019_B3_3_Phase-0167.tif\n"
     ]
    },
    {
     "name": "stderr",
     "output_type": "stream",
     "text": [
      "/home/stuart/repos/CellPhePy/src/cellphe/input.py:175: UserWarning: data/masks/05062019_B3_3_Phase-0167_mask.tif is a low contrast image\n",
      "  io.imsave(save_path, masks.astype(\"uint16\"))  # Assuming masks are uint16\n"
     ]
    },
    {
     "name": "stdout",
     "output_type": "stream",
     "text": [
      "Masks saved for data/05062019_B3_3_imagedata/05062019_B3_3_Phase-0167.tif at data/masks/05062019_B3_3_Phase-0167_mask.tif\n",
      "Processing image: data/05062019_B3_3_imagedata/05062019_B3_3_Phase-0168.tif\n"
     ]
    },
    {
     "name": "stderr",
     "output_type": "stream",
     "text": [
      "/home/stuart/repos/CellPhePy/src/cellphe/input.py:175: UserWarning: data/masks/05062019_B3_3_Phase-0168_mask.tif is a low contrast image\n",
      "  io.imsave(save_path, masks.astype(\"uint16\"))  # Assuming masks are uint16\n"
     ]
    },
    {
     "name": "stdout",
     "output_type": "stream",
     "text": [
      "Masks saved for data/05062019_B3_3_imagedata/05062019_B3_3_Phase-0168.tif at data/masks/05062019_B3_3_Phase-0168_mask.tif\n",
      "Processing image: data/05062019_B3_3_imagedata/05062019_B3_3_Phase-0169.tif\n"
     ]
    },
    {
     "name": "stderr",
     "output_type": "stream",
     "text": [
      "/home/stuart/repos/CellPhePy/src/cellphe/input.py:175: UserWarning: data/masks/05062019_B3_3_Phase-0169_mask.tif is a low contrast image\n",
      "  io.imsave(save_path, masks.astype(\"uint16\"))  # Assuming masks are uint16\n"
     ]
    },
    {
     "name": "stdout",
     "output_type": "stream",
     "text": [
      "Masks saved for data/05062019_B3_3_imagedata/05062019_B3_3_Phase-0169.tif at data/masks/05062019_B3_3_Phase-0169_mask.tif\n",
      "Processing image: data/05062019_B3_3_imagedata/05062019_B3_3_Phase-0170.tif\n"
     ]
    },
    {
     "name": "stderr",
     "output_type": "stream",
     "text": [
      "/home/stuart/repos/CellPhePy/src/cellphe/input.py:175: UserWarning: data/masks/05062019_B3_3_Phase-0170_mask.tif is a low contrast image\n",
      "  io.imsave(save_path, masks.astype(\"uint16\"))  # Assuming masks are uint16\n"
     ]
    },
    {
     "name": "stdout",
     "output_type": "stream",
     "text": [
      "Masks saved for data/05062019_B3_3_imagedata/05062019_B3_3_Phase-0170.tif at data/masks/05062019_B3_3_Phase-0170_mask.tif\n",
      "Processing image: data/05062019_B3_3_imagedata/05062019_B3_3_Phase-0171.tif\n"
     ]
    },
    {
     "name": "stderr",
     "output_type": "stream",
     "text": [
      "/home/stuart/repos/CellPhePy/src/cellphe/input.py:175: UserWarning: data/masks/05062019_B3_3_Phase-0171_mask.tif is a low contrast image\n",
      "  io.imsave(save_path, masks.astype(\"uint16\"))  # Assuming masks are uint16\n"
     ]
    },
    {
     "name": "stdout",
     "output_type": "stream",
     "text": [
      "Masks saved for data/05062019_B3_3_imagedata/05062019_B3_3_Phase-0171.tif at data/masks/05062019_B3_3_Phase-0171_mask.tif\n",
      "Processing image: data/05062019_B3_3_imagedata/05062019_B3_3_Phase-0172.tif\n"
     ]
    },
    {
     "name": "stderr",
     "output_type": "stream",
     "text": [
      "/home/stuart/repos/CellPhePy/src/cellphe/input.py:175: UserWarning: data/masks/05062019_B3_3_Phase-0172_mask.tif is a low contrast image\n",
      "  io.imsave(save_path, masks.astype(\"uint16\"))  # Assuming masks are uint16\n"
     ]
    },
    {
     "name": "stdout",
     "output_type": "stream",
     "text": [
      "Masks saved for data/05062019_B3_3_imagedata/05062019_B3_3_Phase-0172.tif at data/masks/05062019_B3_3_Phase-0172_mask.tif\n",
      "Processing image: data/05062019_B3_3_imagedata/05062019_B3_3_Phase-0173.tif\n"
     ]
    },
    {
     "name": "stderr",
     "output_type": "stream",
     "text": [
      "/home/stuart/repos/CellPhePy/src/cellphe/input.py:175: UserWarning: data/masks/05062019_B3_3_Phase-0173_mask.tif is a low contrast image\n",
      "  io.imsave(save_path, masks.astype(\"uint16\"))  # Assuming masks are uint16\n"
     ]
    },
    {
     "name": "stdout",
     "output_type": "stream",
     "text": [
      "Masks saved for data/05062019_B3_3_imagedata/05062019_B3_3_Phase-0173.tif at data/masks/05062019_B3_3_Phase-0173_mask.tif\n",
      "Processing image: data/05062019_B3_3_imagedata/05062019_B3_3_Phase-0174.tif\n"
     ]
    },
    {
     "name": "stderr",
     "output_type": "stream",
     "text": [
      "/home/stuart/repos/CellPhePy/src/cellphe/input.py:175: UserWarning: data/masks/05062019_B3_3_Phase-0174_mask.tif is a low contrast image\n",
      "  io.imsave(save_path, masks.astype(\"uint16\"))  # Assuming masks are uint16\n"
     ]
    },
    {
     "name": "stdout",
     "output_type": "stream",
     "text": [
      "Masks saved for data/05062019_B3_3_imagedata/05062019_B3_3_Phase-0174.tif at data/masks/05062019_B3_3_Phase-0174_mask.tif\n",
      "Processing image: data/05062019_B3_3_imagedata/05062019_B3_3_Phase-0175.tif\n"
     ]
    },
    {
     "name": "stderr",
     "output_type": "stream",
     "text": [
      "/home/stuart/repos/CellPhePy/src/cellphe/input.py:175: UserWarning: data/masks/05062019_B3_3_Phase-0175_mask.tif is a low contrast image\n",
      "  io.imsave(save_path, masks.astype(\"uint16\"))  # Assuming masks are uint16\n"
     ]
    },
    {
     "name": "stdout",
     "output_type": "stream",
     "text": [
      "Masks saved for data/05062019_B3_3_imagedata/05062019_B3_3_Phase-0175.tif at data/masks/05062019_B3_3_Phase-0175_mask.tif\n",
      "Processing image: data/05062019_B3_3_imagedata/05062019_B3_3_Phase-0176.tif\n"
     ]
    },
    {
     "name": "stderr",
     "output_type": "stream",
     "text": [
      "/home/stuart/repos/CellPhePy/src/cellphe/input.py:175: UserWarning: data/masks/05062019_B3_3_Phase-0176_mask.tif is a low contrast image\n",
      "  io.imsave(save_path, masks.astype(\"uint16\"))  # Assuming masks are uint16\n"
     ]
    },
    {
     "name": "stdout",
     "output_type": "stream",
     "text": [
      "Masks saved for data/05062019_B3_3_imagedata/05062019_B3_3_Phase-0176.tif at data/masks/05062019_B3_3_Phase-0176_mask.tif\n",
      "Processing image: data/05062019_B3_3_imagedata/05062019_B3_3_Phase-0177.tif\n"
     ]
    },
    {
     "name": "stderr",
     "output_type": "stream",
     "text": [
      "/home/stuart/repos/CellPhePy/src/cellphe/input.py:175: UserWarning: data/masks/05062019_B3_3_Phase-0177_mask.tif is a low contrast image\n",
      "  io.imsave(save_path, masks.astype(\"uint16\"))  # Assuming masks are uint16\n"
     ]
    },
    {
     "name": "stdout",
     "output_type": "stream",
     "text": [
      "Masks saved for data/05062019_B3_3_imagedata/05062019_B3_3_Phase-0177.tif at data/masks/05062019_B3_3_Phase-0177_mask.tif\n",
      "Processing image: data/05062019_B3_3_imagedata/05062019_B3_3_Phase-0178.tif\n"
     ]
    },
    {
     "name": "stderr",
     "output_type": "stream",
     "text": [
      "/home/stuart/repos/CellPhePy/src/cellphe/input.py:175: UserWarning: data/masks/05062019_B3_3_Phase-0178_mask.tif is a low contrast image\n",
      "  io.imsave(save_path, masks.astype(\"uint16\"))  # Assuming masks are uint16\n"
     ]
    },
    {
     "name": "stdout",
     "output_type": "stream",
     "text": [
      "Masks saved for data/05062019_B3_3_imagedata/05062019_B3_3_Phase-0178.tif at data/masks/05062019_B3_3_Phase-0178_mask.tif\n",
      "Processing image: data/05062019_B3_3_imagedata/05062019_B3_3_Phase-0179.tif\n"
     ]
    },
    {
     "name": "stderr",
     "output_type": "stream",
     "text": [
      "/home/stuart/repos/CellPhePy/src/cellphe/input.py:175: UserWarning: data/masks/05062019_B3_3_Phase-0179_mask.tif is a low contrast image\n",
      "  io.imsave(save_path, masks.astype(\"uint16\"))  # Assuming masks are uint16\n"
     ]
    },
    {
     "name": "stdout",
     "output_type": "stream",
     "text": [
      "Masks saved for data/05062019_B3_3_imagedata/05062019_B3_3_Phase-0179.tif at data/masks/05062019_B3_3_Phase-0179_mask.tif\n",
      "Processing image: data/05062019_B3_3_imagedata/05062019_B3_3_Phase-0180.tif\n"
     ]
    },
    {
     "name": "stderr",
     "output_type": "stream",
     "text": [
      "/home/stuart/repos/CellPhePy/src/cellphe/input.py:175: UserWarning: data/masks/05062019_B3_3_Phase-0180_mask.tif is a low contrast image\n",
      "  io.imsave(save_path, masks.astype(\"uint16\"))  # Assuming masks are uint16\n"
     ]
    },
    {
     "name": "stdout",
     "output_type": "stream",
     "text": [
      "Masks saved for data/05062019_B3_3_imagedata/05062019_B3_3_Phase-0180.tif at data/masks/05062019_B3_3_Phase-0180_mask.tif\n",
      "Processing image: data/05062019_B3_3_imagedata/05062019_B3_3_Phase-0181.tif\n"
     ]
    },
    {
     "name": "stderr",
     "output_type": "stream",
     "text": [
      "/home/stuart/repos/CellPhePy/src/cellphe/input.py:175: UserWarning: data/masks/05062019_B3_3_Phase-0181_mask.tif is a low contrast image\n",
      "  io.imsave(save_path, masks.astype(\"uint16\"))  # Assuming masks are uint16\n"
     ]
    },
    {
     "name": "stdout",
     "output_type": "stream",
     "text": [
      "Masks saved for data/05062019_B3_3_imagedata/05062019_B3_3_Phase-0181.tif at data/masks/05062019_B3_3_Phase-0181_mask.tif\n",
      "Processing image: data/05062019_B3_3_imagedata/05062019_B3_3_Phase-0182.tif\n"
     ]
    },
    {
     "name": "stderr",
     "output_type": "stream",
     "text": [
      "/home/stuart/repos/CellPhePy/src/cellphe/input.py:175: UserWarning: data/masks/05062019_B3_3_Phase-0182_mask.tif is a low contrast image\n",
      "  io.imsave(save_path, masks.astype(\"uint16\"))  # Assuming masks are uint16\n"
     ]
    },
    {
     "name": "stdout",
     "output_type": "stream",
     "text": [
      "Masks saved for data/05062019_B3_3_imagedata/05062019_B3_3_Phase-0182.tif at data/masks/05062019_B3_3_Phase-0182_mask.tif\n",
      "Processing image: data/05062019_B3_3_imagedata/05062019_B3_3_Phase-0183.tif\n"
     ]
    },
    {
     "name": "stderr",
     "output_type": "stream",
     "text": [
      "/home/stuart/repos/CellPhePy/src/cellphe/input.py:175: UserWarning: data/masks/05062019_B3_3_Phase-0183_mask.tif is a low contrast image\n",
      "  io.imsave(save_path, masks.astype(\"uint16\"))  # Assuming masks are uint16\n"
     ]
    },
    {
     "name": "stdout",
     "output_type": "stream",
     "text": [
      "Masks saved for data/05062019_B3_3_imagedata/05062019_B3_3_Phase-0183.tif at data/masks/05062019_B3_3_Phase-0183_mask.tif\n",
      "Processing image: data/05062019_B3_3_imagedata/05062019_B3_3_Phase-0184.tif\n"
     ]
    },
    {
     "name": "stderr",
     "output_type": "stream",
     "text": [
      "/home/stuart/repos/CellPhePy/src/cellphe/input.py:175: UserWarning: data/masks/05062019_B3_3_Phase-0184_mask.tif is a low contrast image\n",
      "  io.imsave(save_path, masks.astype(\"uint16\"))  # Assuming masks are uint16\n"
     ]
    },
    {
     "name": "stdout",
     "output_type": "stream",
     "text": [
      "Masks saved for data/05062019_B3_3_imagedata/05062019_B3_3_Phase-0184.tif at data/masks/05062019_B3_3_Phase-0184_mask.tif\n",
      "Processing image: data/05062019_B3_3_imagedata/05062019_B3_3_Phase-0185.tif\n"
     ]
    },
    {
     "name": "stderr",
     "output_type": "stream",
     "text": [
      "/home/stuart/repos/CellPhePy/src/cellphe/input.py:175: UserWarning: data/masks/05062019_B3_3_Phase-0185_mask.tif is a low contrast image\n",
      "  io.imsave(save_path, masks.astype(\"uint16\"))  # Assuming masks are uint16\n"
     ]
    },
    {
     "name": "stdout",
     "output_type": "stream",
     "text": [
      "Masks saved for data/05062019_B3_3_imagedata/05062019_B3_3_Phase-0185.tif at data/masks/05062019_B3_3_Phase-0185_mask.tif\n",
      "Processing image: data/05062019_B3_3_imagedata/05062019_B3_3_Phase-0186.tif\n"
     ]
    },
    {
     "name": "stderr",
     "output_type": "stream",
     "text": [
      "/home/stuart/repos/CellPhePy/src/cellphe/input.py:175: UserWarning: data/masks/05062019_B3_3_Phase-0186_mask.tif is a low contrast image\n",
      "  io.imsave(save_path, masks.astype(\"uint16\"))  # Assuming masks are uint16\n"
     ]
    },
    {
     "name": "stdout",
     "output_type": "stream",
     "text": [
      "Masks saved for data/05062019_B3_3_imagedata/05062019_B3_3_Phase-0186.tif at data/masks/05062019_B3_3_Phase-0186_mask.tif\n",
      "Processing image: data/05062019_B3_3_imagedata/05062019_B3_3_Phase-0187.tif\n"
     ]
    },
    {
     "name": "stderr",
     "output_type": "stream",
     "text": [
      "/home/stuart/repos/CellPhePy/src/cellphe/input.py:175: UserWarning: data/masks/05062019_B3_3_Phase-0187_mask.tif is a low contrast image\n",
      "  io.imsave(save_path, masks.astype(\"uint16\"))  # Assuming masks are uint16\n"
     ]
    },
    {
     "name": "stdout",
     "output_type": "stream",
     "text": [
      "Masks saved for data/05062019_B3_3_imagedata/05062019_B3_3_Phase-0187.tif at data/masks/05062019_B3_3_Phase-0187_mask.tif\n",
      "Processing image: data/05062019_B3_3_imagedata/05062019_B3_3_Phase-0188.tif\n"
     ]
    },
    {
     "name": "stderr",
     "output_type": "stream",
     "text": [
      "/home/stuart/repos/CellPhePy/src/cellphe/input.py:175: UserWarning: data/masks/05062019_B3_3_Phase-0188_mask.tif is a low contrast image\n",
      "  io.imsave(save_path, masks.astype(\"uint16\"))  # Assuming masks are uint16\n"
     ]
    },
    {
     "name": "stdout",
     "output_type": "stream",
     "text": [
      "Masks saved for data/05062019_B3_3_imagedata/05062019_B3_3_Phase-0188.tif at data/masks/05062019_B3_3_Phase-0188_mask.tif\n",
      "Processing image: data/05062019_B3_3_imagedata/05062019_B3_3_Phase-0189.tif\n"
     ]
    },
    {
     "name": "stderr",
     "output_type": "stream",
     "text": [
      "/home/stuart/repos/CellPhePy/src/cellphe/input.py:175: UserWarning: data/masks/05062019_B3_3_Phase-0189_mask.tif is a low contrast image\n",
      "  io.imsave(save_path, masks.astype(\"uint16\"))  # Assuming masks are uint16\n"
     ]
    },
    {
     "name": "stdout",
     "output_type": "stream",
     "text": [
      "Masks saved for data/05062019_B3_3_imagedata/05062019_B3_3_Phase-0189.tif at data/masks/05062019_B3_3_Phase-0189_mask.tif\n",
      "Processing image: data/05062019_B3_3_imagedata/05062019_B3_3_Phase-0190.tif\n"
     ]
    },
    {
     "name": "stderr",
     "output_type": "stream",
     "text": [
      "/home/stuart/repos/CellPhePy/src/cellphe/input.py:175: UserWarning: data/masks/05062019_B3_3_Phase-0190_mask.tif is a low contrast image\n",
      "  io.imsave(save_path, masks.astype(\"uint16\"))  # Assuming masks are uint16\n"
     ]
    },
    {
     "name": "stdout",
     "output_type": "stream",
     "text": [
      "Masks saved for data/05062019_B3_3_imagedata/05062019_B3_3_Phase-0190.tif at data/masks/05062019_B3_3_Phase-0190_mask.tif\n",
      "Processing image: data/05062019_B3_3_imagedata/05062019_B3_3_Phase-0191.tif\n"
     ]
    },
    {
     "name": "stderr",
     "output_type": "stream",
     "text": [
      "/home/stuart/repos/CellPhePy/src/cellphe/input.py:175: UserWarning: data/masks/05062019_B3_3_Phase-0191_mask.tif is a low contrast image\n",
      "  io.imsave(save_path, masks.astype(\"uint16\"))  # Assuming masks are uint16\n"
     ]
    },
    {
     "name": "stdout",
     "output_type": "stream",
     "text": [
      "Masks saved for data/05062019_B3_3_imagedata/05062019_B3_3_Phase-0191.tif at data/masks/05062019_B3_3_Phase-0191_mask.tif\n",
      "Processing image: data/05062019_B3_3_imagedata/05062019_B3_3_Phase-0192.tif\n"
     ]
    },
    {
     "name": "stderr",
     "output_type": "stream",
     "text": [
      "/home/stuart/repos/CellPhePy/src/cellphe/input.py:175: UserWarning: data/masks/05062019_B3_3_Phase-0192_mask.tif is a low contrast image\n",
      "  io.imsave(save_path, masks.astype(\"uint16\"))  # Assuming masks are uint16\n"
     ]
    },
    {
     "name": "stdout",
     "output_type": "stream",
     "text": [
      "Masks saved for data/05062019_B3_3_imagedata/05062019_B3_3_Phase-0192.tif at data/masks/05062019_B3_3_Phase-0192_mask.tif\n",
      "Processing image: data/05062019_B3_3_imagedata/05062019_B3_3_Phase-0193.tif\n"
     ]
    },
    {
     "name": "stderr",
     "output_type": "stream",
     "text": [
      "/home/stuart/repos/CellPhePy/src/cellphe/input.py:175: UserWarning: data/masks/05062019_B3_3_Phase-0193_mask.tif is a low contrast image\n",
      "  io.imsave(save_path, masks.astype(\"uint16\"))  # Assuming masks are uint16\n"
     ]
    },
    {
     "name": "stdout",
     "output_type": "stream",
     "text": [
      "Masks saved for data/05062019_B3_3_imagedata/05062019_B3_3_Phase-0193.tif at data/masks/05062019_B3_3_Phase-0193_mask.tif\n",
      "Processing image: data/05062019_B3_3_imagedata/05062019_B3_3_Phase-0194.tif\n"
     ]
    },
    {
     "name": "stderr",
     "output_type": "stream",
     "text": [
      "/home/stuart/repos/CellPhePy/src/cellphe/input.py:175: UserWarning: data/masks/05062019_B3_3_Phase-0194_mask.tif is a low contrast image\n",
      "  io.imsave(save_path, masks.astype(\"uint16\"))  # Assuming masks are uint16\n"
     ]
    },
    {
     "name": "stdout",
     "output_type": "stream",
     "text": [
      "Masks saved for data/05062019_B3_3_imagedata/05062019_B3_3_Phase-0194.tif at data/masks/05062019_B3_3_Phase-0194_mask.tif\n",
      "Processing image: data/05062019_B3_3_imagedata/05062019_B3_3_Phase-0195.tif\n"
     ]
    },
    {
     "name": "stderr",
     "output_type": "stream",
     "text": [
      "/home/stuart/repos/CellPhePy/src/cellphe/input.py:175: UserWarning: data/masks/05062019_B3_3_Phase-0195_mask.tif is a low contrast image\n",
      "  io.imsave(save_path, masks.astype(\"uint16\"))  # Assuming masks are uint16\n"
     ]
    },
    {
     "name": "stdout",
     "output_type": "stream",
     "text": [
      "Masks saved for data/05062019_B3_3_imagedata/05062019_B3_3_Phase-0195.tif at data/masks/05062019_B3_3_Phase-0195_mask.tif\n",
      "Processing image: data/05062019_B3_3_imagedata/05062019_B3_3_Phase-0196.tif\n"
     ]
    },
    {
     "name": "stderr",
     "output_type": "stream",
     "text": [
      "/home/stuart/repos/CellPhePy/src/cellphe/input.py:175: UserWarning: data/masks/05062019_B3_3_Phase-0196_mask.tif is a low contrast image\n",
      "  io.imsave(save_path, masks.astype(\"uint16\"))  # Assuming masks are uint16\n"
     ]
    },
    {
     "name": "stdout",
     "output_type": "stream",
     "text": [
      "Masks saved for data/05062019_B3_3_imagedata/05062019_B3_3_Phase-0196.tif at data/masks/05062019_B3_3_Phase-0196_mask.tif\n",
      "Processing image: data/05062019_B3_3_imagedata/05062019_B3_3_Phase-0197.tif\n"
     ]
    },
    {
     "name": "stderr",
     "output_type": "stream",
     "text": [
      "/home/stuart/repos/CellPhePy/src/cellphe/input.py:175: UserWarning: data/masks/05062019_B3_3_Phase-0197_mask.tif is a low contrast image\n",
      "  io.imsave(save_path, masks.astype(\"uint16\"))  # Assuming masks are uint16\n"
     ]
    },
    {
     "name": "stdout",
     "output_type": "stream",
     "text": [
      "Masks saved for data/05062019_B3_3_imagedata/05062019_B3_3_Phase-0197.tif at data/masks/05062019_B3_3_Phase-0197_mask.tif\n",
      "Processing image: data/05062019_B3_3_imagedata/05062019_B3_3_Phase-0198.tif\n"
     ]
    },
    {
     "name": "stderr",
     "output_type": "stream",
     "text": [
      "/home/stuart/repos/CellPhePy/src/cellphe/input.py:175: UserWarning: data/masks/05062019_B3_3_Phase-0198_mask.tif is a low contrast image\n",
      "  io.imsave(save_path, masks.astype(\"uint16\"))  # Assuming masks are uint16\n"
     ]
    },
    {
     "name": "stdout",
     "output_type": "stream",
     "text": [
      "Masks saved for data/05062019_B3_3_imagedata/05062019_B3_3_Phase-0198.tif at data/masks/05062019_B3_3_Phase-0198_mask.tif\n",
      "Processing image: data/05062019_B3_3_imagedata/05062019_B3_3_Phase-0199.tif\n"
     ]
    },
    {
     "name": "stderr",
     "output_type": "stream",
     "text": [
      "/home/stuart/repos/CellPhePy/src/cellphe/input.py:175: UserWarning: data/masks/05062019_B3_3_Phase-0199_mask.tif is a low contrast image\n",
      "  io.imsave(save_path, masks.astype(\"uint16\"))  # Assuming masks are uint16\n"
     ]
    },
    {
     "name": "stdout",
     "output_type": "stream",
     "text": [
      "Masks saved for data/05062019_B3_3_imagedata/05062019_B3_3_Phase-0199.tif at data/masks/05062019_B3_3_Phase-0199_mask.tif\n",
      "Processing image: data/05062019_B3_3_imagedata/05062019_B3_3_Phase-0200.tif\n"
     ]
    },
    {
     "name": "stderr",
     "output_type": "stream",
     "text": [
      "/home/stuart/repos/CellPhePy/src/cellphe/input.py:175: UserWarning: data/masks/05062019_B3_3_Phase-0200_mask.tif is a low contrast image\n",
      "  io.imsave(save_path, masks.astype(\"uint16\"))  # Assuming masks are uint16\n"
     ]
    },
    {
     "name": "stdout",
     "output_type": "stream",
     "text": [
      "Masks saved for data/05062019_B3_3_imagedata/05062019_B3_3_Phase-0200.tif at data/masks/05062019_B3_3_Phase-0200_mask.tif\n",
      "Processing image: data/05062019_B3_3_imagedata/05062019_B3_3_Phase-0201.tif\n"
     ]
    },
    {
     "name": "stderr",
     "output_type": "stream",
     "text": [
      "/home/stuart/repos/CellPhePy/src/cellphe/input.py:175: UserWarning: data/masks/05062019_B3_3_Phase-0201_mask.tif is a low contrast image\n",
      "  io.imsave(save_path, masks.astype(\"uint16\"))  # Assuming masks are uint16\n"
     ]
    },
    {
     "name": "stdout",
     "output_type": "stream",
     "text": [
      "Masks saved for data/05062019_B3_3_imagedata/05062019_B3_3_Phase-0201.tif at data/masks/05062019_B3_3_Phase-0201_mask.tif\n",
      "Processing image: data/05062019_B3_3_imagedata/05062019_B3_3_Phase-0202.tif\n"
     ]
    },
    {
     "name": "stderr",
     "output_type": "stream",
     "text": [
      "/home/stuart/repos/CellPhePy/src/cellphe/input.py:175: UserWarning: data/masks/05062019_B3_3_Phase-0202_mask.tif is a low contrast image\n",
      "  io.imsave(save_path, masks.astype(\"uint16\"))  # Assuming masks are uint16\n"
     ]
    },
    {
     "name": "stdout",
     "output_type": "stream",
     "text": [
      "Masks saved for data/05062019_B3_3_imagedata/05062019_B3_3_Phase-0202.tif at data/masks/05062019_B3_3_Phase-0202_mask.tif\n",
      "Processing image: data/05062019_B3_3_imagedata/05062019_B3_3_Phase-0203.tif\n"
     ]
    },
    {
     "name": "stderr",
     "output_type": "stream",
     "text": [
      "/home/stuart/repos/CellPhePy/src/cellphe/input.py:175: UserWarning: data/masks/05062019_B3_3_Phase-0203_mask.tif is a low contrast image\n",
      "  io.imsave(save_path, masks.astype(\"uint16\"))  # Assuming masks are uint16\n"
     ]
    },
    {
     "name": "stdout",
     "output_type": "stream",
     "text": [
      "Masks saved for data/05062019_B3_3_imagedata/05062019_B3_3_Phase-0203.tif at data/masks/05062019_B3_3_Phase-0203_mask.tif\n",
      "Processing image: data/05062019_B3_3_imagedata/05062019_B3_3_Phase-0204.tif\n"
     ]
    },
    {
     "name": "stderr",
     "output_type": "stream",
     "text": [
      "/home/stuart/repos/CellPhePy/src/cellphe/input.py:175: UserWarning: data/masks/05062019_B3_3_Phase-0204_mask.tif is a low contrast image\n",
      "  io.imsave(save_path, masks.astype(\"uint16\"))  # Assuming masks are uint16\n"
     ]
    },
    {
     "name": "stdout",
     "output_type": "stream",
     "text": [
      "Masks saved for data/05062019_B3_3_imagedata/05062019_B3_3_Phase-0204.tif at data/masks/05062019_B3_3_Phase-0204_mask.tif\n",
      "Processing image: data/05062019_B3_3_imagedata/05062019_B3_3_Phase-0205.tif\n"
     ]
    },
    {
     "name": "stderr",
     "output_type": "stream",
     "text": [
      "/home/stuart/repos/CellPhePy/src/cellphe/input.py:175: UserWarning: data/masks/05062019_B3_3_Phase-0205_mask.tif is a low contrast image\n",
      "  io.imsave(save_path, masks.astype(\"uint16\"))  # Assuming masks are uint16\n"
     ]
    },
    {
     "name": "stdout",
     "output_type": "stream",
     "text": [
      "Masks saved for data/05062019_B3_3_imagedata/05062019_B3_3_Phase-0205.tif at data/masks/05062019_B3_3_Phase-0205_mask.tif\n",
      "Processing image: data/05062019_B3_3_imagedata/05062019_B3_3_Phase-0206.tif\n"
     ]
    },
    {
     "name": "stderr",
     "output_type": "stream",
     "text": [
      "/home/stuart/repos/CellPhePy/src/cellphe/input.py:175: UserWarning: data/masks/05062019_B3_3_Phase-0206_mask.tif is a low contrast image\n",
      "  io.imsave(save_path, masks.astype(\"uint16\"))  # Assuming masks are uint16\n"
     ]
    },
    {
     "name": "stdout",
     "output_type": "stream",
     "text": [
      "Masks saved for data/05062019_B3_3_imagedata/05062019_B3_3_Phase-0206.tif at data/masks/05062019_B3_3_Phase-0206_mask.tif\n",
      "Processing image: data/05062019_B3_3_imagedata/05062019_B3_3_Phase-0207.tif\n"
     ]
    },
    {
     "name": "stderr",
     "output_type": "stream",
     "text": [
      "/home/stuart/repos/CellPhePy/src/cellphe/input.py:175: UserWarning: data/masks/05062019_B3_3_Phase-0207_mask.tif is a low contrast image\n",
      "  io.imsave(save_path, masks.astype(\"uint16\"))  # Assuming masks are uint16\n"
     ]
    },
    {
     "name": "stdout",
     "output_type": "stream",
     "text": [
      "Masks saved for data/05062019_B3_3_imagedata/05062019_B3_3_Phase-0207.tif at data/masks/05062019_B3_3_Phase-0207_mask.tif\n",
      "Processing image: data/05062019_B3_3_imagedata/05062019_B3_3_Phase-0208.tif\n"
     ]
    },
    {
     "name": "stderr",
     "output_type": "stream",
     "text": [
      "/home/stuart/repos/CellPhePy/src/cellphe/input.py:175: UserWarning: data/masks/05062019_B3_3_Phase-0208_mask.tif is a low contrast image\n",
      "  io.imsave(save_path, masks.astype(\"uint16\"))  # Assuming masks are uint16\n"
     ]
    },
    {
     "name": "stdout",
     "output_type": "stream",
     "text": [
      "Masks saved for data/05062019_B3_3_imagedata/05062019_B3_3_Phase-0208.tif at data/masks/05062019_B3_3_Phase-0208_mask.tif\n",
      "Processing image: data/05062019_B3_3_imagedata/05062019_B3_3_Phase-0209.tif\n"
     ]
    },
    {
     "name": "stderr",
     "output_type": "stream",
     "text": [
      "/home/stuart/repos/CellPhePy/src/cellphe/input.py:175: UserWarning: data/masks/05062019_B3_3_Phase-0209_mask.tif is a low contrast image\n",
      "  io.imsave(save_path, masks.astype(\"uint16\"))  # Assuming masks are uint16\n"
     ]
    },
    {
     "name": "stdout",
     "output_type": "stream",
     "text": [
      "Masks saved for data/05062019_B3_3_imagedata/05062019_B3_3_Phase-0209.tif at data/masks/05062019_B3_3_Phase-0209_mask.tif\n",
      "Processing image: data/05062019_B3_3_imagedata/05062019_B3_3_Phase-0210.tif\n"
     ]
    },
    {
     "name": "stderr",
     "output_type": "stream",
     "text": [
      "/home/stuart/repos/CellPhePy/src/cellphe/input.py:175: UserWarning: data/masks/05062019_B3_3_Phase-0210_mask.tif is a low contrast image\n",
      "  io.imsave(save_path, masks.astype(\"uint16\"))  # Assuming masks are uint16\n"
     ]
    },
    {
     "name": "stdout",
     "output_type": "stream",
     "text": [
      "Masks saved for data/05062019_B3_3_imagedata/05062019_B3_3_Phase-0210.tif at data/masks/05062019_B3_3_Phase-0210_mask.tif\n",
      "Processing image: data/05062019_B3_3_imagedata/05062019_B3_3_Phase-0211.tif\n"
     ]
    },
    {
     "name": "stderr",
     "output_type": "stream",
     "text": [
      "/home/stuart/repos/CellPhePy/src/cellphe/input.py:175: UserWarning: data/masks/05062019_B3_3_Phase-0211_mask.tif is a low contrast image\n",
      "  io.imsave(save_path, masks.astype(\"uint16\"))  # Assuming masks are uint16\n"
     ]
    },
    {
     "name": "stdout",
     "output_type": "stream",
     "text": [
      "Masks saved for data/05062019_B3_3_imagedata/05062019_B3_3_Phase-0211.tif at data/masks/05062019_B3_3_Phase-0211_mask.tif\n",
      "Processing image: data/05062019_B3_3_imagedata/05062019_B3_3_Phase-0212.tif\n"
     ]
    },
    {
     "name": "stderr",
     "output_type": "stream",
     "text": [
      "/home/stuart/repos/CellPhePy/src/cellphe/input.py:175: UserWarning: data/masks/05062019_B3_3_Phase-0212_mask.tif is a low contrast image\n",
      "  io.imsave(save_path, masks.astype(\"uint16\"))  # Assuming masks are uint16\n"
     ]
    },
    {
     "name": "stdout",
     "output_type": "stream",
     "text": [
      "Masks saved for data/05062019_B3_3_imagedata/05062019_B3_3_Phase-0212.tif at data/masks/05062019_B3_3_Phase-0212_mask.tif\n",
      "Processing image: data/05062019_B3_3_imagedata/05062019_B3_3_Phase-0213.tif\n"
     ]
    },
    {
     "name": "stderr",
     "output_type": "stream",
     "text": [
      "/home/stuart/repos/CellPhePy/src/cellphe/input.py:175: UserWarning: data/masks/05062019_B3_3_Phase-0213_mask.tif is a low contrast image\n",
      "  io.imsave(save_path, masks.astype(\"uint16\"))  # Assuming masks are uint16\n"
     ]
    },
    {
     "name": "stdout",
     "output_type": "stream",
     "text": [
      "Masks saved for data/05062019_B3_3_imagedata/05062019_B3_3_Phase-0213.tif at data/masks/05062019_B3_3_Phase-0213_mask.tif\n",
      "Processing image: data/05062019_B3_3_imagedata/05062019_B3_3_Phase-0214.tif\n"
     ]
    },
    {
     "name": "stderr",
     "output_type": "stream",
     "text": [
      "/home/stuart/repos/CellPhePy/src/cellphe/input.py:175: UserWarning: data/masks/05062019_B3_3_Phase-0214_mask.tif is a low contrast image\n",
      "  io.imsave(save_path, masks.astype(\"uint16\"))  # Assuming masks are uint16\n"
     ]
    },
    {
     "name": "stdout",
     "output_type": "stream",
     "text": [
      "Masks saved for data/05062019_B3_3_imagedata/05062019_B3_3_Phase-0214.tif at data/masks/05062019_B3_3_Phase-0214_mask.tif\n",
      "Processing image: data/05062019_B3_3_imagedata/05062019_B3_3_Phase-0215.tif\n"
     ]
    },
    {
     "name": "stderr",
     "output_type": "stream",
     "text": [
      "/home/stuart/repos/CellPhePy/src/cellphe/input.py:175: UserWarning: data/masks/05062019_B3_3_Phase-0215_mask.tif is a low contrast image\n",
      "  io.imsave(save_path, masks.astype(\"uint16\"))  # Assuming masks are uint16\n"
     ]
    },
    {
     "name": "stdout",
     "output_type": "stream",
     "text": [
      "Masks saved for data/05062019_B3_3_imagedata/05062019_B3_3_Phase-0215.tif at data/masks/05062019_B3_3_Phase-0215_mask.tif\n",
      "Processing image: data/05062019_B3_3_imagedata/05062019_B3_3_Phase-0216.tif\n"
     ]
    },
    {
     "name": "stderr",
     "output_type": "stream",
     "text": [
      "/home/stuart/repos/CellPhePy/src/cellphe/input.py:175: UserWarning: data/masks/05062019_B3_3_Phase-0216_mask.tif is a low contrast image\n",
      "  io.imsave(save_path, masks.astype(\"uint16\"))  # Assuming masks are uint16\n"
     ]
    },
    {
     "name": "stdout",
     "output_type": "stream",
     "text": [
      "Masks saved for data/05062019_B3_3_imagedata/05062019_B3_3_Phase-0216.tif at data/masks/05062019_B3_3_Phase-0216_mask.tif\n",
      "Processing image: data/05062019_B3_3_imagedata/05062019_B3_3_Phase-0217.tif\n"
     ]
    },
    {
     "name": "stderr",
     "output_type": "stream",
     "text": [
      "/home/stuart/repos/CellPhePy/src/cellphe/input.py:175: UserWarning: data/masks/05062019_B3_3_Phase-0217_mask.tif is a low contrast image\n",
      "  io.imsave(save_path, masks.astype(\"uint16\"))  # Assuming masks are uint16\n"
     ]
    },
    {
     "name": "stdout",
     "output_type": "stream",
     "text": [
      "Masks saved for data/05062019_B3_3_imagedata/05062019_B3_3_Phase-0217.tif at data/masks/05062019_B3_3_Phase-0217_mask.tif\n",
      "Processing image: data/05062019_B3_3_imagedata/05062019_B3_3_Phase-0218.tif\n"
     ]
    },
    {
     "name": "stderr",
     "output_type": "stream",
     "text": [
      "/home/stuart/repos/CellPhePy/src/cellphe/input.py:175: UserWarning: data/masks/05062019_B3_3_Phase-0218_mask.tif is a low contrast image\n",
      "  io.imsave(save_path, masks.astype(\"uint16\"))  # Assuming masks are uint16\n"
     ]
    },
    {
     "name": "stdout",
     "output_type": "stream",
     "text": [
      "Masks saved for data/05062019_B3_3_imagedata/05062019_B3_3_Phase-0218.tif at data/masks/05062019_B3_3_Phase-0218_mask.tif\n",
      "Processing image: data/05062019_B3_3_imagedata/05062019_B3_3_Phase-0219.tif\n"
     ]
    },
    {
     "name": "stderr",
     "output_type": "stream",
     "text": [
      "/home/stuart/repos/CellPhePy/src/cellphe/input.py:175: UserWarning: data/masks/05062019_B3_3_Phase-0219_mask.tif is a low contrast image\n",
      "  io.imsave(save_path, masks.astype(\"uint16\"))  # Assuming masks are uint16\n"
     ]
    },
    {
     "name": "stdout",
     "output_type": "stream",
     "text": [
      "Masks saved for data/05062019_B3_3_imagedata/05062019_B3_3_Phase-0219.tif at data/masks/05062019_B3_3_Phase-0219_mask.tif\n",
      "Processing image: data/05062019_B3_3_imagedata/05062019_B3_3_Phase-0220.tif\n"
     ]
    },
    {
     "name": "stderr",
     "output_type": "stream",
     "text": [
      "/home/stuart/repos/CellPhePy/src/cellphe/input.py:175: UserWarning: data/masks/05062019_B3_3_Phase-0220_mask.tif is a low contrast image\n",
      "  io.imsave(save_path, masks.astype(\"uint16\"))  # Assuming masks are uint16\n"
     ]
    },
    {
     "name": "stdout",
     "output_type": "stream",
     "text": [
      "Masks saved for data/05062019_B3_3_imagedata/05062019_B3_3_Phase-0220.tif at data/masks/05062019_B3_3_Phase-0220_mask.tif\n",
      "Processing image: data/05062019_B3_3_imagedata/05062019_B3_3_Phase-0221.tif\n"
     ]
    },
    {
     "name": "stderr",
     "output_type": "stream",
     "text": [
      "/home/stuart/repos/CellPhePy/src/cellphe/input.py:175: UserWarning: data/masks/05062019_B3_3_Phase-0221_mask.tif is a low contrast image\n",
      "  io.imsave(save_path, masks.astype(\"uint16\"))  # Assuming masks are uint16\n"
     ]
    },
    {
     "name": "stdout",
     "output_type": "stream",
     "text": [
      "Masks saved for data/05062019_B3_3_imagedata/05062019_B3_3_Phase-0221.tif at data/masks/05062019_B3_3_Phase-0221_mask.tif\n",
      "Processing image: data/05062019_B3_3_imagedata/05062019_B3_3_Phase-0222.tif\n"
     ]
    },
    {
     "name": "stderr",
     "output_type": "stream",
     "text": [
      "/home/stuart/repos/CellPhePy/src/cellphe/input.py:175: UserWarning: data/masks/05062019_B3_3_Phase-0222_mask.tif is a low contrast image\n",
      "  io.imsave(save_path, masks.astype(\"uint16\"))  # Assuming masks are uint16\n"
     ]
    },
    {
     "name": "stdout",
     "output_type": "stream",
     "text": [
      "Masks saved for data/05062019_B3_3_imagedata/05062019_B3_3_Phase-0222.tif at data/masks/05062019_B3_3_Phase-0222_mask.tif\n",
      "Processing image: data/05062019_B3_3_imagedata/05062019_B3_3_Phase-0223.tif\n"
     ]
    },
    {
     "name": "stderr",
     "output_type": "stream",
     "text": [
      "/home/stuart/repos/CellPhePy/src/cellphe/input.py:175: UserWarning: data/masks/05062019_B3_3_Phase-0223_mask.tif is a low contrast image\n",
      "  io.imsave(save_path, masks.astype(\"uint16\"))  # Assuming masks are uint16\n"
     ]
    },
    {
     "name": "stdout",
     "output_type": "stream",
     "text": [
      "Masks saved for data/05062019_B3_3_imagedata/05062019_B3_3_Phase-0223.tif at data/masks/05062019_B3_3_Phase-0223_mask.tif\n",
      "Processing image: data/05062019_B3_3_imagedata/05062019_B3_3_Phase-0224.tif\n"
     ]
    },
    {
     "name": "stderr",
     "output_type": "stream",
     "text": [
      "/home/stuart/repos/CellPhePy/src/cellphe/input.py:175: UserWarning: data/masks/05062019_B3_3_Phase-0224_mask.tif is a low contrast image\n",
      "  io.imsave(save_path, masks.astype(\"uint16\"))  # Assuming masks are uint16\n"
     ]
    },
    {
     "name": "stdout",
     "output_type": "stream",
     "text": [
      "Masks saved for data/05062019_B3_3_imagedata/05062019_B3_3_Phase-0224.tif at data/masks/05062019_B3_3_Phase-0224_mask.tif\n",
      "Processing image: data/05062019_B3_3_imagedata/05062019_B3_3_Phase-0225.tif\n"
     ]
    },
    {
     "name": "stderr",
     "output_type": "stream",
     "text": [
      "/home/stuart/repos/CellPhePy/src/cellphe/input.py:175: UserWarning: data/masks/05062019_B3_3_Phase-0225_mask.tif is a low contrast image\n",
      "  io.imsave(save_path, masks.astype(\"uint16\"))  # Assuming masks are uint16\n"
     ]
    },
    {
     "name": "stdout",
     "output_type": "stream",
     "text": [
      "Masks saved for data/05062019_B3_3_imagedata/05062019_B3_3_Phase-0225.tif at data/masks/05062019_B3_3_Phase-0225_mask.tif\n",
      "Processing image: data/05062019_B3_3_imagedata/05062019_B3_3_Phase-0226.tif\n"
     ]
    },
    {
     "name": "stderr",
     "output_type": "stream",
     "text": [
      "/home/stuart/repos/CellPhePy/src/cellphe/input.py:175: UserWarning: data/masks/05062019_B3_3_Phase-0226_mask.tif is a low contrast image\n",
      "  io.imsave(save_path, masks.astype(\"uint16\"))  # Assuming masks are uint16\n"
     ]
    },
    {
     "name": "stdout",
     "output_type": "stream",
     "text": [
      "Masks saved for data/05062019_B3_3_imagedata/05062019_B3_3_Phase-0226.tif at data/masks/05062019_B3_3_Phase-0226_mask.tif\n",
      "Processing image: data/05062019_B3_3_imagedata/05062019_B3_3_Phase-0227.tif\n"
     ]
    },
    {
     "name": "stderr",
     "output_type": "stream",
     "text": [
      "/home/stuart/repos/CellPhePy/src/cellphe/input.py:175: UserWarning: data/masks/05062019_B3_3_Phase-0227_mask.tif is a low contrast image\n",
      "  io.imsave(save_path, masks.astype(\"uint16\"))  # Assuming masks are uint16\n"
     ]
    },
    {
     "name": "stdout",
     "output_type": "stream",
     "text": [
      "Masks saved for data/05062019_B3_3_imagedata/05062019_B3_3_Phase-0227.tif at data/masks/05062019_B3_3_Phase-0227_mask.tif\n",
      "Processing image: data/05062019_B3_3_imagedata/05062019_B3_3_Phase-0228.tif\n"
     ]
    },
    {
     "name": "stderr",
     "output_type": "stream",
     "text": [
      "/home/stuart/repos/CellPhePy/src/cellphe/input.py:175: UserWarning: data/masks/05062019_B3_3_Phase-0228_mask.tif is a low contrast image\n",
      "  io.imsave(save_path, masks.astype(\"uint16\"))  # Assuming masks are uint16\n"
     ]
    },
    {
     "name": "stdout",
     "output_type": "stream",
     "text": [
      "Masks saved for data/05062019_B3_3_imagedata/05062019_B3_3_Phase-0228.tif at data/masks/05062019_B3_3_Phase-0228_mask.tif\n",
      "Processing image: data/05062019_B3_3_imagedata/05062019_B3_3_Phase-0229.tif\n"
     ]
    },
    {
     "name": "stderr",
     "output_type": "stream",
     "text": [
      "/home/stuart/repos/CellPhePy/src/cellphe/input.py:175: UserWarning: data/masks/05062019_B3_3_Phase-0229_mask.tif is a low contrast image\n",
      "  io.imsave(save_path, masks.astype(\"uint16\"))  # Assuming masks are uint16\n"
     ]
    },
    {
     "name": "stdout",
     "output_type": "stream",
     "text": [
      "Masks saved for data/05062019_B3_3_imagedata/05062019_B3_3_Phase-0229.tif at data/masks/05062019_B3_3_Phase-0229_mask.tif\n",
      "Processing image: data/05062019_B3_3_imagedata/05062019_B3_3_Phase-0230.tif\n"
     ]
    },
    {
     "name": "stderr",
     "output_type": "stream",
     "text": [
      "/home/stuart/repos/CellPhePy/src/cellphe/input.py:175: UserWarning: data/masks/05062019_B3_3_Phase-0230_mask.tif is a low contrast image\n",
      "  io.imsave(save_path, masks.astype(\"uint16\"))  # Assuming masks are uint16\n"
     ]
    },
    {
     "name": "stdout",
     "output_type": "stream",
     "text": [
      "Masks saved for data/05062019_B3_3_imagedata/05062019_B3_3_Phase-0230.tif at data/masks/05062019_B3_3_Phase-0230_mask.tif\n",
      "Processing image: data/05062019_B3_3_imagedata/05062019_B3_3_Phase-0231.tif\n"
     ]
    },
    {
     "name": "stderr",
     "output_type": "stream",
     "text": [
      "/home/stuart/repos/CellPhePy/src/cellphe/input.py:175: UserWarning: data/masks/05062019_B3_3_Phase-0231_mask.tif is a low contrast image\n",
      "  io.imsave(save_path, masks.astype(\"uint16\"))  # Assuming masks are uint16\n"
     ]
    },
    {
     "name": "stdout",
     "output_type": "stream",
     "text": [
      "Masks saved for data/05062019_B3_3_imagedata/05062019_B3_3_Phase-0231.tif at data/masks/05062019_B3_3_Phase-0231_mask.tif\n",
      "Processing image: data/05062019_B3_3_imagedata/05062019_B3_3_Phase-0232.tif\n"
     ]
    },
    {
     "name": "stderr",
     "output_type": "stream",
     "text": [
      "/home/stuart/repos/CellPhePy/src/cellphe/input.py:175: UserWarning: data/masks/05062019_B3_3_Phase-0232_mask.tif is a low contrast image\n",
      "  io.imsave(save_path, masks.astype(\"uint16\"))  # Assuming masks are uint16\n"
     ]
    },
    {
     "name": "stdout",
     "output_type": "stream",
     "text": [
      "Masks saved for data/05062019_B3_3_imagedata/05062019_B3_3_Phase-0232.tif at data/masks/05062019_B3_3_Phase-0232_mask.tif\n",
      "Processing image: data/05062019_B3_3_imagedata/05062019_B3_3_Phase-0233.tif\n"
     ]
    },
    {
     "name": "stderr",
     "output_type": "stream",
     "text": [
      "/home/stuart/repos/CellPhePy/src/cellphe/input.py:175: UserWarning: data/masks/05062019_B3_3_Phase-0233_mask.tif is a low contrast image\n",
      "  io.imsave(save_path, masks.astype(\"uint16\"))  # Assuming masks are uint16\n"
     ]
    },
    {
     "name": "stdout",
     "output_type": "stream",
     "text": [
      "Masks saved for data/05062019_B3_3_imagedata/05062019_B3_3_Phase-0233.tif at data/masks/05062019_B3_3_Phase-0233_mask.tif\n",
      "Processing image: data/05062019_B3_3_imagedata/05062019_B3_3_Phase-0234.tif\n"
     ]
    },
    {
     "name": "stderr",
     "output_type": "stream",
     "text": [
      "/home/stuart/repos/CellPhePy/src/cellphe/input.py:175: UserWarning: data/masks/05062019_B3_3_Phase-0234_mask.tif is a low contrast image\n",
      "  io.imsave(save_path, masks.astype(\"uint16\"))  # Assuming masks are uint16\n"
     ]
    },
    {
     "name": "stdout",
     "output_type": "stream",
     "text": [
      "Masks saved for data/05062019_B3_3_imagedata/05062019_B3_3_Phase-0234.tif at data/masks/05062019_B3_3_Phase-0234_mask.tif\n",
      "Processing image: data/05062019_B3_3_imagedata/05062019_B3_3_Phase-0235.tif\n"
     ]
    },
    {
     "name": "stderr",
     "output_type": "stream",
     "text": [
      "/home/stuart/repos/CellPhePy/src/cellphe/input.py:175: UserWarning: data/masks/05062019_B3_3_Phase-0235_mask.tif is a low contrast image\n",
      "  io.imsave(save_path, masks.astype(\"uint16\"))  # Assuming masks are uint16\n"
     ]
    },
    {
     "name": "stdout",
     "output_type": "stream",
     "text": [
      "Masks saved for data/05062019_B3_3_imagedata/05062019_B3_3_Phase-0235.tif at data/masks/05062019_B3_3_Phase-0235_mask.tif\n",
      "Processing image: data/05062019_B3_3_imagedata/05062019_B3_3_Phase-0236.tif\n"
     ]
    },
    {
     "name": "stderr",
     "output_type": "stream",
     "text": [
      "/home/stuart/repos/CellPhePy/src/cellphe/input.py:175: UserWarning: data/masks/05062019_B3_3_Phase-0236_mask.tif is a low contrast image\n",
      "  io.imsave(save_path, masks.astype(\"uint16\"))  # Assuming masks are uint16\n"
     ]
    },
    {
     "name": "stdout",
     "output_type": "stream",
     "text": [
      "Masks saved for data/05062019_B3_3_imagedata/05062019_B3_3_Phase-0236.tif at data/masks/05062019_B3_3_Phase-0236_mask.tif\n",
      "Processing image: data/05062019_B3_3_imagedata/05062019_B3_3_Phase-0237.tif\n"
     ]
    },
    {
     "name": "stderr",
     "output_type": "stream",
     "text": [
      "/home/stuart/repos/CellPhePy/src/cellphe/input.py:175: UserWarning: data/masks/05062019_B3_3_Phase-0237_mask.tif is a low contrast image\n",
      "  io.imsave(save_path, masks.astype(\"uint16\"))  # Assuming masks are uint16\n"
     ]
    },
    {
     "name": "stdout",
     "output_type": "stream",
     "text": [
      "Masks saved for data/05062019_B3_3_imagedata/05062019_B3_3_Phase-0237.tif at data/masks/05062019_B3_3_Phase-0237_mask.tif\n",
      "Processing image: data/05062019_B3_3_imagedata/05062019_B3_3_Phase-0238.tif\n"
     ]
    },
    {
     "name": "stderr",
     "output_type": "stream",
     "text": [
      "/home/stuart/repos/CellPhePy/src/cellphe/input.py:175: UserWarning: data/masks/05062019_B3_3_Phase-0238_mask.tif is a low contrast image\n",
      "  io.imsave(save_path, masks.astype(\"uint16\"))  # Assuming masks are uint16\n"
     ]
    },
    {
     "name": "stdout",
     "output_type": "stream",
     "text": [
      "Masks saved for data/05062019_B3_3_imagedata/05062019_B3_3_Phase-0238.tif at data/masks/05062019_B3_3_Phase-0238_mask.tif\n",
      "Processing image: data/05062019_B3_3_imagedata/05062019_B3_3_Phase-0239.tif\n"
     ]
    },
    {
     "name": "stderr",
     "output_type": "stream",
     "text": [
      "/home/stuart/repos/CellPhePy/src/cellphe/input.py:175: UserWarning: data/masks/05062019_B3_3_Phase-0239_mask.tif is a low contrast image\n",
      "  io.imsave(save_path, masks.astype(\"uint16\"))  # Assuming masks are uint16\n"
     ]
    },
    {
     "name": "stdout",
     "output_type": "stream",
     "text": [
      "Masks saved for data/05062019_B3_3_imagedata/05062019_B3_3_Phase-0239.tif at data/masks/05062019_B3_3_Phase-0239_mask.tif\n",
      "Processing image: data/05062019_B3_3_imagedata/05062019_B3_3_Phase-0240.tif\n"
     ]
    },
    {
     "name": "stderr",
     "output_type": "stream",
     "text": [
      "/home/stuart/repos/CellPhePy/src/cellphe/input.py:175: UserWarning: data/masks/05062019_B3_3_Phase-0240_mask.tif is a low contrast image\n",
      "  io.imsave(save_path, masks.astype(\"uint16\"))  # Assuming masks are uint16\n"
     ]
    },
    {
     "name": "stdout",
     "output_type": "stream",
     "text": [
      "Masks saved for data/05062019_B3_3_imagedata/05062019_B3_3_Phase-0240.tif at data/masks/05062019_B3_3_Phase-0240_mask.tif\n",
      "Processing image: data/05062019_B3_3_imagedata/05062019_B3_3_Phase-0241.tif\n"
     ]
    },
    {
     "name": "stderr",
     "output_type": "stream",
     "text": [
      "/home/stuart/repos/CellPhePy/src/cellphe/input.py:175: UserWarning: data/masks/05062019_B3_3_Phase-0241_mask.tif is a low contrast image\n",
      "  io.imsave(save_path, masks.astype(\"uint16\"))  # Assuming masks are uint16\n"
     ]
    },
    {
     "name": "stdout",
     "output_type": "stream",
     "text": [
      "Masks saved for data/05062019_B3_3_imagedata/05062019_B3_3_Phase-0241.tif at data/masks/05062019_B3_3_Phase-0241_mask.tif\n",
      "Processing image: data/05062019_B3_3_imagedata/05062019_B3_3_Phase-0242.tif\n"
     ]
    },
    {
     "name": "stderr",
     "output_type": "stream",
     "text": [
      "/home/stuart/repos/CellPhePy/src/cellphe/input.py:175: UserWarning: data/masks/05062019_B3_3_Phase-0242_mask.tif is a low contrast image\n",
      "  io.imsave(save_path, masks.astype(\"uint16\"))  # Assuming masks are uint16\n"
     ]
    },
    {
     "name": "stdout",
     "output_type": "stream",
     "text": [
      "Masks saved for data/05062019_B3_3_imagedata/05062019_B3_3_Phase-0242.tif at data/masks/05062019_B3_3_Phase-0242_mask.tif\n",
      "Processing image: data/05062019_B3_3_imagedata/05062019_B3_3_Phase-0243.tif\n"
     ]
    },
    {
     "name": "stderr",
     "output_type": "stream",
     "text": [
      "/home/stuart/repos/CellPhePy/src/cellphe/input.py:175: UserWarning: data/masks/05062019_B3_3_Phase-0243_mask.tif is a low contrast image\n",
      "  io.imsave(save_path, masks.astype(\"uint16\"))  # Assuming masks are uint16\n"
     ]
    },
    {
     "name": "stdout",
     "output_type": "stream",
     "text": [
      "Masks saved for data/05062019_B3_3_imagedata/05062019_B3_3_Phase-0243.tif at data/masks/05062019_B3_3_Phase-0243_mask.tif\n",
      "Processing image: data/05062019_B3_3_imagedata/05062019_B3_3_Phase-0244.tif\n"
     ]
    },
    {
     "name": "stderr",
     "output_type": "stream",
     "text": [
      "/home/stuart/repos/CellPhePy/src/cellphe/input.py:175: UserWarning: data/masks/05062019_B3_3_Phase-0244_mask.tif is a low contrast image\n",
      "  io.imsave(save_path, masks.astype(\"uint16\"))  # Assuming masks are uint16\n"
     ]
    },
    {
     "name": "stdout",
     "output_type": "stream",
     "text": [
      "Masks saved for data/05062019_B3_3_imagedata/05062019_B3_3_Phase-0244.tif at data/masks/05062019_B3_3_Phase-0244_mask.tif\n",
      "Processing image: data/05062019_B3_3_imagedata/05062019_B3_3_Phase-0245.tif\n"
     ]
    },
    {
     "name": "stderr",
     "output_type": "stream",
     "text": [
      "/home/stuart/repos/CellPhePy/src/cellphe/input.py:175: UserWarning: data/masks/05062019_B3_3_Phase-0245_mask.tif is a low contrast image\n",
      "  io.imsave(save_path, masks.astype(\"uint16\"))  # Assuming masks are uint16\n"
     ]
    },
    {
     "name": "stdout",
     "output_type": "stream",
     "text": [
      "Masks saved for data/05062019_B3_3_imagedata/05062019_B3_3_Phase-0245.tif at data/masks/05062019_B3_3_Phase-0245_mask.tif\n",
      "Processing image: data/05062019_B3_3_imagedata/05062019_B3_3_Phase-0246.tif\n"
     ]
    },
    {
     "name": "stderr",
     "output_type": "stream",
     "text": [
      "/home/stuart/repos/CellPhePy/src/cellphe/input.py:175: UserWarning: data/masks/05062019_B3_3_Phase-0246_mask.tif is a low contrast image\n",
      "  io.imsave(save_path, masks.astype(\"uint16\"))  # Assuming masks are uint16\n"
     ]
    },
    {
     "name": "stdout",
     "output_type": "stream",
     "text": [
      "Masks saved for data/05062019_B3_3_imagedata/05062019_B3_3_Phase-0246.tif at data/masks/05062019_B3_3_Phase-0246_mask.tif\n",
      "Processing image: data/05062019_B3_3_imagedata/05062019_B3_3_Phase-0247.tif\n"
     ]
    },
    {
     "name": "stderr",
     "output_type": "stream",
     "text": [
      "/home/stuart/repos/CellPhePy/src/cellphe/input.py:175: UserWarning: data/masks/05062019_B3_3_Phase-0247_mask.tif is a low contrast image\n",
      "  io.imsave(save_path, masks.astype(\"uint16\"))  # Assuming masks are uint16\n"
     ]
    },
    {
     "name": "stdout",
     "output_type": "stream",
     "text": [
      "Masks saved for data/05062019_B3_3_imagedata/05062019_B3_3_Phase-0247.tif at data/masks/05062019_B3_3_Phase-0247_mask.tif\n",
      "Processing image: data/05062019_B3_3_imagedata/05062019_B3_3_Phase-0248.tif\n"
     ]
    },
    {
     "name": "stderr",
     "output_type": "stream",
     "text": [
      "/home/stuart/repos/CellPhePy/src/cellphe/input.py:175: UserWarning: data/masks/05062019_B3_3_Phase-0248_mask.tif is a low contrast image\n",
      "  io.imsave(save_path, masks.astype(\"uint16\"))  # Assuming masks are uint16\n"
     ]
    },
    {
     "name": "stdout",
     "output_type": "stream",
     "text": [
      "Masks saved for data/05062019_B3_3_imagedata/05062019_B3_3_Phase-0248.tif at data/masks/05062019_B3_3_Phase-0248_mask.tif\n",
      "Processing image: data/05062019_B3_3_imagedata/05062019_B3_3_Phase-0249.tif\n"
     ]
    },
    {
     "name": "stderr",
     "output_type": "stream",
     "text": [
      "/home/stuart/repos/CellPhePy/src/cellphe/input.py:175: UserWarning: data/masks/05062019_B3_3_Phase-0249_mask.tif is a low contrast image\n",
      "  io.imsave(save_path, masks.astype(\"uint16\"))  # Assuming masks are uint16\n"
     ]
    },
    {
     "name": "stdout",
     "output_type": "stream",
     "text": [
      "Masks saved for data/05062019_B3_3_imagedata/05062019_B3_3_Phase-0249.tif at data/masks/05062019_B3_3_Phase-0249_mask.tif\n",
      "Processing image: data/05062019_B3_3_imagedata/05062019_B3_3_Phase-0250.tif\n"
     ]
    },
    {
     "name": "stderr",
     "output_type": "stream",
     "text": [
      "/home/stuart/repos/CellPhePy/src/cellphe/input.py:175: UserWarning: data/masks/05062019_B3_3_Phase-0250_mask.tif is a low contrast image\n",
      "  io.imsave(save_path, masks.astype(\"uint16\"))  # Assuming masks are uint16\n"
     ]
    },
    {
     "name": "stdout",
     "output_type": "stream",
     "text": [
      "Masks saved for data/05062019_B3_3_imagedata/05062019_B3_3_Phase-0250.tif at data/masks/05062019_B3_3_Phase-0250_mask.tif\n",
      "Processing image: data/05062019_B3_3_imagedata/05062019_B3_3_Phase-0251.tif\n"
     ]
    },
    {
     "name": "stderr",
     "output_type": "stream",
     "text": [
      "/home/stuart/repos/CellPhePy/src/cellphe/input.py:175: UserWarning: data/masks/05062019_B3_3_Phase-0251_mask.tif is a low contrast image\n",
      "  io.imsave(save_path, masks.astype(\"uint16\"))  # Assuming masks are uint16\n"
     ]
    },
    {
     "name": "stdout",
     "output_type": "stream",
     "text": [
      "Masks saved for data/05062019_B3_3_imagedata/05062019_B3_3_Phase-0251.tif at data/masks/05062019_B3_3_Phase-0251_mask.tif\n",
      "Processing image: data/05062019_B3_3_imagedata/05062019_B3_3_Phase-0252.tif\n"
     ]
    },
    {
     "name": "stderr",
     "output_type": "stream",
     "text": [
      "/home/stuart/repos/CellPhePy/src/cellphe/input.py:175: UserWarning: data/masks/05062019_B3_3_Phase-0252_mask.tif is a low contrast image\n",
      "  io.imsave(save_path, masks.astype(\"uint16\"))  # Assuming masks are uint16\n"
     ]
    },
    {
     "name": "stdout",
     "output_type": "stream",
     "text": [
      "Masks saved for data/05062019_B3_3_imagedata/05062019_B3_3_Phase-0252.tif at data/masks/05062019_B3_3_Phase-0252_mask.tif\n",
      "Processing image: data/05062019_B3_3_imagedata/05062019_B3_3_Phase-0253.tif\n"
     ]
    },
    {
     "name": "stderr",
     "output_type": "stream",
     "text": [
      "/home/stuart/repos/CellPhePy/src/cellphe/input.py:175: UserWarning: data/masks/05062019_B3_3_Phase-0253_mask.tif is a low contrast image\n",
      "  io.imsave(save_path, masks.astype(\"uint16\"))  # Assuming masks are uint16\n"
     ]
    },
    {
     "name": "stdout",
     "output_type": "stream",
     "text": [
      "Masks saved for data/05062019_B3_3_imagedata/05062019_B3_3_Phase-0253.tif at data/masks/05062019_B3_3_Phase-0253_mask.tif\n",
      "Processing image: data/05062019_B3_3_imagedata/05062019_B3_3_Phase-0254.tif\n"
     ]
    },
    {
     "name": "stderr",
     "output_type": "stream",
     "text": [
      "/home/stuart/repos/CellPhePy/src/cellphe/input.py:175: UserWarning: data/masks/05062019_B3_3_Phase-0254_mask.tif is a low contrast image\n",
      "  io.imsave(save_path, masks.astype(\"uint16\"))  # Assuming masks are uint16\n"
     ]
    },
    {
     "name": "stdout",
     "output_type": "stream",
     "text": [
      "Masks saved for data/05062019_B3_3_imagedata/05062019_B3_3_Phase-0254.tif at data/masks/05062019_B3_3_Phase-0254_mask.tif\n",
      "Processing image: data/05062019_B3_3_imagedata/05062019_B3_3_Phase-0255.tif\n"
     ]
    },
    {
     "name": "stderr",
     "output_type": "stream",
     "text": [
      "/home/stuart/repos/CellPhePy/src/cellphe/input.py:175: UserWarning: data/masks/05062019_B3_3_Phase-0255_mask.tif is a low contrast image\n",
      "  io.imsave(save_path, masks.astype(\"uint16\"))  # Assuming masks are uint16\n"
     ]
    },
    {
     "name": "stdout",
     "output_type": "stream",
     "text": [
      "Masks saved for data/05062019_B3_3_imagedata/05062019_B3_3_Phase-0255.tif at data/masks/05062019_B3_3_Phase-0255_mask.tif\n",
      "Processing image: data/05062019_B3_3_imagedata/05062019_B3_3_Phase-0256.tif\n"
     ]
    },
    {
     "name": "stderr",
     "output_type": "stream",
     "text": [
      "/home/stuart/repos/CellPhePy/src/cellphe/input.py:175: UserWarning: data/masks/05062019_B3_3_Phase-0256_mask.tif is a low contrast image\n",
      "  io.imsave(save_path, masks.astype(\"uint16\"))  # Assuming masks are uint16\n"
     ]
    },
    {
     "name": "stdout",
     "output_type": "stream",
     "text": [
      "Masks saved for data/05062019_B3_3_imagedata/05062019_B3_3_Phase-0256.tif at data/masks/05062019_B3_3_Phase-0256_mask.tif\n",
      "Processing image: data/05062019_B3_3_imagedata/05062019_B3_3_Phase-0257.tif\n"
     ]
    },
    {
     "name": "stderr",
     "output_type": "stream",
     "text": [
      "/home/stuart/repos/CellPhePy/src/cellphe/input.py:175: UserWarning: data/masks/05062019_B3_3_Phase-0257_mask.tif is a low contrast image\n",
      "  io.imsave(save_path, masks.astype(\"uint16\"))  # Assuming masks are uint16\n"
     ]
    },
    {
     "name": "stdout",
     "output_type": "stream",
     "text": [
      "Masks saved for data/05062019_B3_3_imagedata/05062019_B3_3_Phase-0257.tif at data/masks/05062019_B3_3_Phase-0257_mask.tif\n",
      "Processing image: data/05062019_B3_3_imagedata/05062019_B3_3_Phase-0258.tif\n"
     ]
    },
    {
     "name": "stderr",
     "output_type": "stream",
     "text": [
      "/home/stuart/repos/CellPhePy/src/cellphe/input.py:175: UserWarning: data/masks/05062019_B3_3_Phase-0258_mask.tif is a low contrast image\n",
      "  io.imsave(save_path, masks.astype(\"uint16\"))  # Assuming masks are uint16\n"
     ]
    },
    {
     "name": "stdout",
     "output_type": "stream",
     "text": [
      "Masks saved for data/05062019_B3_3_imagedata/05062019_B3_3_Phase-0258.tif at data/masks/05062019_B3_3_Phase-0258_mask.tif\n",
      "Processing image: data/05062019_B3_3_imagedata/05062019_B3_3_Phase-0259.tif\n"
     ]
    },
    {
     "name": "stderr",
     "output_type": "stream",
     "text": [
      "/home/stuart/repos/CellPhePy/src/cellphe/input.py:175: UserWarning: data/masks/05062019_B3_3_Phase-0259_mask.tif is a low contrast image\n",
      "  io.imsave(save_path, masks.astype(\"uint16\"))  # Assuming masks are uint16\n"
     ]
    },
    {
     "name": "stdout",
     "output_type": "stream",
     "text": [
      "Masks saved for data/05062019_B3_3_imagedata/05062019_B3_3_Phase-0259.tif at data/masks/05062019_B3_3_Phase-0259_mask.tif\n",
      "Processing image: data/05062019_B3_3_imagedata/05062019_B3_3_Phase-0260.tif\n"
     ]
    },
    {
     "name": "stderr",
     "output_type": "stream",
     "text": [
      "/home/stuart/repos/CellPhePy/src/cellphe/input.py:175: UserWarning: data/masks/05062019_B3_3_Phase-0260_mask.tif is a low contrast image\n",
      "  io.imsave(save_path, masks.astype(\"uint16\"))  # Assuming masks are uint16\n"
     ]
    },
    {
     "name": "stdout",
     "output_type": "stream",
     "text": [
      "Masks saved for data/05062019_B3_3_imagedata/05062019_B3_3_Phase-0260.tif at data/masks/05062019_B3_3_Phase-0260_mask.tif\n",
      "Processing image: data/05062019_B3_3_imagedata/05062019_B3_3_Phase-0261.tif\n"
     ]
    },
    {
     "name": "stderr",
     "output_type": "stream",
     "text": [
      "/home/stuart/repos/CellPhePy/src/cellphe/input.py:175: UserWarning: data/masks/05062019_B3_3_Phase-0261_mask.tif is a low contrast image\n",
      "  io.imsave(save_path, masks.astype(\"uint16\"))  # Assuming masks are uint16\n"
     ]
    },
    {
     "name": "stdout",
     "output_type": "stream",
     "text": [
      "Masks saved for data/05062019_B3_3_imagedata/05062019_B3_3_Phase-0261.tif at data/masks/05062019_B3_3_Phase-0261_mask.tif\n",
      "Processing image: data/05062019_B3_3_imagedata/05062019_B3_3_Phase-0262.tif\n"
     ]
    },
    {
     "name": "stderr",
     "output_type": "stream",
     "text": [
      "/home/stuart/repos/CellPhePy/src/cellphe/input.py:175: UserWarning: data/masks/05062019_B3_3_Phase-0262_mask.tif is a low contrast image\n",
      "  io.imsave(save_path, masks.astype(\"uint16\"))  # Assuming masks are uint16\n"
     ]
    },
    {
     "name": "stdout",
     "output_type": "stream",
     "text": [
      "Masks saved for data/05062019_B3_3_imagedata/05062019_B3_3_Phase-0262.tif at data/masks/05062019_B3_3_Phase-0262_mask.tif\n",
      "Processing image: data/05062019_B3_3_imagedata/05062019_B3_3_Phase-0263.tif\n"
     ]
    },
    {
     "name": "stderr",
     "output_type": "stream",
     "text": [
      "/home/stuart/repos/CellPhePy/src/cellphe/input.py:175: UserWarning: data/masks/05062019_B3_3_Phase-0263_mask.tif is a low contrast image\n",
      "  io.imsave(save_path, masks.astype(\"uint16\"))  # Assuming masks are uint16\n"
     ]
    },
    {
     "name": "stdout",
     "output_type": "stream",
     "text": [
      "Masks saved for data/05062019_B3_3_imagedata/05062019_B3_3_Phase-0263.tif at data/masks/05062019_B3_3_Phase-0263_mask.tif\n",
      "Processing image: data/05062019_B3_3_imagedata/05062019_B3_3_Phase-0264.tif\n"
     ]
    },
    {
     "name": "stderr",
     "output_type": "stream",
     "text": [
      "/home/stuart/repos/CellPhePy/src/cellphe/input.py:175: UserWarning: data/masks/05062019_B3_3_Phase-0264_mask.tif is a low contrast image\n",
      "  io.imsave(save_path, masks.astype(\"uint16\"))  # Assuming masks are uint16\n"
     ]
    },
    {
     "name": "stdout",
     "output_type": "stream",
     "text": [
      "Masks saved for data/05062019_B3_3_imagedata/05062019_B3_3_Phase-0264.tif at data/masks/05062019_B3_3_Phase-0264_mask.tif\n",
      "Processing image: data/05062019_B3_3_imagedata/05062019_B3_3_Phase-0265.tif\n"
     ]
    },
    {
     "name": "stderr",
     "output_type": "stream",
     "text": [
      "/home/stuart/repos/CellPhePy/src/cellphe/input.py:175: UserWarning: data/masks/05062019_B3_3_Phase-0265_mask.tif is a low contrast image\n",
      "  io.imsave(save_path, masks.astype(\"uint16\"))  # Assuming masks are uint16\n"
     ]
    },
    {
     "name": "stdout",
     "output_type": "stream",
     "text": [
      "Masks saved for data/05062019_B3_3_imagedata/05062019_B3_3_Phase-0265.tif at data/masks/05062019_B3_3_Phase-0265_mask.tif\n",
      "Processing image: data/05062019_B3_3_imagedata/05062019_B3_3_Phase-0266.tif\n"
     ]
    },
    {
     "name": "stderr",
     "output_type": "stream",
     "text": [
      "/home/stuart/repos/CellPhePy/src/cellphe/input.py:175: UserWarning: data/masks/05062019_B3_3_Phase-0266_mask.tif is a low contrast image\n",
      "  io.imsave(save_path, masks.astype(\"uint16\"))  # Assuming masks are uint16\n"
     ]
    },
    {
     "name": "stdout",
     "output_type": "stream",
     "text": [
      "Masks saved for data/05062019_B3_3_imagedata/05062019_B3_3_Phase-0266.tif at data/masks/05062019_B3_3_Phase-0266_mask.tif\n",
      "Processing image: data/05062019_B3_3_imagedata/05062019_B3_3_Phase-0267.tif\n"
     ]
    },
    {
     "name": "stderr",
     "output_type": "stream",
     "text": [
      "/home/stuart/repos/CellPhePy/src/cellphe/input.py:175: UserWarning: data/masks/05062019_B3_3_Phase-0267_mask.tif is a low contrast image\n",
      "  io.imsave(save_path, masks.astype(\"uint16\"))  # Assuming masks are uint16\n"
     ]
    },
    {
     "name": "stdout",
     "output_type": "stream",
     "text": [
      "Masks saved for data/05062019_B3_3_imagedata/05062019_B3_3_Phase-0267.tif at data/masks/05062019_B3_3_Phase-0267_mask.tif\n",
      "Processing image: data/05062019_B3_3_imagedata/05062019_B3_3_Phase-0268.tif\n"
     ]
    },
    {
     "name": "stderr",
     "output_type": "stream",
     "text": [
      "/home/stuart/repos/CellPhePy/src/cellphe/input.py:175: UserWarning: data/masks/05062019_B3_3_Phase-0268_mask.tif is a low contrast image\n",
      "  io.imsave(save_path, masks.astype(\"uint16\"))  # Assuming masks are uint16\n"
     ]
    },
    {
     "name": "stdout",
     "output_type": "stream",
     "text": [
      "Masks saved for data/05062019_B3_3_imagedata/05062019_B3_3_Phase-0268.tif at data/masks/05062019_B3_3_Phase-0268_mask.tif\n",
      "Processing image: data/05062019_B3_3_imagedata/05062019_B3_3_Phase-0269.tif\n"
     ]
    },
    {
     "name": "stderr",
     "output_type": "stream",
     "text": [
      "/home/stuart/repos/CellPhePy/src/cellphe/input.py:175: UserWarning: data/masks/05062019_B3_3_Phase-0269_mask.tif is a low contrast image\n",
      "  io.imsave(save_path, masks.astype(\"uint16\"))  # Assuming masks are uint16\n"
     ]
    },
    {
     "name": "stdout",
     "output_type": "stream",
     "text": [
      "Masks saved for data/05062019_B3_3_imagedata/05062019_B3_3_Phase-0269.tif at data/masks/05062019_B3_3_Phase-0269_mask.tif\n",
      "Processing image: data/05062019_B3_3_imagedata/05062019_B3_3_Phase-0270.tif\n"
     ]
    },
    {
     "name": "stderr",
     "output_type": "stream",
     "text": [
      "/home/stuart/repos/CellPhePy/src/cellphe/input.py:175: UserWarning: data/masks/05062019_B3_3_Phase-0270_mask.tif is a low contrast image\n",
      "  io.imsave(save_path, masks.astype(\"uint16\"))  # Assuming masks are uint16\n"
     ]
    },
    {
     "name": "stdout",
     "output_type": "stream",
     "text": [
      "Masks saved for data/05062019_B3_3_imagedata/05062019_B3_3_Phase-0270.tif at data/masks/05062019_B3_3_Phase-0270_mask.tif\n",
      "Processing image: data/05062019_B3_3_imagedata/05062019_B3_3_Phase-0271.tif\n"
     ]
    },
    {
     "name": "stderr",
     "output_type": "stream",
     "text": [
      "/home/stuart/repos/CellPhePy/src/cellphe/input.py:175: UserWarning: data/masks/05062019_B3_3_Phase-0271_mask.tif is a low contrast image\n",
      "  io.imsave(save_path, masks.astype(\"uint16\"))  # Assuming masks are uint16\n"
     ]
    },
    {
     "name": "stdout",
     "output_type": "stream",
     "text": [
      "Masks saved for data/05062019_B3_3_imagedata/05062019_B3_3_Phase-0271.tif at data/masks/05062019_B3_3_Phase-0271_mask.tif\n",
      "Processing image: data/05062019_B3_3_imagedata/05062019_B3_3_Phase-0272.tif\n"
     ]
    },
    {
     "name": "stderr",
     "output_type": "stream",
     "text": [
      "/home/stuart/repos/CellPhePy/src/cellphe/input.py:175: UserWarning: data/masks/05062019_B3_3_Phase-0272_mask.tif is a low contrast image\n",
      "  io.imsave(save_path, masks.astype(\"uint16\"))  # Assuming masks are uint16\n"
     ]
    },
    {
     "name": "stdout",
     "output_type": "stream",
     "text": [
      "Masks saved for data/05062019_B3_3_imagedata/05062019_B3_3_Phase-0272.tif at data/masks/05062019_B3_3_Phase-0272_mask.tif\n",
      "Processing image: data/05062019_B3_3_imagedata/05062019_B3_3_Phase-0273.tif\n"
     ]
    },
    {
     "name": "stderr",
     "output_type": "stream",
     "text": [
      "/home/stuart/repos/CellPhePy/src/cellphe/input.py:175: UserWarning: data/masks/05062019_B3_3_Phase-0273_mask.tif is a low contrast image\n",
      "  io.imsave(save_path, masks.astype(\"uint16\"))  # Assuming masks are uint16\n"
     ]
    },
    {
     "name": "stdout",
     "output_type": "stream",
     "text": [
      "Masks saved for data/05062019_B3_3_imagedata/05062019_B3_3_Phase-0273.tif at data/masks/05062019_B3_3_Phase-0273_mask.tif\n",
      "Processing image: data/05062019_B3_3_imagedata/05062019_B3_3_Phase-0274.tif\n"
     ]
    },
    {
     "name": "stderr",
     "output_type": "stream",
     "text": [
      "/home/stuart/repos/CellPhePy/src/cellphe/input.py:175: UserWarning: data/masks/05062019_B3_3_Phase-0274_mask.tif is a low contrast image\n",
      "  io.imsave(save_path, masks.astype(\"uint16\"))  # Assuming masks are uint16\n"
     ]
    },
    {
     "name": "stdout",
     "output_type": "stream",
     "text": [
      "Masks saved for data/05062019_B3_3_imagedata/05062019_B3_3_Phase-0274.tif at data/masks/05062019_B3_3_Phase-0274_mask.tif\n",
      "Processing image: data/05062019_B3_3_imagedata/05062019_B3_3_Phase-0275.tif\n"
     ]
    },
    {
     "name": "stderr",
     "output_type": "stream",
     "text": [
      "/home/stuart/repos/CellPhePy/src/cellphe/input.py:175: UserWarning: data/masks/05062019_B3_3_Phase-0275_mask.tif is a low contrast image\n",
      "  io.imsave(save_path, masks.astype(\"uint16\"))  # Assuming masks are uint16\n"
     ]
    },
    {
     "name": "stdout",
     "output_type": "stream",
     "text": [
      "Masks saved for data/05062019_B3_3_imagedata/05062019_B3_3_Phase-0275.tif at data/masks/05062019_B3_3_Phase-0275_mask.tif\n",
      "Processing image: data/05062019_B3_3_imagedata/05062019_B3_3_Phase-0276.tif\n"
     ]
    },
    {
     "name": "stderr",
     "output_type": "stream",
     "text": [
      "/home/stuart/repos/CellPhePy/src/cellphe/input.py:175: UserWarning: data/masks/05062019_B3_3_Phase-0276_mask.tif is a low contrast image\n",
      "  io.imsave(save_path, masks.astype(\"uint16\"))  # Assuming masks are uint16\n"
     ]
    },
    {
     "name": "stdout",
     "output_type": "stream",
     "text": [
      "Masks saved for data/05062019_B3_3_imagedata/05062019_B3_3_Phase-0276.tif at data/masks/05062019_B3_3_Phase-0276_mask.tif\n",
      "Processing image: data/05062019_B3_3_imagedata/05062019_B3_3_Phase-0277.tif\n"
     ]
    },
    {
     "name": "stderr",
     "output_type": "stream",
     "text": [
      "/home/stuart/repos/CellPhePy/src/cellphe/input.py:175: UserWarning: data/masks/05062019_B3_3_Phase-0277_mask.tif is a low contrast image\n",
      "  io.imsave(save_path, masks.astype(\"uint16\"))  # Assuming masks are uint16\n"
     ]
    },
    {
     "name": "stdout",
     "output_type": "stream",
     "text": [
      "Masks saved for data/05062019_B3_3_imagedata/05062019_B3_3_Phase-0277.tif at data/masks/05062019_B3_3_Phase-0277_mask.tif\n",
      "Processing image: data/05062019_B3_3_imagedata/05062019_B3_3_Phase-0278.tif\n"
     ]
    },
    {
     "name": "stderr",
     "output_type": "stream",
     "text": [
      "/home/stuart/repos/CellPhePy/src/cellphe/input.py:175: UserWarning: data/masks/05062019_B3_3_Phase-0278_mask.tif is a low contrast image\n",
      "  io.imsave(save_path, masks.astype(\"uint16\"))  # Assuming masks are uint16\n"
     ]
    },
    {
     "name": "stdout",
     "output_type": "stream",
     "text": [
      "Masks saved for data/05062019_B3_3_imagedata/05062019_B3_3_Phase-0278.tif at data/masks/05062019_B3_3_Phase-0278_mask.tif\n",
      "Processing image: data/05062019_B3_3_imagedata/05062019_B3_3_Phase-0279.tif\n"
     ]
    },
    {
     "name": "stderr",
     "output_type": "stream",
     "text": [
      "/home/stuart/repos/CellPhePy/src/cellphe/input.py:175: UserWarning: data/masks/05062019_B3_3_Phase-0279_mask.tif is a low contrast image\n",
      "  io.imsave(save_path, masks.astype(\"uint16\"))  # Assuming masks are uint16\n"
     ]
    },
    {
     "name": "stdout",
     "output_type": "stream",
     "text": [
      "Masks saved for data/05062019_B3_3_imagedata/05062019_B3_3_Phase-0279.tif at data/masks/05062019_B3_3_Phase-0279_mask.tif\n",
      "Processing image: data/05062019_B3_3_imagedata/05062019_B3_3_Phase-0280.tif\n"
     ]
    },
    {
     "name": "stderr",
     "output_type": "stream",
     "text": [
      "/home/stuart/repos/CellPhePy/src/cellphe/input.py:175: UserWarning: data/masks/05062019_B3_3_Phase-0280_mask.tif is a low contrast image\n",
      "  io.imsave(save_path, masks.astype(\"uint16\"))  # Assuming masks are uint16\n"
     ]
    },
    {
     "name": "stdout",
     "output_type": "stream",
     "text": [
      "Masks saved for data/05062019_B3_3_imagedata/05062019_B3_3_Phase-0280.tif at data/masks/05062019_B3_3_Phase-0280_mask.tif\n",
      "Processing image: data/05062019_B3_3_imagedata/05062019_B3_3_Phase-0281.tif\n"
     ]
    },
    {
     "name": "stderr",
     "output_type": "stream",
     "text": [
      "/home/stuart/repos/CellPhePy/src/cellphe/input.py:175: UserWarning: data/masks/05062019_B3_3_Phase-0281_mask.tif is a low contrast image\n",
      "  io.imsave(save_path, masks.astype(\"uint16\"))  # Assuming masks are uint16\n"
     ]
    },
    {
     "name": "stdout",
     "output_type": "stream",
     "text": [
      "Masks saved for data/05062019_B3_3_imagedata/05062019_B3_3_Phase-0281.tif at data/masks/05062019_B3_3_Phase-0281_mask.tif\n",
      "Processing image: data/05062019_B3_3_imagedata/05062019_B3_3_Phase-0282.tif\n"
     ]
    },
    {
     "name": "stderr",
     "output_type": "stream",
     "text": [
      "/home/stuart/repos/CellPhePy/src/cellphe/input.py:175: UserWarning: data/masks/05062019_B3_3_Phase-0282_mask.tif is a low contrast image\n",
      "  io.imsave(save_path, masks.astype(\"uint16\"))  # Assuming masks are uint16\n"
     ]
    },
    {
     "name": "stdout",
     "output_type": "stream",
     "text": [
      "Masks saved for data/05062019_B3_3_imagedata/05062019_B3_3_Phase-0282.tif at data/masks/05062019_B3_3_Phase-0282_mask.tif\n",
      "Processing image: data/05062019_B3_3_imagedata/05062019_B3_3_Phase-0283.tif\n"
     ]
    },
    {
     "name": "stderr",
     "output_type": "stream",
     "text": [
      "/home/stuart/repos/CellPhePy/src/cellphe/input.py:175: UserWarning: data/masks/05062019_B3_3_Phase-0283_mask.tif is a low contrast image\n",
      "  io.imsave(save_path, masks.astype(\"uint16\"))  # Assuming masks are uint16\n"
     ]
    },
    {
     "name": "stdout",
     "output_type": "stream",
     "text": [
      "Masks saved for data/05062019_B3_3_imagedata/05062019_B3_3_Phase-0283.tif at data/masks/05062019_B3_3_Phase-0283_mask.tif\n",
      "Processing image: data/05062019_B3_3_imagedata/05062019_B3_3_Phase-0284.tif\n"
     ]
    },
    {
     "name": "stderr",
     "output_type": "stream",
     "text": [
      "/home/stuart/repos/CellPhePy/src/cellphe/input.py:175: UserWarning: data/masks/05062019_B3_3_Phase-0284_mask.tif is a low contrast image\n",
      "  io.imsave(save_path, masks.astype(\"uint16\"))  # Assuming masks are uint16\n"
     ]
    },
    {
     "name": "stdout",
     "output_type": "stream",
     "text": [
      "Masks saved for data/05062019_B3_3_imagedata/05062019_B3_3_Phase-0284.tif at data/masks/05062019_B3_3_Phase-0284_mask.tif\n",
      "Processing image: data/05062019_B3_3_imagedata/05062019_B3_3_Phase-0285.tif\n"
     ]
    },
    {
     "name": "stderr",
     "output_type": "stream",
     "text": [
      "/home/stuart/repos/CellPhePy/src/cellphe/input.py:175: UserWarning: data/masks/05062019_B3_3_Phase-0285_mask.tif is a low contrast image\n",
      "  io.imsave(save_path, masks.astype(\"uint16\"))  # Assuming masks are uint16\n"
     ]
    },
    {
     "name": "stdout",
     "output_type": "stream",
     "text": [
      "Masks saved for data/05062019_B3_3_imagedata/05062019_B3_3_Phase-0285.tif at data/masks/05062019_B3_3_Phase-0285_mask.tif\n",
      "Processing image: data/05062019_B3_3_imagedata/05062019_B3_3_Phase-0286.tif\n"
     ]
    },
    {
     "name": "stderr",
     "output_type": "stream",
     "text": [
      "/home/stuart/repos/CellPhePy/src/cellphe/input.py:175: UserWarning: data/masks/05062019_B3_3_Phase-0286_mask.tif is a low contrast image\n",
      "  io.imsave(save_path, masks.astype(\"uint16\"))  # Assuming masks are uint16\n"
     ]
    },
    {
     "name": "stdout",
     "output_type": "stream",
     "text": [
      "Masks saved for data/05062019_B3_3_imagedata/05062019_B3_3_Phase-0286.tif at data/masks/05062019_B3_3_Phase-0286_mask.tif\n",
      "Processing image: data/05062019_B3_3_imagedata/05062019_B3_3_Phase-0287.tif\n"
     ]
    },
    {
     "name": "stderr",
     "output_type": "stream",
     "text": [
      "/home/stuart/repos/CellPhePy/src/cellphe/input.py:175: UserWarning: data/masks/05062019_B3_3_Phase-0287_mask.tif is a low contrast image\n",
      "  io.imsave(save_path, masks.astype(\"uint16\"))  # Assuming masks are uint16\n"
     ]
    },
    {
     "name": "stdout",
     "output_type": "stream",
     "text": [
      "Masks saved for data/05062019_B3_3_imagedata/05062019_B3_3_Phase-0287.tif at data/masks/05062019_B3_3_Phase-0287_mask.tif\n",
      "Processing image: data/05062019_B3_3_imagedata/05062019_B3_3_Phase-0288.tif\n"
     ]
    },
    {
     "name": "stderr",
     "output_type": "stream",
     "text": [
      "/home/stuart/repos/CellPhePy/src/cellphe/input.py:175: UserWarning: data/masks/05062019_B3_3_Phase-0288_mask.tif is a low contrast image\n",
      "  io.imsave(save_path, masks.astype(\"uint16\"))  # Assuming masks are uint16\n"
     ]
    },
    {
     "name": "stdout",
     "output_type": "stream",
     "text": [
      "Masks saved for data/05062019_B3_3_imagedata/05062019_B3_3_Phase-0288.tif at data/masks/05062019_B3_3_Phase-0288_mask.tif\n",
      "Processing image: data/05062019_B3_3_imagedata/05062019_B3_3_Phase-0289.tif\n"
     ]
    },
    {
     "name": "stderr",
     "output_type": "stream",
     "text": [
      "/home/stuart/repos/CellPhePy/src/cellphe/input.py:175: UserWarning: data/masks/05062019_B3_3_Phase-0289_mask.tif is a low contrast image\n",
      "  io.imsave(save_path, masks.astype(\"uint16\"))  # Assuming masks are uint16\n"
     ]
    },
    {
     "name": "stdout",
     "output_type": "stream",
     "text": [
      "Masks saved for data/05062019_B3_3_imagedata/05062019_B3_3_Phase-0289.tif at data/masks/05062019_B3_3_Phase-0289_mask.tif\n",
      "Processing image: data/05062019_B3_3_imagedata/05062019_B3_3_Phase-0290.tif\n"
     ]
    },
    {
     "name": "stderr",
     "output_type": "stream",
     "text": [
      "/home/stuart/repos/CellPhePy/src/cellphe/input.py:175: UserWarning: data/masks/05062019_B3_3_Phase-0290_mask.tif is a low contrast image\n",
      "  io.imsave(save_path, masks.astype(\"uint16\"))  # Assuming masks are uint16\n"
     ]
    },
    {
     "name": "stdout",
     "output_type": "stream",
     "text": [
      "Masks saved for data/05062019_B3_3_imagedata/05062019_B3_3_Phase-0290.tif at data/masks/05062019_B3_3_Phase-0290_mask.tif\n",
      "Processing image: data/05062019_B3_3_imagedata/05062019_B3_3_Phase-0291.tif\n"
     ]
    },
    {
     "name": "stderr",
     "output_type": "stream",
     "text": [
      "/home/stuart/repos/CellPhePy/src/cellphe/input.py:175: UserWarning: data/masks/05062019_B3_3_Phase-0291_mask.tif is a low contrast image\n",
      "  io.imsave(save_path, masks.astype(\"uint16\"))  # Assuming masks are uint16\n"
     ]
    },
    {
     "name": "stdout",
     "output_type": "stream",
     "text": [
      "Masks saved for data/05062019_B3_3_imagedata/05062019_B3_3_Phase-0291.tif at data/masks/05062019_B3_3_Phase-0291_mask.tif\n",
      "Processing image: data/05062019_B3_3_imagedata/05062019_B3_3_Phase-0292.tif\n"
     ]
    },
    {
     "name": "stderr",
     "output_type": "stream",
     "text": [
      "/home/stuart/repos/CellPhePy/src/cellphe/input.py:175: UserWarning: data/masks/05062019_B3_3_Phase-0292_mask.tif is a low contrast image\n",
      "  io.imsave(save_path, masks.astype(\"uint16\"))  # Assuming masks are uint16\n"
     ]
    },
    {
     "name": "stdout",
     "output_type": "stream",
     "text": [
      "Masks saved for data/05062019_B3_3_imagedata/05062019_B3_3_Phase-0292.tif at data/masks/05062019_B3_3_Phase-0292_mask.tif\n",
      "Processing image: data/05062019_B3_3_imagedata/05062019_B3_3_Phase-0293.tif\n"
     ]
    },
    {
     "name": "stderr",
     "output_type": "stream",
     "text": [
      "/home/stuart/repos/CellPhePy/src/cellphe/input.py:175: UserWarning: data/masks/05062019_B3_3_Phase-0293_mask.tif is a low contrast image\n",
      "  io.imsave(save_path, masks.astype(\"uint16\"))  # Assuming masks are uint16\n"
     ]
    },
    {
     "name": "stdout",
     "output_type": "stream",
     "text": [
      "Masks saved for data/05062019_B3_3_imagedata/05062019_B3_3_Phase-0293.tif at data/masks/05062019_B3_3_Phase-0293_mask.tif\n",
      "Processing image: data/05062019_B3_3_imagedata/05062019_B3_3_Phase-0294.tif\n"
     ]
    },
    {
     "name": "stderr",
     "output_type": "stream",
     "text": [
      "/home/stuart/repos/CellPhePy/src/cellphe/input.py:175: UserWarning: data/masks/05062019_B3_3_Phase-0294_mask.tif is a low contrast image\n",
      "  io.imsave(save_path, masks.astype(\"uint16\"))  # Assuming masks are uint16\n"
     ]
    },
    {
     "name": "stdout",
     "output_type": "stream",
     "text": [
      "Masks saved for data/05062019_B3_3_imagedata/05062019_B3_3_Phase-0294.tif at data/masks/05062019_B3_3_Phase-0294_mask.tif\n",
      "Processing image: data/05062019_B3_3_imagedata/05062019_B3_3_Phase-0295.tif\n"
     ]
    },
    {
     "name": "stderr",
     "output_type": "stream",
     "text": [
      "/home/stuart/repos/CellPhePy/src/cellphe/input.py:175: UserWarning: data/masks/05062019_B3_3_Phase-0295_mask.tif is a low contrast image\n",
      "  io.imsave(save_path, masks.astype(\"uint16\"))  # Assuming masks are uint16\n"
     ]
    },
    {
     "name": "stdout",
     "output_type": "stream",
     "text": [
      "Masks saved for data/05062019_B3_3_imagedata/05062019_B3_3_Phase-0295.tif at data/masks/05062019_B3_3_Phase-0295_mask.tif\n",
      "Processing image: data/05062019_B3_3_imagedata/05062019_B3_3_Phase-0296.tif\n"
     ]
    },
    {
     "name": "stderr",
     "output_type": "stream",
     "text": [
      "/home/stuart/repos/CellPhePy/src/cellphe/input.py:175: UserWarning: data/masks/05062019_B3_3_Phase-0296_mask.tif is a low contrast image\n",
      "  io.imsave(save_path, masks.astype(\"uint16\"))  # Assuming masks are uint16\n"
     ]
    },
    {
     "name": "stdout",
     "output_type": "stream",
     "text": [
      "Masks saved for data/05062019_B3_3_imagedata/05062019_B3_3_Phase-0296.tif at data/masks/05062019_B3_3_Phase-0296_mask.tif\n",
      "Processing image: data/05062019_B3_3_imagedata/05062019_B3_3_Phase-0297.tif\n"
     ]
    },
    {
     "name": "stderr",
     "output_type": "stream",
     "text": [
      "/home/stuart/repos/CellPhePy/src/cellphe/input.py:175: UserWarning: data/masks/05062019_B3_3_Phase-0297_mask.tif is a low contrast image\n",
      "  io.imsave(save_path, masks.astype(\"uint16\"))  # Assuming masks are uint16\n"
     ]
    },
    {
     "name": "stdout",
     "output_type": "stream",
     "text": [
      "Masks saved for data/05062019_B3_3_imagedata/05062019_B3_3_Phase-0297.tif at data/masks/05062019_B3_3_Phase-0297_mask.tif\n",
      "Processing image: data/05062019_B3_3_imagedata/05062019_B3_3_Phase-0298.tif\n"
     ]
    },
    {
     "name": "stderr",
     "output_type": "stream",
     "text": [
      "/home/stuart/repos/CellPhePy/src/cellphe/input.py:175: UserWarning: data/masks/05062019_B3_3_Phase-0298_mask.tif is a low contrast image\n",
      "  io.imsave(save_path, masks.astype(\"uint16\"))  # Assuming masks are uint16\n"
     ]
    },
    {
     "name": "stdout",
     "output_type": "stream",
     "text": [
      "Masks saved for data/05062019_B3_3_imagedata/05062019_B3_3_Phase-0298.tif at data/masks/05062019_B3_3_Phase-0298_mask.tif\n",
      "Processing image: data/05062019_B3_3_imagedata/05062019_B3_3_Phase-0299.tif\n"
     ]
    },
    {
     "name": "stderr",
     "output_type": "stream",
     "text": [
      "/home/stuart/repos/CellPhePy/src/cellphe/input.py:175: UserWarning: data/masks/05062019_B3_3_Phase-0299_mask.tif is a low contrast image\n",
      "  io.imsave(save_path, masks.astype(\"uint16\"))  # Assuming masks are uint16\n"
     ]
    },
    {
     "name": "stdout",
     "output_type": "stream",
     "text": [
      "Masks saved for data/05062019_B3_3_imagedata/05062019_B3_3_Phase-0299.tif at data/masks/05062019_B3_3_Phase-0299_mask.tif\n",
      "Processing image: data/05062019_B3_3_imagedata/05062019_B3_3_Phase-0300.tif\n"
     ]
    },
    {
     "name": "stderr",
     "output_type": "stream",
     "text": [
      "/home/stuart/repos/CellPhePy/src/cellphe/input.py:175: UserWarning: data/masks/05062019_B3_3_Phase-0300_mask.tif is a low contrast image\n",
      "  io.imsave(save_path, masks.astype(\"uint16\"))  # Assuming masks are uint16\n"
     ]
    },
    {
     "name": "stdout",
     "output_type": "stream",
     "text": [
      "Masks saved for data/05062019_B3_3_imagedata/05062019_B3_3_Phase-0300.tif at data/masks/05062019_B3_3_Phase-0300_mask.tif\n",
      "Processing image: data/05062019_B3_3_imagedata/05062019_B3_3_Phase-0301.tif\n"
     ]
    },
    {
     "name": "stderr",
     "output_type": "stream",
     "text": [
      "/home/stuart/repos/CellPhePy/src/cellphe/input.py:175: UserWarning: data/masks/05062019_B3_3_Phase-0301_mask.tif is a low contrast image\n",
      "  io.imsave(save_path, masks.astype(\"uint16\"))  # Assuming masks are uint16\n"
     ]
    },
    {
     "name": "stdout",
     "output_type": "stream",
     "text": [
      "Masks saved for data/05062019_B3_3_imagedata/05062019_B3_3_Phase-0301.tif at data/masks/05062019_B3_3_Phase-0301_mask.tif\n",
      "Processing image: data/05062019_B3_3_imagedata/05062019_B3_3_Phase-0302.tif\n"
     ]
    },
    {
     "name": "stderr",
     "output_type": "stream",
     "text": [
      "/home/stuart/repos/CellPhePy/src/cellphe/input.py:175: UserWarning: data/masks/05062019_B3_3_Phase-0302_mask.tif is a low contrast image\n",
      "  io.imsave(save_path, masks.astype(\"uint16\"))  # Assuming masks are uint16\n"
     ]
    },
    {
     "name": "stdout",
     "output_type": "stream",
     "text": [
      "Masks saved for data/05062019_B3_3_imagedata/05062019_B3_3_Phase-0302.tif at data/masks/05062019_B3_3_Phase-0302_mask.tif\n",
      "Processing image: data/05062019_B3_3_imagedata/05062019_B3_3_Phase-0303.tif\n"
     ]
    },
    {
     "name": "stderr",
     "output_type": "stream",
     "text": [
      "/home/stuart/repos/CellPhePy/src/cellphe/input.py:175: UserWarning: data/masks/05062019_B3_3_Phase-0303_mask.tif is a low contrast image\n",
      "  io.imsave(save_path, masks.astype(\"uint16\"))  # Assuming masks are uint16\n"
     ]
    },
    {
     "name": "stdout",
     "output_type": "stream",
     "text": [
      "Masks saved for data/05062019_B3_3_imagedata/05062019_B3_3_Phase-0303.tif at data/masks/05062019_B3_3_Phase-0303_mask.tif\n",
      "Processing image: data/05062019_B3_3_imagedata/05062019_B3_3_Phase-0304.tif\n"
     ]
    },
    {
     "name": "stderr",
     "output_type": "stream",
     "text": [
      "/home/stuart/repos/CellPhePy/src/cellphe/input.py:175: UserWarning: data/masks/05062019_B3_3_Phase-0304_mask.tif is a low contrast image\n",
      "  io.imsave(save_path, masks.astype(\"uint16\"))  # Assuming masks are uint16\n"
     ]
    },
    {
     "name": "stdout",
     "output_type": "stream",
     "text": [
      "Masks saved for data/05062019_B3_3_imagedata/05062019_B3_3_Phase-0304.tif at data/masks/05062019_B3_3_Phase-0304_mask.tif\n",
      "Processing image: data/05062019_B3_3_imagedata/05062019_B3_3_Phase-0305.tif\n"
     ]
    },
    {
     "name": "stderr",
     "output_type": "stream",
     "text": [
      "/home/stuart/repos/CellPhePy/src/cellphe/input.py:175: UserWarning: data/masks/05062019_B3_3_Phase-0305_mask.tif is a low contrast image\n",
      "  io.imsave(save_path, masks.astype(\"uint16\"))  # Assuming masks are uint16\n"
     ]
    },
    {
     "name": "stdout",
     "output_type": "stream",
     "text": [
      "Masks saved for data/05062019_B3_3_imagedata/05062019_B3_3_Phase-0305.tif at data/masks/05062019_B3_3_Phase-0305_mask.tif\n",
      "Processing image: data/05062019_B3_3_imagedata/05062019_B3_3_Phase-0306.tif\n"
     ]
    },
    {
     "name": "stderr",
     "output_type": "stream",
     "text": [
      "/home/stuart/repos/CellPhePy/src/cellphe/input.py:175: UserWarning: data/masks/05062019_B3_3_Phase-0306_mask.tif is a low contrast image\n",
      "  io.imsave(save_path, masks.astype(\"uint16\"))  # Assuming masks are uint16\n"
     ]
    },
    {
     "name": "stdout",
     "output_type": "stream",
     "text": [
      "Masks saved for data/05062019_B3_3_imagedata/05062019_B3_3_Phase-0306.tif at data/masks/05062019_B3_3_Phase-0306_mask.tif\n",
      "Processing image: data/05062019_B3_3_imagedata/05062019_B3_3_Phase-0307.tif\n"
     ]
    },
    {
     "name": "stderr",
     "output_type": "stream",
     "text": [
      "/home/stuart/repos/CellPhePy/src/cellphe/input.py:175: UserWarning: data/masks/05062019_B3_3_Phase-0307_mask.tif is a low contrast image\n",
      "  io.imsave(save_path, masks.astype(\"uint16\"))  # Assuming masks are uint16\n"
     ]
    },
    {
     "name": "stdout",
     "output_type": "stream",
     "text": [
      "Masks saved for data/05062019_B3_3_imagedata/05062019_B3_3_Phase-0307.tif at data/masks/05062019_B3_3_Phase-0307_mask.tif\n",
      "Processing image: data/05062019_B3_3_imagedata/05062019_B3_3_Phase-0308.tif\n"
     ]
    },
    {
     "name": "stderr",
     "output_type": "stream",
     "text": [
      "/home/stuart/repos/CellPhePy/src/cellphe/input.py:175: UserWarning: data/masks/05062019_B3_3_Phase-0308_mask.tif is a low contrast image\n",
      "  io.imsave(save_path, masks.astype(\"uint16\"))  # Assuming masks are uint16\n"
     ]
    },
    {
     "name": "stdout",
     "output_type": "stream",
     "text": [
      "Masks saved for data/05062019_B3_3_imagedata/05062019_B3_3_Phase-0308.tif at data/masks/05062019_B3_3_Phase-0308_mask.tif\n",
      "Processing image: data/05062019_B3_3_imagedata/05062019_B3_3_Phase-0309.tif\n"
     ]
    },
    {
     "name": "stderr",
     "output_type": "stream",
     "text": [
      "/home/stuart/repos/CellPhePy/src/cellphe/input.py:175: UserWarning: data/masks/05062019_B3_3_Phase-0309_mask.tif is a low contrast image\n",
      "  io.imsave(save_path, masks.astype(\"uint16\"))  # Assuming masks are uint16\n"
     ]
    },
    {
     "name": "stdout",
     "output_type": "stream",
     "text": [
      "Masks saved for data/05062019_B3_3_imagedata/05062019_B3_3_Phase-0309.tif at data/masks/05062019_B3_3_Phase-0309_mask.tif\n",
      "Processing image: data/05062019_B3_3_imagedata/05062019_B3_3_Phase-0310.tif\n"
     ]
    },
    {
     "name": "stderr",
     "output_type": "stream",
     "text": [
      "/home/stuart/repos/CellPhePy/src/cellphe/input.py:175: UserWarning: data/masks/05062019_B3_3_Phase-0310_mask.tif is a low contrast image\n",
      "  io.imsave(save_path, masks.astype(\"uint16\"))  # Assuming masks are uint16\n"
     ]
    },
    {
     "name": "stdout",
     "output_type": "stream",
     "text": [
      "Masks saved for data/05062019_B3_3_imagedata/05062019_B3_3_Phase-0310.tif at data/masks/05062019_B3_3_Phase-0310_mask.tif\n",
      "Processing image: data/05062019_B3_3_imagedata/05062019_B3_3_Phase-0311.tif\n"
     ]
    },
    {
     "name": "stderr",
     "output_type": "stream",
     "text": [
      "/home/stuart/repos/CellPhePy/src/cellphe/input.py:175: UserWarning: data/masks/05062019_B3_3_Phase-0311_mask.tif is a low contrast image\n",
      "  io.imsave(save_path, masks.astype(\"uint16\"))  # Assuming masks are uint16\n"
     ]
    },
    {
     "name": "stdout",
     "output_type": "stream",
     "text": [
      "Masks saved for data/05062019_B3_3_imagedata/05062019_B3_3_Phase-0311.tif at data/masks/05062019_B3_3_Phase-0311_mask.tif\n",
      "Processing image: data/05062019_B3_3_imagedata/05062019_B3_3_Phase-0312.tif\n"
     ]
    },
    {
     "name": "stderr",
     "output_type": "stream",
     "text": [
      "/home/stuart/repos/CellPhePy/src/cellphe/input.py:175: UserWarning: data/masks/05062019_B3_3_Phase-0312_mask.tif is a low contrast image\n",
      "  io.imsave(save_path, masks.astype(\"uint16\"))  # Assuming masks are uint16\n"
     ]
    },
    {
     "name": "stdout",
     "output_type": "stream",
     "text": [
      "Masks saved for data/05062019_B3_3_imagedata/05062019_B3_3_Phase-0312.tif at data/masks/05062019_B3_3_Phase-0312_mask.tif\n",
      "Processing image: data/05062019_B3_3_imagedata/05062019_B3_3_Phase-0313.tif\n"
     ]
    },
    {
     "name": "stderr",
     "output_type": "stream",
     "text": [
      "/home/stuart/repos/CellPhePy/src/cellphe/input.py:175: UserWarning: data/masks/05062019_B3_3_Phase-0313_mask.tif is a low contrast image\n",
      "  io.imsave(save_path, masks.astype(\"uint16\"))  # Assuming masks are uint16\n"
     ]
    },
    {
     "name": "stdout",
     "output_type": "stream",
     "text": [
      "Masks saved for data/05062019_B3_3_imagedata/05062019_B3_3_Phase-0313.tif at data/masks/05062019_B3_3_Phase-0313_mask.tif\n",
      "Processing image: data/05062019_B3_3_imagedata/05062019_B3_3_Phase-0314.tif\n"
     ]
    },
    {
     "name": "stderr",
     "output_type": "stream",
     "text": [
      "/home/stuart/repos/CellPhePy/src/cellphe/input.py:175: UserWarning: data/masks/05062019_B3_3_Phase-0314_mask.tif is a low contrast image\n",
      "  io.imsave(save_path, masks.astype(\"uint16\"))  # Assuming masks are uint16\n"
     ]
    },
    {
     "name": "stdout",
     "output_type": "stream",
     "text": [
      "Masks saved for data/05062019_B3_3_imagedata/05062019_B3_3_Phase-0314.tif at data/masks/05062019_B3_3_Phase-0314_mask.tif\n",
      "Processing image: data/05062019_B3_3_imagedata/05062019_B3_3_Phase-0315.tif\n"
     ]
    },
    {
     "name": "stderr",
     "output_type": "stream",
     "text": [
      "/home/stuart/repos/CellPhePy/src/cellphe/input.py:175: UserWarning: data/masks/05062019_B3_3_Phase-0315_mask.tif is a low contrast image\n",
      "  io.imsave(save_path, masks.astype(\"uint16\"))  # Assuming masks are uint16\n"
     ]
    },
    {
     "name": "stdout",
     "output_type": "stream",
     "text": [
      "Masks saved for data/05062019_B3_3_imagedata/05062019_B3_3_Phase-0315.tif at data/masks/05062019_B3_3_Phase-0315_mask.tif\n",
      "Processing image: data/05062019_B3_3_imagedata/05062019_B3_3_Phase-0316.tif\n"
     ]
    },
    {
     "name": "stderr",
     "output_type": "stream",
     "text": [
      "/home/stuart/repos/CellPhePy/src/cellphe/input.py:175: UserWarning: data/masks/05062019_B3_3_Phase-0316_mask.tif is a low contrast image\n",
      "  io.imsave(save_path, masks.astype(\"uint16\"))  # Assuming masks are uint16\n"
     ]
    },
    {
     "name": "stdout",
     "output_type": "stream",
     "text": [
      "Masks saved for data/05062019_B3_3_imagedata/05062019_B3_3_Phase-0316.tif at data/masks/05062019_B3_3_Phase-0316_mask.tif\n",
      "Processing image: data/05062019_B3_3_imagedata/05062019_B3_3_Phase-0317.tif\n"
     ]
    },
    {
     "name": "stderr",
     "output_type": "stream",
     "text": [
      "/home/stuart/repos/CellPhePy/src/cellphe/input.py:175: UserWarning: data/masks/05062019_B3_3_Phase-0317_mask.tif is a low contrast image\n",
      "  io.imsave(save_path, masks.astype(\"uint16\"))  # Assuming masks are uint16\n"
     ]
    },
    {
     "name": "stdout",
     "output_type": "stream",
     "text": [
      "Masks saved for data/05062019_B3_3_imagedata/05062019_B3_3_Phase-0317.tif at data/masks/05062019_B3_3_Phase-0317_mask.tif\n",
      "Processing image: data/05062019_B3_3_imagedata/05062019_B3_3_Phase-0318.tif\n"
     ]
    },
    {
     "name": "stderr",
     "output_type": "stream",
     "text": [
      "/home/stuart/repos/CellPhePy/src/cellphe/input.py:175: UserWarning: data/masks/05062019_B3_3_Phase-0318_mask.tif is a low contrast image\n",
      "  io.imsave(save_path, masks.astype(\"uint16\"))  # Assuming masks are uint16\n"
     ]
    },
    {
     "name": "stdout",
     "output_type": "stream",
     "text": [
      "Masks saved for data/05062019_B3_3_imagedata/05062019_B3_3_Phase-0318.tif at data/masks/05062019_B3_3_Phase-0318_mask.tif\n",
      "Processing image: data/05062019_B3_3_imagedata/05062019_B3_3_Phase-0319.tif\n"
     ]
    },
    {
     "name": "stderr",
     "output_type": "stream",
     "text": [
      "/home/stuart/repos/CellPhePy/src/cellphe/input.py:175: UserWarning: data/masks/05062019_B3_3_Phase-0319_mask.tif is a low contrast image\n",
      "  io.imsave(save_path, masks.astype(\"uint16\"))  # Assuming masks are uint16\n"
     ]
    },
    {
     "name": "stdout",
     "output_type": "stream",
     "text": [
      "Masks saved for data/05062019_B3_3_imagedata/05062019_B3_3_Phase-0319.tif at data/masks/05062019_B3_3_Phase-0319_mask.tif\n",
      "Processing image: data/05062019_B3_3_imagedata/05062019_B3_3_Phase-0320.tif\n"
     ]
    },
    {
     "name": "stderr",
     "output_type": "stream",
     "text": [
      "/home/stuart/repos/CellPhePy/src/cellphe/input.py:175: UserWarning: data/masks/05062019_B3_3_Phase-0320_mask.tif is a low contrast image\n",
      "  io.imsave(save_path, masks.astype(\"uint16\"))  # Assuming masks are uint16\n"
     ]
    },
    {
     "name": "stdout",
     "output_type": "stream",
     "text": [
      "Masks saved for data/05062019_B3_3_imagedata/05062019_B3_3_Phase-0320.tif at data/masks/05062019_B3_3_Phase-0320_mask.tif\n",
      "Processing image: data/05062019_B3_3_imagedata/05062019_B3_3_Phase-0321.tif\n"
     ]
    },
    {
     "name": "stderr",
     "output_type": "stream",
     "text": [
      "/home/stuart/repos/CellPhePy/src/cellphe/input.py:175: UserWarning: data/masks/05062019_B3_3_Phase-0321_mask.tif is a low contrast image\n",
      "  io.imsave(save_path, masks.astype(\"uint16\"))  # Assuming masks are uint16\n"
     ]
    },
    {
     "name": "stdout",
     "output_type": "stream",
     "text": [
      "Masks saved for data/05062019_B3_3_imagedata/05062019_B3_3_Phase-0321.tif at data/masks/05062019_B3_3_Phase-0321_mask.tif\n",
      "Processing image: data/05062019_B3_3_imagedata/05062019_B3_3_Phase-0322.tif\n"
     ]
    },
    {
     "name": "stderr",
     "output_type": "stream",
     "text": [
      "/home/stuart/repos/CellPhePy/src/cellphe/input.py:175: UserWarning: data/masks/05062019_B3_3_Phase-0322_mask.tif is a low contrast image\n",
      "  io.imsave(save_path, masks.astype(\"uint16\"))  # Assuming masks are uint16\n"
     ]
    },
    {
     "name": "stdout",
     "output_type": "stream",
     "text": [
      "Masks saved for data/05062019_B3_3_imagedata/05062019_B3_3_Phase-0322.tif at data/masks/05062019_B3_3_Phase-0322_mask.tif\n",
      "Processing image: data/05062019_B3_3_imagedata/05062019_B3_3_Phase-0323.tif\n"
     ]
    },
    {
     "name": "stderr",
     "output_type": "stream",
     "text": [
      "/home/stuart/repos/CellPhePy/src/cellphe/input.py:175: UserWarning: data/masks/05062019_B3_3_Phase-0323_mask.tif is a low contrast image\n",
      "  io.imsave(save_path, masks.astype(\"uint16\"))  # Assuming masks are uint16\n"
     ]
    },
    {
     "name": "stdout",
     "output_type": "stream",
     "text": [
      "Masks saved for data/05062019_B3_3_imagedata/05062019_B3_3_Phase-0323.tif at data/masks/05062019_B3_3_Phase-0323_mask.tif\n",
      "Processing image: data/05062019_B3_3_imagedata/05062019_B3_3_Phase-0324.tif\n"
     ]
    },
    {
     "name": "stderr",
     "output_type": "stream",
     "text": [
      "/home/stuart/repos/CellPhePy/src/cellphe/input.py:175: UserWarning: data/masks/05062019_B3_3_Phase-0324_mask.tif is a low contrast image\n",
      "  io.imsave(save_path, masks.astype(\"uint16\"))  # Assuming masks are uint16\n"
     ]
    },
    {
     "name": "stdout",
     "output_type": "stream",
     "text": [
      "Masks saved for data/05062019_B3_3_imagedata/05062019_B3_3_Phase-0324.tif at data/masks/05062019_B3_3_Phase-0324_mask.tif\n",
      "Processing image: data/05062019_B3_3_imagedata/05062019_B3_3_Phase-0325.tif\n"
     ]
    },
    {
     "name": "stderr",
     "output_type": "stream",
     "text": [
      "/home/stuart/repos/CellPhePy/src/cellphe/input.py:175: UserWarning: data/masks/05062019_B3_3_Phase-0325_mask.tif is a low contrast image\n",
      "  io.imsave(save_path, masks.astype(\"uint16\"))  # Assuming masks are uint16\n"
     ]
    },
    {
     "name": "stdout",
     "output_type": "stream",
     "text": [
      "Masks saved for data/05062019_B3_3_imagedata/05062019_B3_3_Phase-0325.tif at data/masks/05062019_B3_3_Phase-0325_mask.tif\n",
      "Processing image: data/05062019_B3_3_imagedata/05062019_B3_3_Phase-0326.tif\n"
     ]
    },
    {
     "name": "stderr",
     "output_type": "stream",
     "text": [
      "/home/stuart/repos/CellPhePy/src/cellphe/input.py:175: UserWarning: data/masks/05062019_B3_3_Phase-0326_mask.tif is a low contrast image\n",
      "  io.imsave(save_path, masks.astype(\"uint16\"))  # Assuming masks are uint16\n"
     ]
    },
    {
     "name": "stdout",
     "output_type": "stream",
     "text": [
      "Masks saved for data/05062019_B3_3_imagedata/05062019_B3_3_Phase-0326.tif at data/masks/05062019_B3_3_Phase-0326_mask.tif\n",
      "Processing image: data/05062019_B3_3_imagedata/05062019_B3_3_Phase-0327.tif\n"
     ]
    },
    {
     "name": "stderr",
     "output_type": "stream",
     "text": [
      "/home/stuart/repos/CellPhePy/src/cellphe/input.py:175: UserWarning: data/masks/05062019_B3_3_Phase-0327_mask.tif is a low contrast image\n",
      "  io.imsave(save_path, masks.astype(\"uint16\"))  # Assuming masks are uint16\n"
     ]
    },
    {
     "name": "stdout",
     "output_type": "stream",
     "text": [
      "Masks saved for data/05062019_B3_3_imagedata/05062019_B3_3_Phase-0327.tif at data/masks/05062019_B3_3_Phase-0327_mask.tif\n",
      "Processing image: data/05062019_B3_3_imagedata/05062019_B3_3_Phase-0328.tif\n"
     ]
    },
    {
     "name": "stderr",
     "output_type": "stream",
     "text": [
      "/home/stuart/repos/CellPhePy/src/cellphe/input.py:175: UserWarning: data/masks/05062019_B3_3_Phase-0328_mask.tif is a low contrast image\n",
      "  io.imsave(save_path, masks.astype(\"uint16\"))  # Assuming masks are uint16\n"
     ]
    },
    {
     "name": "stdout",
     "output_type": "stream",
     "text": [
      "Masks saved for data/05062019_B3_3_imagedata/05062019_B3_3_Phase-0328.tif at data/masks/05062019_B3_3_Phase-0328_mask.tif\n",
      "Processing image: data/05062019_B3_3_imagedata/05062019_B3_3_Phase-0329.tif\n"
     ]
    },
    {
     "name": "stderr",
     "output_type": "stream",
     "text": [
      "/home/stuart/repos/CellPhePy/src/cellphe/input.py:175: UserWarning: data/masks/05062019_B3_3_Phase-0329_mask.tif is a low contrast image\n",
      "  io.imsave(save_path, masks.astype(\"uint16\"))  # Assuming masks are uint16\n"
     ]
    },
    {
     "name": "stdout",
     "output_type": "stream",
     "text": [
      "Masks saved for data/05062019_B3_3_imagedata/05062019_B3_3_Phase-0329.tif at data/masks/05062019_B3_3_Phase-0329_mask.tif\n",
      "Processing image: data/05062019_B3_3_imagedata/05062019_B3_3_Phase-0330.tif\n"
     ]
    },
    {
     "name": "stderr",
     "output_type": "stream",
     "text": [
      "/home/stuart/repos/CellPhePy/src/cellphe/input.py:175: UserWarning: data/masks/05062019_B3_3_Phase-0330_mask.tif is a low contrast image\n",
      "  io.imsave(save_path, masks.astype(\"uint16\"))  # Assuming masks are uint16\n"
     ]
    },
    {
     "name": "stdout",
     "output_type": "stream",
     "text": [
      "Masks saved for data/05062019_B3_3_imagedata/05062019_B3_3_Phase-0330.tif at data/masks/05062019_B3_3_Phase-0330_mask.tif\n",
      "Processing image: data/05062019_B3_3_imagedata/05062019_B3_3_Phase-0331.tif\n"
     ]
    },
    {
     "name": "stderr",
     "output_type": "stream",
     "text": [
      "/home/stuart/repos/CellPhePy/src/cellphe/input.py:175: UserWarning: data/masks/05062019_B3_3_Phase-0331_mask.tif is a low contrast image\n",
      "  io.imsave(save_path, masks.astype(\"uint16\"))  # Assuming masks are uint16\n"
     ]
    },
    {
     "name": "stdout",
     "output_type": "stream",
     "text": [
      "Masks saved for data/05062019_B3_3_imagedata/05062019_B3_3_Phase-0331.tif at data/masks/05062019_B3_3_Phase-0331_mask.tif\n",
      "Processing image: data/05062019_B3_3_imagedata/05062019_B3_3_Phase-0332.tif\n"
     ]
    },
    {
     "name": "stderr",
     "output_type": "stream",
     "text": [
      "/home/stuart/repos/CellPhePy/src/cellphe/input.py:175: UserWarning: data/masks/05062019_B3_3_Phase-0332_mask.tif is a low contrast image\n",
      "  io.imsave(save_path, masks.astype(\"uint16\"))  # Assuming masks are uint16\n"
     ]
    },
    {
     "name": "stdout",
     "output_type": "stream",
     "text": [
      "Masks saved for data/05062019_B3_3_imagedata/05062019_B3_3_Phase-0332.tif at data/masks/05062019_B3_3_Phase-0332_mask.tif\n",
      "Processing image: data/05062019_B3_3_imagedata/05062019_B3_3_Phase-0333.tif\n"
     ]
    },
    {
     "name": "stderr",
     "output_type": "stream",
     "text": [
      "/home/stuart/repos/CellPhePy/src/cellphe/input.py:175: UserWarning: data/masks/05062019_B3_3_Phase-0333_mask.tif is a low contrast image\n",
      "  io.imsave(save_path, masks.astype(\"uint16\"))  # Assuming masks are uint16\n"
     ]
    },
    {
     "name": "stdout",
     "output_type": "stream",
     "text": [
      "Masks saved for data/05062019_B3_3_imagedata/05062019_B3_3_Phase-0333.tif at data/masks/05062019_B3_3_Phase-0333_mask.tif\n",
      "Processing image: data/05062019_B3_3_imagedata/05062019_B3_3_Phase-0334.tif\n"
     ]
    },
    {
     "name": "stderr",
     "output_type": "stream",
     "text": [
      "/home/stuart/repos/CellPhePy/src/cellphe/input.py:175: UserWarning: data/masks/05062019_B3_3_Phase-0334_mask.tif is a low contrast image\n",
      "  io.imsave(save_path, masks.astype(\"uint16\"))  # Assuming masks are uint16\n"
     ]
    },
    {
     "name": "stdout",
     "output_type": "stream",
     "text": [
      "Masks saved for data/05062019_B3_3_imagedata/05062019_B3_3_Phase-0334.tif at data/masks/05062019_B3_3_Phase-0334_mask.tif\n",
      "Processing image: data/05062019_B3_3_imagedata/05062019_B3_3_Phase-0335.tif\n"
     ]
    },
    {
     "name": "stderr",
     "output_type": "stream",
     "text": [
      "/home/stuart/repos/CellPhePy/src/cellphe/input.py:175: UserWarning: data/masks/05062019_B3_3_Phase-0335_mask.tif is a low contrast image\n",
      "  io.imsave(save_path, masks.astype(\"uint16\"))  # Assuming masks are uint16\n"
     ]
    },
    {
     "name": "stdout",
     "output_type": "stream",
     "text": [
      "Masks saved for data/05062019_B3_3_imagedata/05062019_B3_3_Phase-0335.tif at data/masks/05062019_B3_3_Phase-0335_mask.tif\n",
      "Processing image: data/05062019_B3_3_imagedata/05062019_B3_3_Phase-0336.tif\n"
     ]
    },
    {
     "name": "stderr",
     "output_type": "stream",
     "text": [
      "/home/stuart/repos/CellPhePy/src/cellphe/input.py:175: UserWarning: data/masks/05062019_B3_3_Phase-0336_mask.tif is a low contrast image\n",
      "  io.imsave(save_path, masks.astype(\"uint16\"))  # Assuming masks are uint16\n"
     ]
    },
    {
     "name": "stdout",
     "output_type": "stream",
     "text": [
      "Masks saved for data/05062019_B3_3_imagedata/05062019_B3_3_Phase-0336.tif at data/masks/05062019_B3_3_Phase-0336_mask.tif\n",
      "Processing image: data/05062019_B3_3_imagedata/05062019_B3_3_Phase-0337.tif\n"
     ]
    },
    {
     "name": "stderr",
     "output_type": "stream",
     "text": [
      "/home/stuart/repos/CellPhePy/src/cellphe/input.py:175: UserWarning: data/masks/05062019_B3_3_Phase-0337_mask.tif is a low contrast image\n",
      "  io.imsave(save_path, masks.astype(\"uint16\"))  # Assuming masks are uint16\n"
     ]
    },
    {
     "name": "stdout",
     "output_type": "stream",
     "text": [
      "Masks saved for data/05062019_B3_3_imagedata/05062019_B3_3_Phase-0337.tif at data/masks/05062019_B3_3_Phase-0337_mask.tif\n",
      "Processing image: data/05062019_B3_3_imagedata/05062019_B3_3_Phase-0338.tif\n"
     ]
    },
    {
     "name": "stderr",
     "output_type": "stream",
     "text": [
      "/home/stuart/repos/CellPhePy/src/cellphe/input.py:175: UserWarning: data/masks/05062019_B3_3_Phase-0338_mask.tif is a low contrast image\n",
      "  io.imsave(save_path, masks.astype(\"uint16\"))  # Assuming masks are uint16\n"
     ]
    },
    {
     "name": "stdout",
     "output_type": "stream",
     "text": [
      "Masks saved for data/05062019_B3_3_imagedata/05062019_B3_3_Phase-0338.tif at data/masks/05062019_B3_3_Phase-0338_mask.tif\n",
      "Processing image: data/05062019_B3_3_imagedata/05062019_B3_3_Phase-0339.tif\n"
     ]
    },
    {
     "name": "stderr",
     "output_type": "stream",
     "text": [
      "/home/stuart/repos/CellPhePy/src/cellphe/input.py:175: UserWarning: data/masks/05062019_B3_3_Phase-0339_mask.tif is a low contrast image\n",
      "  io.imsave(save_path, masks.astype(\"uint16\"))  # Assuming masks are uint16\n"
     ]
    },
    {
     "name": "stdout",
     "output_type": "stream",
     "text": [
      "Masks saved for data/05062019_B3_3_imagedata/05062019_B3_3_Phase-0339.tif at data/masks/05062019_B3_3_Phase-0339_mask.tif\n",
      "Processing image: data/05062019_B3_3_imagedata/05062019_B3_3_Phase-0340.tif\n"
     ]
    },
    {
     "name": "stderr",
     "output_type": "stream",
     "text": [
      "/home/stuart/repos/CellPhePy/src/cellphe/input.py:175: UserWarning: data/masks/05062019_B3_3_Phase-0340_mask.tif is a low contrast image\n",
      "  io.imsave(save_path, masks.astype(\"uint16\"))  # Assuming masks are uint16\n"
     ]
    },
    {
     "name": "stdout",
     "output_type": "stream",
     "text": [
      "Masks saved for data/05062019_B3_3_imagedata/05062019_B3_3_Phase-0340.tif at data/masks/05062019_B3_3_Phase-0340_mask.tif\n",
      "Processing image: data/05062019_B3_3_imagedata/05062019_B3_3_Phase-0341.tif\n"
     ]
    },
    {
     "name": "stderr",
     "output_type": "stream",
     "text": [
      "/home/stuart/repos/CellPhePy/src/cellphe/input.py:175: UserWarning: data/masks/05062019_B3_3_Phase-0341_mask.tif is a low contrast image\n",
      "  io.imsave(save_path, masks.astype(\"uint16\"))  # Assuming masks are uint16\n"
     ]
    },
    {
     "name": "stdout",
     "output_type": "stream",
     "text": [
      "Masks saved for data/05062019_B3_3_imagedata/05062019_B3_3_Phase-0341.tif at data/masks/05062019_B3_3_Phase-0341_mask.tif\n",
      "Processing image: data/05062019_B3_3_imagedata/05062019_B3_3_Phase-0342.tif\n"
     ]
    },
    {
     "name": "stderr",
     "output_type": "stream",
     "text": [
      "/home/stuart/repos/CellPhePy/src/cellphe/input.py:175: UserWarning: data/masks/05062019_B3_3_Phase-0342_mask.tif is a low contrast image\n",
      "  io.imsave(save_path, masks.astype(\"uint16\"))  # Assuming masks are uint16\n"
     ]
    },
    {
     "name": "stdout",
     "output_type": "stream",
     "text": [
      "Masks saved for data/05062019_B3_3_imagedata/05062019_B3_3_Phase-0342.tif at data/masks/05062019_B3_3_Phase-0342_mask.tif\n",
      "Processing image: data/05062019_B3_3_imagedata/05062019_B3_3_Phase-0343.tif\n"
     ]
    },
    {
     "name": "stderr",
     "output_type": "stream",
     "text": [
      "/home/stuart/repos/CellPhePy/src/cellphe/input.py:175: UserWarning: data/masks/05062019_B3_3_Phase-0343_mask.tif is a low contrast image\n",
      "  io.imsave(save_path, masks.astype(\"uint16\"))  # Assuming masks are uint16\n"
     ]
    },
    {
     "name": "stdout",
     "output_type": "stream",
     "text": [
      "Masks saved for data/05062019_B3_3_imagedata/05062019_B3_3_Phase-0343.tif at data/masks/05062019_B3_3_Phase-0343_mask.tif\n",
      "Processing image: data/05062019_B3_3_imagedata/05062019_B3_3_Phase-0344.tif\n"
     ]
    },
    {
     "name": "stderr",
     "output_type": "stream",
     "text": [
      "/home/stuart/repos/CellPhePy/src/cellphe/input.py:175: UserWarning: data/masks/05062019_B3_3_Phase-0344_mask.tif is a low contrast image\n",
      "  io.imsave(save_path, masks.astype(\"uint16\"))  # Assuming masks are uint16\n"
     ]
    },
    {
     "name": "stdout",
     "output_type": "stream",
     "text": [
      "Masks saved for data/05062019_B3_3_imagedata/05062019_B3_3_Phase-0344.tif at data/masks/05062019_B3_3_Phase-0344_mask.tif\n",
      "Processing image: data/05062019_B3_3_imagedata/05062019_B3_3_Phase-0345.tif\n"
     ]
    },
    {
     "name": "stderr",
     "output_type": "stream",
     "text": [
      "/home/stuart/repos/CellPhePy/src/cellphe/input.py:175: UserWarning: data/masks/05062019_B3_3_Phase-0345_mask.tif is a low contrast image\n",
      "  io.imsave(save_path, masks.astype(\"uint16\"))  # Assuming masks are uint16\n"
     ]
    },
    {
     "name": "stdout",
     "output_type": "stream",
     "text": [
      "Masks saved for data/05062019_B3_3_imagedata/05062019_B3_3_Phase-0345.tif at data/masks/05062019_B3_3_Phase-0345_mask.tif\n",
      "Processing image: data/05062019_B3_3_imagedata/05062019_B3_3_Phase-0346.tif\n"
     ]
    },
    {
     "name": "stderr",
     "output_type": "stream",
     "text": [
      "/home/stuart/repos/CellPhePy/src/cellphe/input.py:175: UserWarning: data/masks/05062019_B3_3_Phase-0346_mask.tif is a low contrast image\n",
      "  io.imsave(save_path, masks.astype(\"uint16\"))  # Assuming masks are uint16\n"
     ]
    },
    {
     "name": "stdout",
     "output_type": "stream",
     "text": [
      "Masks saved for data/05062019_B3_3_imagedata/05062019_B3_3_Phase-0346.tif at data/masks/05062019_B3_3_Phase-0346_mask.tif\n",
      "Processing image: data/05062019_B3_3_imagedata/05062019_B3_3_Phase-0347.tif\n"
     ]
    },
    {
     "name": "stderr",
     "output_type": "stream",
     "text": [
      "/home/stuart/repos/CellPhePy/src/cellphe/input.py:175: UserWarning: data/masks/05062019_B3_3_Phase-0347_mask.tif is a low contrast image\n",
      "  io.imsave(save_path, masks.astype(\"uint16\"))  # Assuming masks are uint16\n"
     ]
    },
    {
     "name": "stdout",
     "output_type": "stream",
     "text": [
      "Masks saved for data/05062019_B3_3_imagedata/05062019_B3_3_Phase-0347.tif at data/masks/05062019_B3_3_Phase-0347_mask.tif\n",
      "Processing image: data/05062019_B3_3_imagedata/05062019_B3_3_Phase-0348.tif\n"
     ]
    },
    {
     "name": "stderr",
     "output_type": "stream",
     "text": [
      "/home/stuart/repos/CellPhePy/src/cellphe/input.py:175: UserWarning: data/masks/05062019_B3_3_Phase-0348_mask.tif is a low contrast image\n",
      "  io.imsave(save_path, masks.astype(\"uint16\"))  # Assuming masks are uint16\n"
     ]
    },
    {
     "name": "stdout",
     "output_type": "stream",
     "text": [
      "Masks saved for data/05062019_B3_3_imagedata/05062019_B3_3_Phase-0348.tif at data/masks/05062019_B3_3_Phase-0348_mask.tif\n",
      "Processing image: data/05062019_B3_3_imagedata/05062019_B3_3_Phase-0349.tif\n"
     ]
    },
    {
     "name": "stderr",
     "output_type": "stream",
     "text": [
      "/home/stuart/repos/CellPhePy/src/cellphe/input.py:175: UserWarning: data/masks/05062019_B3_3_Phase-0349_mask.tif is a low contrast image\n",
      "  io.imsave(save_path, masks.astype(\"uint16\"))  # Assuming masks are uint16\n"
     ]
    },
    {
     "name": "stdout",
     "output_type": "stream",
     "text": [
      "Masks saved for data/05062019_B3_3_imagedata/05062019_B3_3_Phase-0349.tif at data/masks/05062019_B3_3_Phase-0349_mask.tif\n",
      "Processing image: data/05062019_B3_3_imagedata/05062019_B3_3_Phase-0350.tif\n"
     ]
    },
    {
     "name": "stderr",
     "output_type": "stream",
     "text": [
      "/home/stuart/repos/CellPhePy/src/cellphe/input.py:175: UserWarning: data/masks/05062019_B3_3_Phase-0350_mask.tif is a low contrast image\n",
      "  io.imsave(save_path, masks.astype(\"uint16\"))  # Assuming masks are uint16\n"
     ]
    },
    {
     "name": "stdout",
     "output_type": "stream",
     "text": [
      "Masks saved for data/05062019_B3_3_imagedata/05062019_B3_3_Phase-0350.tif at data/masks/05062019_B3_3_Phase-0350_mask.tif\n",
      "Processing image: data/05062019_B3_3_imagedata/05062019_B3_3_Phase-0351.tif\n"
     ]
    },
    {
     "name": "stderr",
     "output_type": "stream",
     "text": [
      "/home/stuart/repos/CellPhePy/src/cellphe/input.py:175: UserWarning: data/masks/05062019_B3_3_Phase-0351_mask.tif is a low contrast image\n",
      "  io.imsave(save_path, masks.astype(\"uint16\"))  # Assuming masks are uint16\n"
     ]
    },
    {
     "name": "stdout",
     "output_type": "stream",
     "text": [
      "Masks saved for data/05062019_B3_3_imagedata/05062019_B3_3_Phase-0351.tif at data/masks/05062019_B3_3_Phase-0351_mask.tif\n",
      "Processing image: data/05062019_B3_3_imagedata/05062019_B3_3_Phase-0352.tif\n"
     ]
    },
    {
     "name": "stderr",
     "output_type": "stream",
     "text": [
      "/home/stuart/repos/CellPhePy/src/cellphe/input.py:175: UserWarning: data/masks/05062019_B3_3_Phase-0352_mask.tif is a low contrast image\n",
      "  io.imsave(save_path, masks.astype(\"uint16\"))  # Assuming masks are uint16\n"
     ]
    },
    {
     "name": "stdout",
     "output_type": "stream",
     "text": [
      "Masks saved for data/05062019_B3_3_imagedata/05062019_B3_3_Phase-0352.tif at data/masks/05062019_B3_3_Phase-0352_mask.tif\n",
      "Processing image: data/05062019_B3_3_imagedata/05062019_B3_3_Phase-0353.tif\n"
     ]
    },
    {
     "name": "stderr",
     "output_type": "stream",
     "text": [
      "/home/stuart/repos/CellPhePy/src/cellphe/input.py:175: UserWarning: data/masks/05062019_B3_3_Phase-0353_mask.tif is a low contrast image\n",
      "  io.imsave(save_path, masks.astype(\"uint16\"))  # Assuming masks are uint16\n"
     ]
    },
    {
     "name": "stdout",
     "output_type": "stream",
     "text": [
      "Masks saved for data/05062019_B3_3_imagedata/05062019_B3_3_Phase-0353.tif at data/masks/05062019_B3_3_Phase-0353_mask.tif\n",
      "Processing image: data/05062019_B3_3_imagedata/05062019_B3_3_Phase-0354.tif\n"
     ]
    },
    {
     "name": "stderr",
     "output_type": "stream",
     "text": [
      "/home/stuart/repos/CellPhePy/src/cellphe/input.py:175: UserWarning: data/masks/05062019_B3_3_Phase-0354_mask.tif is a low contrast image\n",
      "  io.imsave(save_path, masks.astype(\"uint16\"))  # Assuming masks are uint16\n"
     ]
    },
    {
     "name": "stdout",
     "output_type": "stream",
     "text": [
      "Masks saved for data/05062019_B3_3_imagedata/05062019_B3_3_Phase-0354.tif at data/masks/05062019_B3_3_Phase-0354_mask.tif\n",
      "Processing image: data/05062019_B3_3_imagedata/05062019_B3_3_Phase-0355.tif\n"
     ]
    },
    {
     "name": "stderr",
     "output_type": "stream",
     "text": [
      "/home/stuart/repos/CellPhePy/src/cellphe/input.py:175: UserWarning: data/masks/05062019_B3_3_Phase-0355_mask.tif is a low contrast image\n",
      "  io.imsave(save_path, masks.astype(\"uint16\"))  # Assuming masks are uint16\n"
     ]
    },
    {
     "name": "stdout",
     "output_type": "stream",
     "text": [
      "Masks saved for data/05062019_B3_3_imagedata/05062019_B3_3_Phase-0355.tif at data/masks/05062019_B3_3_Phase-0355_mask.tif\n",
      "Processing image: data/05062019_B3_3_imagedata/05062019_B3_3_Phase-0356.tif\n"
     ]
    },
    {
     "name": "stderr",
     "output_type": "stream",
     "text": [
      "/home/stuart/repos/CellPhePy/src/cellphe/input.py:175: UserWarning: data/masks/05062019_B3_3_Phase-0356_mask.tif is a low contrast image\n",
      "  io.imsave(save_path, masks.astype(\"uint16\"))  # Assuming masks are uint16\n"
     ]
    },
    {
     "name": "stdout",
     "output_type": "stream",
     "text": [
      "Masks saved for data/05062019_B3_3_imagedata/05062019_B3_3_Phase-0356.tif at data/masks/05062019_B3_3_Phase-0356_mask.tif\n",
      "Processing image: data/05062019_B3_3_imagedata/05062019_B3_3_Phase-0357.tif\n"
     ]
    },
    {
     "name": "stderr",
     "output_type": "stream",
     "text": [
      "/home/stuart/repos/CellPhePy/src/cellphe/input.py:175: UserWarning: data/masks/05062019_B3_3_Phase-0357_mask.tif is a low contrast image\n",
      "  io.imsave(save_path, masks.astype(\"uint16\"))  # Assuming masks are uint16\n"
     ]
    },
    {
     "name": "stdout",
     "output_type": "stream",
     "text": [
      "Masks saved for data/05062019_B3_3_imagedata/05062019_B3_3_Phase-0357.tif at data/masks/05062019_B3_3_Phase-0357_mask.tif\n",
      "Processing image: data/05062019_B3_3_imagedata/05062019_B3_3_Phase-0358.tif\n"
     ]
    },
    {
     "name": "stderr",
     "output_type": "stream",
     "text": [
      "/home/stuart/repos/CellPhePy/src/cellphe/input.py:175: UserWarning: data/masks/05062019_B3_3_Phase-0358_mask.tif is a low contrast image\n",
      "  io.imsave(save_path, masks.astype(\"uint16\"))  # Assuming masks are uint16\n"
     ]
    },
    {
     "name": "stdout",
     "output_type": "stream",
     "text": [
      "Masks saved for data/05062019_B3_3_imagedata/05062019_B3_3_Phase-0358.tif at data/masks/05062019_B3_3_Phase-0358_mask.tif\n",
      "Processing image: data/05062019_B3_3_imagedata/05062019_B3_3_Phase-0359.tif\n"
     ]
    },
    {
     "name": "stderr",
     "output_type": "stream",
     "text": [
      "/home/stuart/repos/CellPhePy/src/cellphe/input.py:175: UserWarning: data/masks/05062019_B3_3_Phase-0359_mask.tif is a low contrast image\n",
      "  io.imsave(save_path, masks.astype(\"uint16\"))  # Assuming masks are uint16\n"
     ]
    },
    {
     "name": "stdout",
     "output_type": "stream",
     "text": [
      "Masks saved for data/05062019_B3_3_imagedata/05062019_B3_3_Phase-0359.tif at data/masks/05062019_B3_3_Phase-0359_mask.tif\n",
      "Processing image: data/05062019_B3_3_imagedata/05062019_B3_3_Phase-0360.tif\n"
     ]
    },
    {
     "name": "stderr",
     "output_type": "stream",
     "text": [
      "/home/stuart/repos/CellPhePy/src/cellphe/input.py:175: UserWarning: data/masks/05062019_B3_3_Phase-0360_mask.tif is a low contrast image\n",
      "  io.imsave(save_path, masks.astype(\"uint16\"))  # Assuming masks are uint16\n"
     ]
    },
    {
     "name": "stdout",
     "output_type": "stream",
     "text": [
      "Masks saved for data/05062019_B3_3_imagedata/05062019_B3_3_Phase-0360.tif at data/masks/05062019_B3_3_Phase-0360_mask.tif\n",
      "Processing image: data/05062019_B3_3_imagedata/05062019_B3_3_Phase-0361.tif\n"
     ]
    },
    {
     "name": "stderr",
     "output_type": "stream",
     "text": [
      "/home/stuart/repos/CellPhePy/src/cellphe/input.py:175: UserWarning: data/masks/05062019_B3_3_Phase-0361_mask.tif is a low contrast image\n",
      "  io.imsave(save_path, masks.astype(\"uint16\"))  # Assuming masks are uint16\n"
     ]
    },
    {
     "name": "stdout",
     "output_type": "stream",
     "text": [
      "Masks saved for data/05062019_B3_3_imagedata/05062019_B3_3_Phase-0361.tif at data/masks/05062019_B3_3_Phase-0361_mask.tif\n",
      "Processing image: data/05062019_B3_3_imagedata/05062019_B3_3_Phase-0362.tif\n"
     ]
    },
    {
     "name": "stderr",
     "output_type": "stream",
     "text": [
      "/home/stuart/repos/CellPhePy/src/cellphe/input.py:175: UserWarning: data/masks/05062019_B3_3_Phase-0362_mask.tif is a low contrast image\n",
      "  io.imsave(save_path, masks.astype(\"uint16\"))  # Assuming masks are uint16\n"
     ]
    },
    {
     "name": "stdout",
     "output_type": "stream",
     "text": [
      "Masks saved for data/05062019_B3_3_imagedata/05062019_B3_3_Phase-0362.tif at data/masks/05062019_B3_3_Phase-0362_mask.tif\n",
      "Processing image: data/05062019_B3_3_imagedata/05062019_B3_3_Phase-0363.tif\n"
     ]
    },
    {
     "name": "stderr",
     "output_type": "stream",
     "text": [
      "/home/stuart/repos/CellPhePy/src/cellphe/input.py:175: UserWarning: data/masks/05062019_B3_3_Phase-0363_mask.tif is a low contrast image\n",
      "  io.imsave(save_path, masks.astype(\"uint16\"))  # Assuming masks are uint16\n"
     ]
    },
    {
     "name": "stdout",
     "output_type": "stream",
     "text": [
      "Masks saved for data/05062019_B3_3_imagedata/05062019_B3_3_Phase-0363.tif at data/masks/05062019_B3_3_Phase-0363_mask.tif\n",
      "Processing image: data/05062019_B3_3_imagedata/05062019_B3_3_Phase-0364.tif\n"
     ]
    },
    {
     "name": "stderr",
     "output_type": "stream",
     "text": [
      "/home/stuart/repos/CellPhePy/src/cellphe/input.py:175: UserWarning: data/masks/05062019_B3_3_Phase-0364_mask.tif is a low contrast image\n",
      "  io.imsave(save_path, masks.astype(\"uint16\"))  # Assuming masks are uint16\n"
     ]
    },
    {
     "name": "stdout",
     "output_type": "stream",
     "text": [
      "Masks saved for data/05062019_B3_3_imagedata/05062019_B3_3_Phase-0364.tif at data/masks/05062019_B3_3_Phase-0364_mask.tif\n",
      "Processing image: data/05062019_B3_3_imagedata/05062019_B3_3_Phase-0365.tif\n"
     ]
    },
    {
     "name": "stderr",
     "output_type": "stream",
     "text": [
      "/home/stuart/repos/CellPhePy/src/cellphe/input.py:175: UserWarning: data/masks/05062019_B3_3_Phase-0365_mask.tif is a low contrast image\n",
      "  io.imsave(save_path, masks.astype(\"uint16\"))  # Assuming masks are uint16\n"
     ]
    },
    {
     "name": "stdout",
     "output_type": "stream",
     "text": [
      "Masks saved for data/05062019_B3_3_imagedata/05062019_B3_3_Phase-0365.tif at data/masks/05062019_B3_3_Phase-0365_mask.tif\n",
      "Processing image: data/05062019_B3_3_imagedata/05062019_B3_3_Phase-0366.tif\n"
     ]
    },
    {
     "name": "stderr",
     "output_type": "stream",
     "text": [
      "/home/stuart/repos/CellPhePy/src/cellphe/input.py:175: UserWarning: data/masks/05062019_B3_3_Phase-0366_mask.tif is a low contrast image\n",
      "  io.imsave(save_path, masks.astype(\"uint16\"))  # Assuming masks are uint16\n"
     ]
    },
    {
     "name": "stdout",
     "output_type": "stream",
     "text": [
      "Masks saved for data/05062019_B3_3_imagedata/05062019_B3_3_Phase-0366.tif at data/masks/05062019_B3_3_Phase-0366_mask.tif\n",
      "Processing image: data/05062019_B3_3_imagedata/05062019_B3_3_Phase-0367.tif\n"
     ]
    },
    {
     "name": "stderr",
     "output_type": "stream",
     "text": [
      "/home/stuart/repos/CellPhePy/src/cellphe/input.py:175: UserWarning: data/masks/05062019_B3_3_Phase-0367_mask.tif is a low contrast image\n",
      "  io.imsave(save_path, masks.astype(\"uint16\"))  # Assuming masks are uint16\n"
     ]
    },
    {
     "name": "stdout",
     "output_type": "stream",
     "text": [
      "Masks saved for data/05062019_B3_3_imagedata/05062019_B3_3_Phase-0367.tif at data/masks/05062019_B3_3_Phase-0367_mask.tif\n",
      "Processing image: data/05062019_B3_3_imagedata/05062019_B3_3_Phase-0368.tif\n"
     ]
    },
    {
     "name": "stderr",
     "output_type": "stream",
     "text": [
      "/home/stuart/repos/CellPhePy/src/cellphe/input.py:175: UserWarning: data/masks/05062019_B3_3_Phase-0368_mask.tif is a low contrast image\n",
      "  io.imsave(save_path, masks.astype(\"uint16\"))  # Assuming masks are uint16\n"
     ]
    },
    {
     "name": "stdout",
     "output_type": "stream",
     "text": [
      "Masks saved for data/05062019_B3_3_imagedata/05062019_B3_3_Phase-0368.tif at data/masks/05062019_B3_3_Phase-0368_mask.tif\n",
      "Processing image: data/05062019_B3_3_imagedata/05062019_B3_3_Phase-0369.tif\n"
     ]
    },
    {
     "name": "stderr",
     "output_type": "stream",
     "text": [
      "/home/stuart/repos/CellPhePy/src/cellphe/input.py:175: UserWarning: data/masks/05062019_B3_3_Phase-0369_mask.tif is a low contrast image\n",
      "  io.imsave(save_path, masks.astype(\"uint16\"))  # Assuming masks are uint16\n"
     ]
    },
    {
     "name": "stdout",
     "output_type": "stream",
     "text": [
      "Masks saved for data/05062019_B3_3_imagedata/05062019_B3_3_Phase-0369.tif at data/masks/05062019_B3_3_Phase-0369_mask.tif\n",
      "Processing image: data/05062019_B3_3_imagedata/05062019_B3_3_Phase-0370.tif\n"
     ]
    },
    {
     "name": "stderr",
     "output_type": "stream",
     "text": [
      "/home/stuart/repos/CellPhePy/src/cellphe/input.py:175: UserWarning: data/masks/05062019_B3_3_Phase-0370_mask.tif is a low contrast image\n",
      "  io.imsave(save_path, masks.astype(\"uint16\"))  # Assuming masks are uint16\n"
     ]
    },
    {
     "name": "stdout",
     "output_type": "stream",
     "text": [
      "Masks saved for data/05062019_B3_3_imagedata/05062019_B3_3_Phase-0370.tif at data/masks/05062019_B3_3_Phase-0370_mask.tif\n",
      "Processing image: data/05062019_B3_3_imagedata/05062019_B3_3_Phase-0371.tif\n"
     ]
    },
    {
     "name": "stderr",
     "output_type": "stream",
     "text": [
      "/home/stuart/repos/CellPhePy/src/cellphe/input.py:175: UserWarning: data/masks/05062019_B3_3_Phase-0371_mask.tif is a low contrast image\n",
      "  io.imsave(save_path, masks.astype(\"uint16\"))  # Assuming masks are uint16\n"
     ]
    },
    {
     "name": "stdout",
     "output_type": "stream",
     "text": [
      "Masks saved for data/05062019_B3_3_imagedata/05062019_B3_3_Phase-0371.tif at data/masks/05062019_B3_3_Phase-0371_mask.tif\n",
      "Processing image: data/05062019_B3_3_imagedata/05062019_B3_3_Phase-0372.tif\n"
     ]
    },
    {
     "name": "stderr",
     "output_type": "stream",
     "text": [
      "/home/stuart/repos/CellPhePy/src/cellphe/input.py:175: UserWarning: data/masks/05062019_B3_3_Phase-0372_mask.tif is a low contrast image\n",
      "  io.imsave(save_path, masks.astype(\"uint16\"))  # Assuming masks are uint16\n"
     ]
    },
    {
     "name": "stdout",
     "output_type": "stream",
     "text": [
      "Masks saved for data/05062019_B3_3_imagedata/05062019_B3_3_Phase-0372.tif at data/masks/05062019_B3_3_Phase-0372_mask.tif\n",
      "Processing image: data/05062019_B3_3_imagedata/05062019_B3_3_Phase-0373.tif\n"
     ]
    },
    {
     "name": "stderr",
     "output_type": "stream",
     "text": [
      "/home/stuart/repos/CellPhePy/src/cellphe/input.py:175: UserWarning: data/masks/05062019_B3_3_Phase-0373_mask.tif is a low contrast image\n",
      "  io.imsave(save_path, masks.astype(\"uint16\"))  # Assuming masks are uint16\n"
     ]
    },
    {
     "name": "stdout",
     "output_type": "stream",
     "text": [
      "Masks saved for data/05062019_B3_3_imagedata/05062019_B3_3_Phase-0373.tif at data/masks/05062019_B3_3_Phase-0373_mask.tif\n",
      "Processing image: data/05062019_B3_3_imagedata/05062019_B3_3_Phase-0374.tif\n"
     ]
    },
    {
     "name": "stderr",
     "output_type": "stream",
     "text": [
      "/home/stuart/repos/CellPhePy/src/cellphe/input.py:175: UserWarning: data/masks/05062019_B3_3_Phase-0374_mask.tif is a low contrast image\n",
      "  io.imsave(save_path, masks.astype(\"uint16\"))  # Assuming masks are uint16\n"
     ]
    },
    {
     "name": "stdout",
     "output_type": "stream",
     "text": [
      "Masks saved for data/05062019_B3_3_imagedata/05062019_B3_3_Phase-0374.tif at data/masks/05062019_B3_3_Phase-0374_mask.tif\n",
      "Processing image: data/05062019_B3_3_imagedata/05062019_B3_3_Phase-0375.tif\n"
     ]
    },
    {
     "name": "stderr",
     "output_type": "stream",
     "text": [
      "/home/stuart/repos/CellPhePy/src/cellphe/input.py:175: UserWarning: data/masks/05062019_B3_3_Phase-0375_mask.tif is a low contrast image\n",
      "  io.imsave(save_path, masks.astype(\"uint16\"))  # Assuming masks are uint16\n"
     ]
    },
    {
     "name": "stdout",
     "output_type": "stream",
     "text": [
      "Masks saved for data/05062019_B3_3_imagedata/05062019_B3_3_Phase-0375.tif at data/masks/05062019_B3_3_Phase-0375_mask.tif\n",
      "Processing image: data/05062019_B3_3_imagedata/05062019_B3_3_Phase-0376.tif\n"
     ]
    },
    {
     "name": "stderr",
     "output_type": "stream",
     "text": [
      "/home/stuart/repos/CellPhePy/src/cellphe/input.py:175: UserWarning: data/masks/05062019_B3_3_Phase-0376_mask.tif is a low contrast image\n",
      "  io.imsave(save_path, masks.astype(\"uint16\"))  # Assuming masks are uint16\n"
     ]
    },
    {
     "name": "stdout",
     "output_type": "stream",
     "text": [
      "Masks saved for data/05062019_B3_3_imagedata/05062019_B3_3_Phase-0376.tif at data/masks/05062019_B3_3_Phase-0376_mask.tif\n",
      "Processing image: data/05062019_B3_3_imagedata/05062019_B3_3_Phase-0377.tif\n"
     ]
    },
    {
     "name": "stderr",
     "output_type": "stream",
     "text": [
      "/home/stuart/repos/CellPhePy/src/cellphe/input.py:175: UserWarning: data/masks/05062019_B3_3_Phase-0377_mask.tif is a low contrast image\n",
      "  io.imsave(save_path, masks.astype(\"uint16\"))  # Assuming masks are uint16\n"
     ]
    },
    {
     "name": "stdout",
     "output_type": "stream",
     "text": [
      "Masks saved for data/05062019_B3_3_imagedata/05062019_B3_3_Phase-0377.tif at data/masks/05062019_B3_3_Phase-0377_mask.tif\n",
      "Processing image: data/05062019_B3_3_imagedata/05062019_B3_3_Phase-0378.tif\n"
     ]
    },
    {
     "name": "stderr",
     "output_type": "stream",
     "text": [
      "/home/stuart/repos/CellPhePy/src/cellphe/input.py:175: UserWarning: data/masks/05062019_B3_3_Phase-0378_mask.tif is a low contrast image\n",
      "  io.imsave(save_path, masks.astype(\"uint16\"))  # Assuming masks are uint16\n"
     ]
    },
    {
     "name": "stdout",
     "output_type": "stream",
     "text": [
      "Masks saved for data/05062019_B3_3_imagedata/05062019_B3_3_Phase-0378.tif at data/masks/05062019_B3_3_Phase-0378_mask.tif\n",
      "Processing image: data/05062019_B3_3_imagedata/05062019_B3_3_Phase-0379.tif\n"
     ]
    },
    {
     "name": "stderr",
     "output_type": "stream",
     "text": [
      "/home/stuart/repos/CellPhePy/src/cellphe/input.py:175: UserWarning: data/masks/05062019_B3_3_Phase-0379_mask.tif is a low contrast image\n",
      "  io.imsave(save_path, masks.astype(\"uint16\"))  # Assuming masks are uint16\n"
     ]
    },
    {
     "name": "stdout",
     "output_type": "stream",
     "text": [
      "Masks saved for data/05062019_B3_3_imagedata/05062019_B3_3_Phase-0379.tif at data/masks/05062019_B3_3_Phase-0379_mask.tif\n",
      "Processing image: data/05062019_B3_3_imagedata/05062019_B3_3_Phase-0380.tif\n"
     ]
    },
    {
     "name": "stderr",
     "output_type": "stream",
     "text": [
      "/home/stuart/repos/CellPhePy/src/cellphe/input.py:175: UserWarning: data/masks/05062019_B3_3_Phase-0380_mask.tif is a low contrast image\n",
      "  io.imsave(save_path, masks.astype(\"uint16\"))  # Assuming masks are uint16\n"
     ]
    },
    {
     "name": "stdout",
     "output_type": "stream",
     "text": [
      "Masks saved for data/05062019_B3_3_imagedata/05062019_B3_3_Phase-0380.tif at data/masks/05062019_B3_3_Phase-0380_mask.tif\n",
      "Processing image: data/05062019_B3_3_imagedata/05062019_B3_3_Phase-0381.tif\n"
     ]
    },
    {
     "name": "stderr",
     "output_type": "stream",
     "text": [
      "/home/stuart/repos/CellPhePy/src/cellphe/input.py:175: UserWarning: data/masks/05062019_B3_3_Phase-0381_mask.tif is a low contrast image\n",
      "  io.imsave(save_path, masks.astype(\"uint16\"))  # Assuming masks are uint16\n"
     ]
    },
    {
     "name": "stdout",
     "output_type": "stream",
     "text": [
      "Masks saved for data/05062019_B3_3_imagedata/05062019_B3_3_Phase-0381.tif at data/masks/05062019_B3_3_Phase-0381_mask.tif\n",
      "Processing image: data/05062019_B3_3_imagedata/05062019_B3_3_Phase-0382.tif\n"
     ]
    },
    {
     "name": "stderr",
     "output_type": "stream",
     "text": [
      "/home/stuart/repos/CellPhePy/src/cellphe/input.py:175: UserWarning: data/masks/05062019_B3_3_Phase-0382_mask.tif is a low contrast image\n",
      "  io.imsave(save_path, masks.astype(\"uint16\"))  # Assuming masks are uint16\n"
     ]
    },
    {
     "name": "stdout",
     "output_type": "stream",
     "text": [
      "Masks saved for data/05062019_B3_3_imagedata/05062019_B3_3_Phase-0382.tif at data/masks/05062019_B3_3_Phase-0382_mask.tif\n",
      "Processing image: data/05062019_B3_3_imagedata/05062019_B3_3_Phase-0383.tif\n"
     ]
    },
    {
     "name": "stderr",
     "output_type": "stream",
     "text": [
      "/home/stuart/repos/CellPhePy/src/cellphe/input.py:175: UserWarning: data/masks/05062019_B3_3_Phase-0383_mask.tif is a low contrast image\n",
      "  io.imsave(save_path, masks.astype(\"uint16\"))  # Assuming masks are uint16\n"
     ]
    },
    {
     "name": "stdout",
     "output_type": "stream",
     "text": [
      "Masks saved for data/05062019_B3_3_imagedata/05062019_B3_3_Phase-0383.tif at data/masks/05062019_B3_3_Phase-0383_mask.tif\n",
      "Processing image: data/05062019_B3_3_imagedata/05062019_B3_3_Phase-0384.tif\n"
     ]
    },
    {
     "name": "stderr",
     "output_type": "stream",
     "text": [
      "/home/stuart/repos/CellPhePy/src/cellphe/input.py:175: UserWarning: data/masks/05062019_B3_3_Phase-0384_mask.tif is a low contrast image\n",
      "  io.imsave(save_path, masks.astype(\"uint16\"))  # Assuming masks are uint16\n"
     ]
    },
    {
     "name": "stdout",
     "output_type": "stream",
     "text": [
      "Masks saved for data/05062019_B3_3_imagedata/05062019_B3_3_Phase-0384.tif at data/masks/05062019_B3_3_Phase-0384_mask.tif\n",
      "Processing image: data/05062019_B3_3_imagedata/05062019_B3_3_Phase-0385.tif\n"
     ]
    },
    {
     "name": "stderr",
     "output_type": "stream",
     "text": [
      "/home/stuart/repos/CellPhePy/src/cellphe/input.py:175: UserWarning: data/masks/05062019_B3_3_Phase-0385_mask.tif is a low contrast image\n",
      "  io.imsave(save_path, masks.astype(\"uint16\"))  # Assuming masks are uint16\n"
     ]
    },
    {
     "name": "stdout",
     "output_type": "stream",
     "text": [
      "Masks saved for data/05062019_B3_3_imagedata/05062019_B3_3_Phase-0385.tif at data/masks/05062019_B3_3_Phase-0385_mask.tif\n",
      "Processing image: data/05062019_B3_3_imagedata/05062019_B3_3_Phase-0386.tif\n"
     ]
    },
    {
     "name": "stderr",
     "output_type": "stream",
     "text": [
      "/home/stuart/repos/CellPhePy/src/cellphe/input.py:175: UserWarning: data/masks/05062019_B3_3_Phase-0386_mask.tif is a low contrast image\n",
      "  io.imsave(save_path, masks.astype(\"uint16\"))  # Assuming masks are uint16\n"
     ]
    },
    {
     "name": "stdout",
     "output_type": "stream",
     "text": [
      "Masks saved for data/05062019_B3_3_imagedata/05062019_B3_3_Phase-0386.tif at data/masks/05062019_B3_3_Phase-0386_mask.tif\n",
      "Processing image: data/05062019_B3_3_imagedata/05062019_B3_3_Phase-0387.tif\n"
     ]
    },
    {
     "name": "stderr",
     "output_type": "stream",
     "text": [
      "/home/stuart/repos/CellPhePy/src/cellphe/input.py:175: UserWarning: data/masks/05062019_B3_3_Phase-0387_mask.tif is a low contrast image\n",
      "  io.imsave(save_path, masks.astype(\"uint16\"))  # Assuming masks are uint16\n"
     ]
    },
    {
     "name": "stdout",
     "output_type": "stream",
     "text": [
      "Masks saved for data/05062019_B3_3_imagedata/05062019_B3_3_Phase-0387.tif at data/masks/05062019_B3_3_Phase-0387_mask.tif\n",
      "Processing image: data/05062019_B3_3_imagedata/05062019_B3_3_Phase-0388.tif\n"
     ]
    },
    {
     "name": "stderr",
     "output_type": "stream",
     "text": [
      "/home/stuart/repos/CellPhePy/src/cellphe/input.py:175: UserWarning: data/masks/05062019_B3_3_Phase-0388_mask.tif is a low contrast image\n",
      "  io.imsave(save_path, masks.astype(\"uint16\"))  # Assuming masks are uint16\n"
     ]
    },
    {
     "name": "stdout",
     "output_type": "stream",
     "text": [
      "Masks saved for data/05062019_B3_3_imagedata/05062019_B3_3_Phase-0388.tif at data/masks/05062019_B3_3_Phase-0388_mask.tif\n",
      "Processing image: data/05062019_B3_3_imagedata/05062019_B3_3_Phase-0389.tif\n"
     ]
    },
    {
     "name": "stderr",
     "output_type": "stream",
     "text": [
      "/home/stuart/repos/CellPhePy/src/cellphe/input.py:175: UserWarning: data/masks/05062019_B3_3_Phase-0389_mask.tif is a low contrast image\n",
      "  io.imsave(save_path, masks.astype(\"uint16\"))  # Assuming masks are uint16\n"
     ]
    },
    {
     "name": "stdout",
     "output_type": "stream",
     "text": [
      "Masks saved for data/05062019_B3_3_imagedata/05062019_B3_3_Phase-0389.tif at data/masks/05062019_B3_3_Phase-0389_mask.tif\n",
      "Processing image: data/05062019_B3_3_imagedata/05062019_B3_3_Phase-0390.tif\n"
     ]
    },
    {
     "name": "stderr",
     "output_type": "stream",
     "text": [
      "/home/stuart/repos/CellPhePy/src/cellphe/input.py:175: UserWarning: data/masks/05062019_B3_3_Phase-0390_mask.tif is a low contrast image\n",
      "  io.imsave(save_path, masks.astype(\"uint16\"))  # Assuming masks are uint16\n"
     ]
    },
    {
     "name": "stdout",
     "output_type": "stream",
     "text": [
      "Masks saved for data/05062019_B3_3_imagedata/05062019_B3_3_Phase-0390.tif at data/masks/05062019_B3_3_Phase-0390_mask.tif\n",
      "Processing image: data/05062019_B3_3_imagedata/05062019_B3_3_Phase-0391.tif\n"
     ]
    },
    {
     "name": "stderr",
     "output_type": "stream",
     "text": [
      "/home/stuart/repos/CellPhePy/src/cellphe/input.py:175: UserWarning: data/masks/05062019_B3_3_Phase-0391_mask.tif is a low contrast image\n",
      "  io.imsave(save_path, masks.astype(\"uint16\"))  # Assuming masks are uint16\n"
     ]
    },
    {
     "name": "stdout",
     "output_type": "stream",
     "text": [
      "Masks saved for data/05062019_B3_3_imagedata/05062019_B3_3_Phase-0391.tif at data/masks/05062019_B3_3_Phase-0391_mask.tif\n",
      "Processing image: data/05062019_B3_3_imagedata/05062019_B3_3_Phase-0392.tif\n"
     ]
    },
    {
     "name": "stderr",
     "output_type": "stream",
     "text": [
      "/home/stuart/repos/CellPhePy/src/cellphe/input.py:175: UserWarning: data/masks/05062019_B3_3_Phase-0392_mask.tif is a low contrast image\n",
      "  io.imsave(save_path, masks.astype(\"uint16\"))  # Assuming masks are uint16\n"
     ]
    },
    {
     "name": "stdout",
     "output_type": "stream",
     "text": [
      "Masks saved for data/05062019_B3_3_imagedata/05062019_B3_3_Phase-0392.tif at data/masks/05062019_B3_3_Phase-0392_mask.tif\n",
      "Processing image: data/05062019_B3_3_imagedata/05062019_B3_3_Phase-0393.tif\n"
     ]
    },
    {
     "name": "stderr",
     "output_type": "stream",
     "text": [
      "/home/stuart/repos/CellPhePy/src/cellphe/input.py:175: UserWarning: data/masks/05062019_B3_3_Phase-0393_mask.tif is a low contrast image\n",
      "  io.imsave(save_path, masks.astype(\"uint16\"))  # Assuming masks are uint16\n"
     ]
    },
    {
     "name": "stdout",
     "output_type": "stream",
     "text": [
      "Masks saved for data/05062019_B3_3_imagedata/05062019_B3_3_Phase-0393.tif at data/masks/05062019_B3_3_Phase-0393_mask.tif\n",
      "Processing image: data/05062019_B3_3_imagedata/05062019_B3_3_Phase-0394.tif\n"
     ]
    },
    {
     "name": "stderr",
     "output_type": "stream",
     "text": [
      "/home/stuart/repos/CellPhePy/src/cellphe/input.py:175: UserWarning: data/masks/05062019_B3_3_Phase-0394_mask.tif is a low contrast image\n",
      "  io.imsave(save_path, masks.astype(\"uint16\"))  # Assuming masks are uint16\n"
     ]
    },
    {
     "name": "stdout",
     "output_type": "stream",
     "text": [
      "Masks saved for data/05062019_B3_3_imagedata/05062019_B3_3_Phase-0394.tif at data/masks/05062019_B3_3_Phase-0394_mask.tif\n",
      "Processing image: data/05062019_B3_3_imagedata/05062019_B3_3_Phase-0395.tif\n"
     ]
    },
    {
     "name": "stderr",
     "output_type": "stream",
     "text": [
      "/home/stuart/repos/CellPhePy/src/cellphe/input.py:175: UserWarning: data/masks/05062019_B3_3_Phase-0395_mask.tif is a low contrast image\n",
      "  io.imsave(save_path, masks.astype(\"uint16\"))  # Assuming masks are uint16\n"
     ]
    },
    {
     "name": "stdout",
     "output_type": "stream",
     "text": [
      "Masks saved for data/05062019_B3_3_imagedata/05062019_B3_3_Phase-0395.tif at data/masks/05062019_B3_3_Phase-0395_mask.tif\n",
      "Processing image: data/05062019_B3_3_imagedata/05062019_B3_3_Phase-0396.tif\n"
     ]
    },
    {
     "name": "stderr",
     "output_type": "stream",
     "text": [
      "/home/stuart/repos/CellPhePy/src/cellphe/input.py:175: UserWarning: data/masks/05062019_B3_3_Phase-0396_mask.tif is a low contrast image\n",
      "  io.imsave(save_path, masks.astype(\"uint16\"))  # Assuming masks are uint16\n"
     ]
    },
    {
     "name": "stdout",
     "output_type": "stream",
     "text": [
      "Masks saved for data/05062019_B3_3_imagedata/05062019_B3_3_Phase-0396.tif at data/masks/05062019_B3_3_Phase-0396_mask.tif\n",
      "Processing image: data/05062019_B3_3_imagedata/05062019_B3_3_Phase-0397.tif\n"
     ]
    },
    {
     "name": "stderr",
     "output_type": "stream",
     "text": [
      "/home/stuart/repos/CellPhePy/src/cellphe/input.py:175: UserWarning: data/masks/05062019_B3_3_Phase-0397_mask.tif is a low contrast image\n",
      "  io.imsave(save_path, masks.astype(\"uint16\"))  # Assuming masks are uint16\n"
     ]
    },
    {
     "name": "stdout",
     "output_type": "stream",
     "text": [
      "Masks saved for data/05062019_B3_3_imagedata/05062019_B3_3_Phase-0397.tif at data/masks/05062019_B3_3_Phase-0397_mask.tif\n",
      "Processing image: data/05062019_B3_3_imagedata/05062019_B3_3_Phase-0398.tif\n"
     ]
    },
    {
     "name": "stderr",
     "output_type": "stream",
     "text": [
      "/home/stuart/repos/CellPhePy/src/cellphe/input.py:175: UserWarning: data/masks/05062019_B3_3_Phase-0398_mask.tif is a low contrast image\n",
      "  io.imsave(save_path, masks.astype(\"uint16\"))  # Assuming masks are uint16\n"
     ]
    },
    {
     "name": "stdout",
     "output_type": "stream",
     "text": [
      "Masks saved for data/05062019_B3_3_imagedata/05062019_B3_3_Phase-0398.tif at data/masks/05062019_B3_3_Phase-0398_mask.tif\n",
      "Processing image: data/05062019_B3_3_imagedata/05062019_B3_3_Phase-0399.tif\n"
     ]
    },
    {
     "name": "stderr",
     "output_type": "stream",
     "text": [
      "/home/stuart/repos/CellPhePy/src/cellphe/input.py:175: UserWarning: data/masks/05062019_B3_3_Phase-0399_mask.tif is a low contrast image\n",
      "  io.imsave(save_path, masks.astype(\"uint16\"))  # Assuming masks are uint16\n"
     ]
    },
    {
     "name": "stdout",
     "output_type": "stream",
     "text": [
      "Masks saved for data/05062019_B3_3_imagedata/05062019_B3_3_Phase-0399.tif at data/masks/05062019_B3_3_Phase-0399_mask.tif\n",
      "Processing image: data/05062019_B3_3_imagedata/05062019_B3_3_Phase-0400.tif\n"
     ]
    },
    {
     "name": "stderr",
     "output_type": "stream",
     "text": [
      "/home/stuart/repos/CellPhePy/src/cellphe/input.py:175: UserWarning: data/masks/05062019_B3_3_Phase-0400_mask.tif is a low contrast image\n",
      "  io.imsave(save_path, masks.astype(\"uint16\"))  # Assuming masks are uint16\n"
     ]
    },
    {
     "name": "stdout",
     "output_type": "stream",
     "text": [
      "Masks saved for data/05062019_B3_3_imagedata/05062019_B3_3_Phase-0400.tif at data/masks/05062019_B3_3_Phase-0400_mask.tif\n",
      "Processing image: data/05062019_B3_3_imagedata/05062019_B3_3_Phase-0401.tif\n"
     ]
    },
    {
     "name": "stderr",
     "output_type": "stream",
     "text": [
      "/home/stuart/repos/CellPhePy/src/cellphe/input.py:175: UserWarning: data/masks/05062019_B3_3_Phase-0401_mask.tif is a low contrast image\n",
      "  io.imsave(save_path, masks.astype(\"uint16\"))  # Assuming masks are uint16\n"
     ]
    },
    {
     "name": "stdout",
     "output_type": "stream",
     "text": [
      "Masks saved for data/05062019_B3_3_imagedata/05062019_B3_3_Phase-0401.tif at data/masks/05062019_B3_3_Phase-0401_mask.tif\n",
      "Processing image: data/05062019_B3_3_imagedata/05062019_B3_3_Phase-0402.tif\n"
     ]
    },
    {
     "name": "stderr",
     "output_type": "stream",
     "text": [
      "/home/stuart/repos/CellPhePy/src/cellphe/input.py:175: UserWarning: data/masks/05062019_B3_3_Phase-0402_mask.tif is a low contrast image\n",
      "  io.imsave(save_path, masks.astype(\"uint16\"))  # Assuming masks are uint16\n"
     ]
    },
    {
     "name": "stdout",
     "output_type": "stream",
     "text": [
      "Masks saved for data/05062019_B3_3_imagedata/05062019_B3_3_Phase-0402.tif at data/masks/05062019_B3_3_Phase-0402_mask.tif\n",
      "Processing image: data/05062019_B3_3_imagedata/05062019_B3_3_Phase-0403.tif\n"
     ]
    },
    {
     "name": "stderr",
     "output_type": "stream",
     "text": [
      "/home/stuart/repos/CellPhePy/src/cellphe/input.py:175: UserWarning: data/masks/05062019_B3_3_Phase-0403_mask.tif is a low contrast image\n",
      "  io.imsave(save_path, masks.astype(\"uint16\"))  # Assuming masks are uint16\n"
     ]
    },
    {
     "name": "stdout",
     "output_type": "stream",
     "text": [
      "Masks saved for data/05062019_B3_3_imagedata/05062019_B3_3_Phase-0403.tif at data/masks/05062019_B3_3_Phase-0403_mask.tif\n",
      "Processing image: data/05062019_B3_3_imagedata/05062019_B3_3_Phase-0404.tif\n"
     ]
    },
    {
     "name": "stderr",
     "output_type": "stream",
     "text": [
      "/home/stuart/repos/CellPhePy/src/cellphe/input.py:175: UserWarning: data/masks/05062019_B3_3_Phase-0404_mask.tif is a low contrast image\n",
      "  io.imsave(save_path, masks.astype(\"uint16\"))  # Assuming masks are uint16\n"
     ]
    },
    {
     "name": "stdout",
     "output_type": "stream",
     "text": [
      "Masks saved for data/05062019_B3_3_imagedata/05062019_B3_3_Phase-0404.tif at data/masks/05062019_B3_3_Phase-0404_mask.tif\n",
      "Processing image: data/05062019_B3_3_imagedata/05062019_B3_3_Phase-0405.tif\n"
     ]
    },
    {
     "name": "stderr",
     "output_type": "stream",
     "text": [
      "/home/stuart/repos/CellPhePy/src/cellphe/input.py:175: UserWarning: data/masks/05062019_B3_3_Phase-0405_mask.tif is a low contrast image\n",
      "  io.imsave(save_path, masks.astype(\"uint16\"))  # Assuming masks are uint16\n"
     ]
    },
    {
     "name": "stdout",
     "output_type": "stream",
     "text": [
      "Masks saved for data/05062019_B3_3_imagedata/05062019_B3_3_Phase-0405.tif at data/masks/05062019_B3_3_Phase-0405_mask.tif\n",
      "Processing image: data/05062019_B3_3_imagedata/05062019_B3_3_Phase-0406.tif\n"
     ]
    },
    {
     "name": "stderr",
     "output_type": "stream",
     "text": [
      "/home/stuart/repos/CellPhePy/src/cellphe/input.py:175: UserWarning: data/masks/05062019_B3_3_Phase-0406_mask.tif is a low contrast image\n",
      "  io.imsave(save_path, masks.astype(\"uint16\"))  # Assuming masks are uint16\n"
     ]
    },
    {
     "name": "stdout",
     "output_type": "stream",
     "text": [
      "Masks saved for data/05062019_B3_3_imagedata/05062019_B3_3_Phase-0406.tif at data/masks/05062019_B3_3_Phase-0406_mask.tif\n",
      "Processing image: data/05062019_B3_3_imagedata/05062019_B3_3_Phase-0407.tif\n"
     ]
    },
    {
     "name": "stderr",
     "output_type": "stream",
     "text": [
      "/home/stuart/repos/CellPhePy/src/cellphe/input.py:175: UserWarning: data/masks/05062019_B3_3_Phase-0407_mask.tif is a low contrast image\n",
      "  io.imsave(save_path, masks.astype(\"uint16\"))  # Assuming masks are uint16\n"
     ]
    },
    {
     "name": "stdout",
     "output_type": "stream",
     "text": [
      "Masks saved for data/05062019_B3_3_imagedata/05062019_B3_3_Phase-0407.tif at data/masks/05062019_B3_3_Phase-0407_mask.tif\n",
      "Processing image: data/05062019_B3_3_imagedata/05062019_B3_3_Phase-0408.tif\n"
     ]
    },
    {
     "name": "stderr",
     "output_type": "stream",
     "text": [
      "/home/stuart/repos/CellPhePy/src/cellphe/input.py:175: UserWarning: data/masks/05062019_B3_3_Phase-0408_mask.tif is a low contrast image\n",
      "  io.imsave(save_path, masks.astype(\"uint16\"))  # Assuming masks are uint16\n"
     ]
    },
    {
     "name": "stdout",
     "output_type": "stream",
     "text": [
      "Masks saved for data/05062019_B3_3_imagedata/05062019_B3_3_Phase-0408.tif at data/masks/05062019_B3_3_Phase-0408_mask.tif\n",
      "Processing image: data/05062019_B3_3_imagedata/05062019_B3_3_Phase-0409.tif\n"
     ]
    },
    {
     "name": "stderr",
     "output_type": "stream",
     "text": [
      "/home/stuart/repos/CellPhePy/src/cellphe/input.py:175: UserWarning: data/masks/05062019_B3_3_Phase-0409_mask.tif is a low contrast image\n",
      "  io.imsave(save_path, masks.astype(\"uint16\"))  # Assuming masks are uint16\n"
     ]
    },
    {
     "name": "stdout",
     "output_type": "stream",
     "text": [
      "Masks saved for data/05062019_B3_3_imagedata/05062019_B3_3_Phase-0409.tif at data/masks/05062019_B3_3_Phase-0409_mask.tif\n",
      "Processing image: data/05062019_B3_3_imagedata/05062019_B3_3_Phase-0410.tif\n"
     ]
    },
    {
     "name": "stderr",
     "output_type": "stream",
     "text": [
      "/home/stuart/repos/CellPhePy/src/cellphe/input.py:175: UserWarning: data/masks/05062019_B3_3_Phase-0410_mask.tif is a low contrast image\n",
      "  io.imsave(save_path, masks.astype(\"uint16\"))  # Assuming masks are uint16\n"
     ]
    },
    {
     "name": "stdout",
     "output_type": "stream",
     "text": [
      "Masks saved for data/05062019_B3_3_imagedata/05062019_B3_3_Phase-0410.tif at data/masks/05062019_B3_3_Phase-0410_mask.tif\n",
      "Processing image: data/05062019_B3_3_imagedata/05062019_B3_3_Phase-0411.tif\n"
     ]
    },
    {
     "name": "stderr",
     "output_type": "stream",
     "text": [
      "/home/stuart/repos/CellPhePy/src/cellphe/input.py:175: UserWarning: data/masks/05062019_B3_3_Phase-0411_mask.tif is a low contrast image\n",
      "  io.imsave(save_path, masks.astype(\"uint16\"))  # Assuming masks are uint16\n"
     ]
    },
    {
     "name": "stdout",
     "output_type": "stream",
     "text": [
      "Masks saved for data/05062019_B3_3_imagedata/05062019_B3_3_Phase-0411.tif at data/masks/05062019_B3_3_Phase-0411_mask.tif\n",
      "Processing image: data/05062019_B3_3_imagedata/05062019_B3_3_Phase-0412.tif\n"
     ]
    },
    {
     "name": "stderr",
     "output_type": "stream",
     "text": [
      "/home/stuart/repos/CellPhePy/src/cellphe/input.py:175: UserWarning: data/masks/05062019_B3_3_Phase-0412_mask.tif is a low contrast image\n",
      "  io.imsave(save_path, masks.astype(\"uint16\"))  # Assuming masks are uint16\n"
     ]
    },
    {
     "name": "stdout",
     "output_type": "stream",
     "text": [
      "Masks saved for data/05062019_B3_3_imagedata/05062019_B3_3_Phase-0412.tif at data/masks/05062019_B3_3_Phase-0412_mask.tif\n",
      "Processing image: data/05062019_B3_3_imagedata/05062019_B3_3_Phase-0413.tif\n"
     ]
    },
    {
     "name": "stderr",
     "output_type": "stream",
     "text": [
      "/home/stuart/repos/CellPhePy/src/cellphe/input.py:175: UserWarning: data/masks/05062019_B3_3_Phase-0413_mask.tif is a low contrast image\n",
      "  io.imsave(save_path, masks.astype(\"uint16\"))  # Assuming masks are uint16\n"
     ]
    },
    {
     "name": "stdout",
     "output_type": "stream",
     "text": [
      "Masks saved for data/05062019_B3_3_imagedata/05062019_B3_3_Phase-0413.tif at data/masks/05062019_B3_3_Phase-0413_mask.tif\n",
      "Processing image: data/05062019_B3_3_imagedata/05062019_B3_3_Phase-0414.tif\n"
     ]
    },
    {
     "name": "stderr",
     "output_type": "stream",
     "text": [
      "/home/stuart/repos/CellPhePy/src/cellphe/input.py:175: UserWarning: data/masks/05062019_B3_3_Phase-0414_mask.tif is a low contrast image\n",
      "  io.imsave(save_path, masks.astype(\"uint16\"))  # Assuming masks are uint16\n"
     ]
    },
    {
     "name": "stdout",
     "output_type": "stream",
     "text": [
      "Masks saved for data/05062019_B3_3_imagedata/05062019_B3_3_Phase-0414.tif at data/masks/05062019_B3_3_Phase-0414_mask.tif\n",
      "Processing image: data/05062019_B3_3_imagedata/05062019_B3_3_Phase-0415.tif\n"
     ]
    },
    {
     "name": "stderr",
     "output_type": "stream",
     "text": [
      "/home/stuart/repos/CellPhePy/src/cellphe/input.py:175: UserWarning: data/masks/05062019_B3_3_Phase-0415_mask.tif is a low contrast image\n",
      "  io.imsave(save_path, masks.astype(\"uint16\"))  # Assuming masks are uint16\n"
     ]
    },
    {
     "name": "stdout",
     "output_type": "stream",
     "text": [
      "Masks saved for data/05062019_B3_3_imagedata/05062019_B3_3_Phase-0415.tif at data/masks/05062019_B3_3_Phase-0415_mask.tif\n",
      "Processing image: data/05062019_B3_3_imagedata/05062019_B3_3_Phase-0416.tif\n"
     ]
    },
    {
     "name": "stderr",
     "output_type": "stream",
     "text": [
      "/home/stuart/repos/CellPhePy/src/cellphe/input.py:175: UserWarning: data/masks/05062019_B3_3_Phase-0416_mask.tif is a low contrast image\n",
      "  io.imsave(save_path, masks.astype(\"uint16\"))  # Assuming masks are uint16\n"
     ]
    },
    {
     "name": "stdout",
     "output_type": "stream",
     "text": [
      "Masks saved for data/05062019_B3_3_imagedata/05062019_B3_3_Phase-0416.tif at data/masks/05062019_B3_3_Phase-0416_mask.tif\n",
      "Processing image: data/05062019_B3_3_imagedata/05062019_B3_3_Phase-0417.tif\n"
     ]
    },
    {
     "name": "stderr",
     "output_type": "stream",
     "text": [
      "/home/stuart/repos/CellPhePy/src/cellphe/input.py:175: UserWarning: data/masks/05062019_B3_3_Phase-0417_mask.tif is a low contrast image\n",
      "  io.imsave(save_path, masks.astype(\"uint16\"))  # Assuming masks are uint16\n"
     ]
    },
    {
     "name": "stdout",
     "output_type": "stream",
     "text": [
      "Masks saved for data/05062019_B3_3_imagedata/05062019_B3_3_Phase-0417.tif at data/masks/05062019_B3_3_Phase-0417_mask.tif\n",
      "Processing image: data/05062019_B3_3_imagedata/05062019_B3_3_Phase-0418.tif\n"
     ]
    },
    {
     "name": "stderr",
     "output_type": "stream",
     "text": [
      "/home/stuart/repos/CellPhePy/src/cellphe/input.py:175: UserWarning: data/masks/05062019_B3_3_Phase-0418_mask.tif is a low contrast image\n",
      "  io.imsave(save_path, masks.astype(\"uint16\"))  # Assuming masks are uint16\n"
     ]
    },
    {
     "name": "stdout",
     "output_type": "stream",
     "text": [
      "Masks saved for data/05062019_B3_3_imagedata/05062019_B3_3_Phase-0418.tif at data/masks/05062019_B3_3_Phase-0418_mask.tif\n",
      "Processing image: data/05062019_B3_3_imagedata/05062019_B3_3_Phase-0419.tif\n"
     ]
    },
    {
     "name": "stderr",
     "output_type": "stream",
     "text": [
      "/home/stuart/repos/CellPhePy/src/cellphe/input.py:175: UserWarning: data/masks/05062019_B3_3_Phase-0419_mask.tif is a low contrast image\n",
      "  io.imsave(save_path, masks.astype(\"uint16\"))  # Assuming masks are uint16\n"
     ]
    },
    {
     "name": "stdout",
     "output_type": "stream",
     "text": [
      "Masks saved for data/05062019_B3_3_imagedata/05062019_B3_3_Phase-0419.tif at data/masks/05062019_B3_3_Phase-0419_mask.tif\n",
      "Processing image: data/05062019_B3_3_imagedata/05062019_B3_3_Phase-0420.tif\n"
     ]
    },
    {
     "name": "stderr",
     "output_type": "stream",
     "text": [
      "/home/stuart/repos/CellPhePy/src/cellphe/input.py:175: UserWarning: data/masks/05062019_B3_3_Phase-0420_mask.tif is a low contrast image\n",
      "  io.imsave(save_path, masks.astype(\"uint16\"))  # Assuming masks are uint16\n"
     ]
    },
    {
     "name": "stdout",
     "output_type": "stream",
     "text": [
      "Masks saved for data/05062019_B3_3_imagedata/05062019_B3_3_Phase-0420.tif at data/masks/05062019_B3_3_Phase-0420_mask.tif\n",
      "Processing image: data/05062019_B3_3_imagedata/05062019_B3_3_Phase-0421.tif\n"
     ]
    },
    {
     "name": "stderr",
     "output_type": "stream",
     "text": [
      "/home/stuart/repos/CellPhePy/src/cellphe/input.py:175: UserWarning: data/masks/05062019_B3_3_Phase-0421_mask.tif is a low contrast image\n",
      "  io.imsave(save_path, masks.astype(\"uint16\"))  # Assuming masks are uint16\n"
     ]
    },
    {
     "name": "stdout",
     "output_type": "stream",
     "text": [
      "Masks saved for data/05062019_B3_3_imagedata/05062019_B3_3_Phase-0421.tif at data/masks/05062019_B3_3_Phase-0421_mask.tif\n",
      "Processing image: data/05062019_B3_3_imagedata/05062019_B3_3_Phase-0422.tif\n"
     ]
    },
    {
     "name": "stderr",
     "output_type": "stream",
     "text": [
      "/home/stuart/repos/CellPhePy/src/cellphe/input.py:175: UserWarning: data/masks/05062019_B3_3_Phase-0422_mask.tif is a low contrast image\n",
      "  io.imsave(save_path, masks.astype(\"uint16\"))  # Assuming masks are uint16\n"
     ]
    },
    {
     "name": "stdout",
     "output_type": "stream",
     "text": [
      "Masks saved for data/05062019_B3_3_imagedata/05062019_B3_3_Phase-0422.tif at data/masks/05062019_B3_3_Phase-0422_mask.tif\n",
      "Processing image: data/05062019_B3_3_imagedata/05062019_B3_3_Phase-0423.tif\n"
     ]
    },
    {
     "name": "stderr",
     "output_type": "stream",
     "text": [
      "/home/stuart/repos/CellPhePy/src/cellphe/input.py:175: UserWarning: data/masks/05062019_B3_3_Phase-0423_mask.tif is a low contrast image\n",
      "  io.imsave(save_path, masks.astype(\"uint16\"))  # Assuming masks are uint16\n"
     ]
    },
    {
     "name": "stdout",
     "output_type": "stream",
     "text": [
      "Masks saved for data/05062019_B3_3_imagedata/05062019_B3_3_Phase-0423.tif at data/masks/05062019_B3_3_Phase-0423_mask.tif\n",
      "Processing image: data/05062019_B3_3_imagedata/05062019_B3_3_Phase-0424.tif\n"
     ]
    },
    {
     "name": "stderr",
     "output_type": "stream",
     "text": [
      "/home/stuart/repos/CellPhePy/src/cellphe/input.py:175: UserWarning: data/masks/05062019_B3_3_Phase-0424_mask.tif is a low contrast image\n",
      "  io.imsave(save_path, masks.astype(\"uint16\"))  # Assuming masks are uint16\n"
     ]
    },
    {
     "name": "stdout",
     "output_type": "stream",
     "text": [
      "Masks saved for data/05062019_B3_3_imagedata/05062019_B3_3_Phase-0424.tif at data/masks/05062019_B3_3_Phase-0424_mask.tif\n",
      "Processing image: data/05062019_B3_3_imagedata/05062019_B3_3_Phase-0425.tif\n"
     ]
    },
    {
     "name": "stderr",
     "output_type": "stream",
     "text": [
      "/home/stuart/repos/CellPhePy/src/cellphe/input.py:175: UserWarning: data/masks/05062019_B3_3_Phase-0425_mask.tif is a low contrast image\n",
      "  io.imsave(save_path, masks.astype(\"uint16\"))  # Assuming masks are uint16\n"
     ]
    },
    {
     "name": "stdout",
     "output_type": "stream",
     "text": [
      "Masks saved for data/05062019_B3_3_imagedata/05062019_B3_3_Phase-0425.tif at data/masks/05062019_B3_3_Phase-0425_mask.tif\n",
      "Processing image: data/05062019_B3_3_imagedata/05062019_B3_3_Phase-0426.tif\n"
     ]
    },
    {
     "name": "stderr",
     "output_type": "stream",
     "text": [
      "/home/stuart/repos/CellPhePy/src/cellphe/input.py:175: UserWarning: data/masks/05062019_B3_3_Phase-0426_mask.tif is a low contrast image\n",
      "  io.imsave(save_path, masks.astype(\"uint16\"))  # Assuming masks are uint16\n"
     ]
    },
    {
     "name": "stdout",
     "output_type": "stream",
     "text": [
      "Masks saved for data/05062019_B3_3_imagedata/05062019_B3_3_Phase-0426.tif at data/masks/05062019_B3_3_Phase-0426_mask.tif\n",
      "Processing image: data/05062019_B3_3_imagedata/05062019_B3_3_Phase-0427.tif\n"
     ]
    },
    {
     "name": "stderr",
     "output_type": "stream",
     "text": [
      "/home/stuart/repos/CellPhePy/src/cellphe/input.py:175: UserWarning: data/masks/05062019_B3_3_Phase-0427_mask.tif is a low contrast image\n",
      "  io.imsave(save_path, masks.astype(\"uint16\"))  # Assuming masks are uint16\n"
     ]
    },
    {
     "name": "stdout",
     "output_type": "stream",
     "text": [
      "Masks saved for data/05062019_B3_3_imagedata/05062019_B3_3_Phase-0427.tif at data/masks/05062019_B3_3_Phase-0427_mask.tif\n",
      "Processing image: data/05062019_B3_3_imagedata/05062019_B3_3_Phase-0428.tif\n"
     ]
    },
    {
     "name": "stderr",
     "output_type": "stream",
     "text": [
      "/home/stuart/repos/CellPhePy/src/cellphe/input.py:175: UserWarning: data/masks/05062019_B3_3_Phase-0428_mask.tif is a low contrast image\n",
      "  io.imsave(save_path, masks.astype(\"uint16\"))  # Assuming masks are uint16\n"
     ]
    },
    {
     "name": "stdout",
     "output_type": "stream",
     "text": [
      "Masks saved for data/05062019_B3_3_imagedata/05062019_B3_3_Phase-0428.tif at data/masks/05062019_B3_3_Phase-0428_mask.tif\n",
      "Processing image: data/05062019_B3_3_imagedata/05062019_B3_3_Phase-0429.tif\n"
     ]
    },
    {
     "name": "stderr",
     "output_type": "stream",
     "text": [
      "/home/stuart/repos/CellPhePy/src/cellphe/input.py:175: UserWarning: data/masks/05062019_B3_3_Phase-0429_mask.tif is a low contrast image\n",
      "  io.imsave(save_path, masks.astype(\"uint16\"))  # Assuming masks are uint16\n"
     ]
    },
    {
     "name": "stdout",
     "output_type": "stream",
     "text": [
      "Masks saved for data/05062019_B3_3_imagedata/05062019_B3_3_Phase-0429.tif at data/masks/05062019_B3_3_Phase-0429_mask.tif\n",
      "Processing image: data/05062019_B3_3_imagedata/05062019_B3_3_Phase-0430.tif\n"
     ]
    },
    {
     "name": "stderr",
     "output_type": "stream",
     "text": [
      "/home/stuart/repos/CellPhePy/src/cellphe/input.py:175: UserWarning: data/masks/05062019_B3_3_Phase-0430_mask.tif is a low contrast image\n",
      "  io.imsave(save_path, masks.astype(\"uint16\"))  # Assuming masks are uint16\n"
     ]
    },
    {
     "name": "stdout",
     "output_type": "stream",
     "text": [
      "Masks saved for data/05062019_B3_3_imagedata/05062019_B3_3_Phase-0430.tif at data/masks/05062019_B3_3_Phase-0430_mask.tif\n",
      "Processing image: data/05062019_B3_3_imagedata/05062019_B3_3_Phase-0431.tif\n"
     ]
    },
    {
     "name": "stderr",
     "output_type": "stream",
     "text": [
      "/home/stuart/repos/CellPhePy/src/cellphe/input.py:175: UserWarning: data/masks/05062019_B3_3_Phase-0431_mask.tif is a low contrast image\n",
      "  io.imsave(save_path, masks.astype(\"uint16\"))  # Assuming masks are uint16\n"
     ]
    },
    {
     "name": "stdout",
     "output_type": "stream",
     "text": [
      "Masks saved for data/05062019_B3_3_imagedata/05062019_B3_3_Phase-0431.tif at data/masks/05062019_B3_3_Phase-0431_mask.tif\n",
      "Processing image: data/05062019_B3_3_imagedata/05062019_B3_3_Phase-0432.tif\n"
     ]
    },
    {
     "name": "stderr",
     "output_type": "stream",
     "text": [
      "/home/stuart/repos/CellPhePy/src/cellphe/input.py:175: UserWarning: data/masks/05062019_B3_3_Phase-0432_mask.tif is a low contrast image\n",
      "  io.imsave(save_path, masks.astype(\"uint16\"))  # Assuming masks are uint16\n"
     ]
    },
    {
     "name": "stdout",
     "output_type": "stream",
     "text": [
      "Masks saved for data/05062019_B3_3_imagedata/05062019_B3_3_Phase-0432.tif at data/masks/05062019_B3_3_Phase-0432_mask.tif\n",
      "Processing image: data/05062019_B3_3_imagedata/05062019_B3_3_Phase-0433.tif\n"
     ]
    },
    {
     "name": "stderr",
     "output_type": "stream",
     "text": [
      "/home/stuart/repos/CellPhePy/src/cellphe/input.py:175: UserWarning: data/masks/05062019_B3_3_Phase-0433_mask.tif is a low contrast image\n",
      "  io.imsave(save_path, masks.astype(\"uint16\"))  # Assuming masks are uint16\n"
     ]
    },
    {
     "name": "stdout",
     "output_type": "stream",
     "text": [
      "Masks saved for data/05062019_B3_3_imagedata/05062019_B3_3_Phase-0433.tif at data/masks/05062019_B3_3_Phase-0433_mask.tif\n",
      "Processing image: data/05062019_B3_3_imagedata/05062019_B3_3_Phase-0434.tif\n"
     ]
    },
    {
     "name": "stderr",
     "output_type": "stream",
     "text": [
      "/home/stuart/repos/CellPhePy/src/cellphe/input.py:175: UserWarning: data/masks/05062019_B3_3_Phase-0434_mask.tif is a low contrast image\n",
      "  io.imsave(save_path, masks.astype(\"uint16\"))  # Assuming masks are uint16\n"
     ]
    },
    {
     "name": "stdout",
     "output_type": "stream",
     "text": [
      "Masks saved for data/05062019_B3_3_imagedata/05062019_B3_3_Phase-0434.tif at data/masks/05062019_B3_3_Phase-0434_mask.tif\n",
      "Processing image: data/05062019_B3_3_imagedata/05062019_B3_3_Phase-0435.tif\n"
     ]
    },
    {
     "name": "stderr",
     "output_type": "stream",
     "text": [
      "/home/stuart/repos/CellPhePy/src/cellphe/input.py:175: UserWarning: data/masks/05062019_B3_3_Phase-0435_mask.tif is a low contrast image\n",
      "  io.imsave(save_path, masks.astype(\"uint16\"))  # Assuming masks are uint16\n"
     ]
    },
    {
     "name": "stdout",
     "output_type": "stream",
     "text": [
      "Masks saved for data/05062019_B3_3_imagedata/05062019_B3_3_Phase-0435.tif at data/masks/05062019_B3_3_Phase-0435_mask.tif\n",
      "Processing image: data/05062019_B3_3_imagedata/05062019_B3_3_Phase-0436.tif\n"
     ]
    },
    {
     "name": "stderr",
     "output_type": "stream",
     "text": [
      "/home/stuart/repos/CellPhePy/src/cellphe/input.py:175: UserWarning: data/masks/05062019_B3_3_Phase-0436_mask.tif is a low contrast image\n",
      "  io.imsave(save_path, masks.astype(\"uint16\"))  # Assuming masks are uint16\n"
     ]
    },
    {
     "name": "stdout",
     "output_type": "stream",
     "text": [
      "Masks saved for data/05062019_B3_3_imagedata/05062019_B3_3_Phase-0436.tif at data/masks/05062019_B3_3_Phase-0436_mask.tif\n",
      "Processing image: data/05062019_B3_3_imagedata/05062019_B3_3_Phase-0437.tif\n"
     ]
    },
    {
     "name": "stderr",
     "output_type": "stream",
     "text": [
      "/home/stuart/repos/CellPhePy/src/cellphe/input.py:175: UserWarning: data/masks/05062019_B3_3_Phase-0437_mask.tif is a low contrast image\n",
      "  io.imsave(save_path, masks.astype(\"uint16\"))  # Assuming masks are uint16\n"
     ]
    },
    {
     "name": "stdout",
     "output_type": "stream",
     "text": [
      "Masks saved for data/05062019_B3_3_imagedata/05062019_B3_3_Phase-0437.tif at data/masks/05062019_B3_3_Phase-0437_mask.tif\n",
      "Processing image: data/05062019_B3_3_imagedata/05062019_B3_3_Phase-0438.tif\n"
     ]
    },
    {
     "name": "stderr",
     "output_type": "stream",
     "text": [
      "/home/stuart/repos/CellPhePy/src/cellphe/input.py:175: UserWarning: data/masks/05062019_B3_3_Phase-0438_mask.tif is a low contrast image\n",
      "  io.imsave(save_path, masks.astype(\"uint16\"))  # Assuming masks are uint16\n"
     ]
    },
    {
     "name": "stdout",
     "output_type": "stream",
     "text": [
      "Masks saved for data/05062019_B3_3_imagedata/05062019_B3_3_Phase-0438.tif at data/masks/05062019_B3_3_Phase-0438_mask.tif\n",
      "Processing image: data/05062019_B3_3_imagedata/05062019_B3_3_Phase-0439.tif\n"
     ]
    },
    {
     "name": "stderr",
     "output_type": "stream",
     "text": [
      "/home/stuart/repos/CellPhePy/src/cellphe/input.py:175: UserWarning: data/masks/05062019_B3_3_Phase-0439_mask.tif is a low contrast image\n",
      "  io.imsave(save_path, masks.astype(\"uint16\"))  # Assuming masks are uint16\n"
     ]
    },
    {
     "name": "stdout",
     "output_type": "stream",
     "text": [
      "Masks saved for data/05062019_B3_3_imagedata/05062019_B3_3_Phase-0439.tif at data/masks/05062019_B3_3_Phase-0439_mask.tif\n",
      "Processing image: data/05062019_B3_3_imagedata/05062019_B3_3_Phase-0440.tif\n"
     ]
    },
    {
     "name": "stderr",
     "output_type": "stream",
     "text": [
      "/home/stuart/repos/CellPhePy/src/cellphe/input.py:175: UserWarning: data/masks/05062019_B3_3_Phase-0440_mask.tif is a low contrast image\n",
      "  io.imsave(save_path, masks.astype(\"uint16\"))  # Assuming masks are uint16\n"
     ]
    },
    {
     "name": "stdout",
     "output_type": "stream",
     "text": [
      "Masks saved for data/05062019_B3_3_imagedata/05062019_B3_3_Phase-0440.tif at data/masks/05062019_B3_3_Phase-0440_mask.tif\n",
      "Processing image: data/05062019_B3_3_imagedata/05062019_B3_3_Phase-0441.tif\n"
     ]
    },
    {
     "name": "stderr",
     "output_type": "stream",
     "text": [
      "/home/stuart/repos/CellPhePy/src/cellphe/input.py:175: UserWarning: data/masks/05062019_B3_3_Phase-0441_mask.tif is a low contrast image\n",
      "  io.imsave(save_path, masks.astype(\"uint16\"))  # Assuming masks are uint16\n"
     ]
    },
    {
     "name": "stdout",
     "output_type": "stream",
     "text": [
      "Masks saved for data/05062019_B3_3_imagedata/05062019_B3_3_Phase-0441.tif at data/masks/05062019_B3_3_Phase-0441_mask.tif\n",
      "Processing image: data/05062019_B3_3_imagedata/05062019_B3_3_Phase-0442.tif\n"
     ]
    },
    {
     "name": "stderr",
     "output_type": "stream",
     "text": [
      "/home/stuart/repos/CellPhePy/src/cellphe/input.py:175: UserWarning: data/masks/05062019_B3_3_Phase-0442_mask.tif is a low contrast image\n",
      "  io.imsave(save_path, masks.astype(\"uint16\"))  # Assuming masks are uint16\n"
     ]
    },
    {
     "name": "stdout",
     "output_type": "stream",
     "text": [
      "Masks saved for data/05062019_B3_3_imagedata/05062019_B3_3_Phase-0442.tif at data/masks/05062019_B3_3_Phase-0442_mask.tif\n",
      "Processing image: data/05062019_B3_3_imagedata/05062019_B3_3_Phase-0443.tif\n"
     ]
    },
    {
     "name": "stderr",
     "output_type": "stream",
     "text": [
      "/home/stuart/repos/CellPhePy/src/cellphe/input.py:175: UserWarning: data/masks/05062019_B3_3_Phase-0443_mask.tif is a low contrast image\n",
      "  io.imsave(save_path, masks.astype(\"uint16\"))  # Assuming masks are uint16\n"
     ]
    },
    {
     "name": "stdout",
     "output_type": "stream",
     "text": [
      "Masks saved for data/05062019_B3_3_imagedata/05062019_B3_3_Phase-0443.tif at data/masks/05062019_B3_3_Phase-0443_mask.tif\n",
      "Processing image: data/05062019_B3_3_imagedata/05062019_B3_3_Phase-0444.tif\n"
     ]
    },
    {
     "name": "stderr",
     "output_type": "stream",
     "text": [
      "/home/stuart/repos/CellPhePy/src/cellphe/input.py:175: UserWarning: data/masks/05062019_B3_3_Phase-0444_mask.tif is a low contrast image\n",
      "  io.imsave(save_path, masks.astype(\"uint16\"))  # Assuming masks are uint16\n"
     ]
    },
    {
     "name": "stdout",
     "output_type": "stream",
     "text": [
      "Masks saved for data/05062019_B3_3_imagedata/05062019_B3_3_Phase-0444.tif at data/masks/05062019_B3_3_Phase-0444_mask.tif\n",
      "Processing image: data/05062019_B3_3_imagedata/05062019_B3_3_Phase-0445.tif\n"
     ]
    },
    {
     "name": "stderr",
     "output_type": "stream",
     "text": [
      "/home/stuart/repos/CellPhePy/src/cellphe/input.py:175: UserWarning: data/masks/05062019_B3_3_Phase-0445_mask.tif is a low contrast image\n",
      "  io.imsave(save_path, masks.astype(\"uint16\"))  # Assuming masks are uint16\n"
     ]
    },
    {
     "name": "stdout",
     "output_type": "stream",
     "text": [
      "Masks saved for data/05062019_B3_3_imagedata/05062019_B3_3_Phase-0445.tif at data/masks/05062019_B3_3_Phase-0445_mask.tif\n",
      "Processing image: data/05062019_B3_3_imagedata/05062019_B3_3_Phase-0446.tif\n"
     ]
    },
    {
     "name": "stderr",
     "output_type": "stream",
     "text": [
      "/home/stuart/repos/CellPhePy/src/cellphe/input.py:175: UserWarning: data/masks/05062019_B3_3_Phase-0446_mask.tif is a low contrast image\n",
      "  io.imsave(save_path, masks.astype(\"uint16\"))  # Assuming masks are uint16\n"
     ]
    },
    {
     "name": "stdout",
     "output_type": "stream",
     "text": [
      "Masks saved for data/05062019_B3_3_imagedata/05062019_B3_3_Phase-0446.tif at data/masks/05062019_B3_3_Phase-0446_mask.tif\n",
      "Processing image: data/05062019_B3_3_imagedata/05062019_B3_3_Phase-0447.tif\n"
     ]
    },
    {
     "name": "stderr",
     "output_type": "stream",
     "text": [
      "/home/stuart/repos/CellPhePy/src/cellphe/input.py:175: UserWarning: data/masks/05062019_B3_3_Phase-0447_mask.tif is a low contrast image\n",
      "  io.imsave(save_path, masks.astype(\"uint16\"))  # Assuming masks are uint16\n"
     ]
    },
    {
     "name": "stdout",
     "output_type": "stream",
     "text": [
      "Masks saved for data/05062019_B3_3_imagedata/05062019_B3_3_Phase-0447.tif at data/masks/05062019_B3_3_Phase-0447_mask.tif\n",
      "Processing image: data/05062019_B3_3_imagedata/05062019_B3_3_Phase-0448.tif\n"
     ]
    },
    {
     "name": "stderr",
     "output_type": "stream",
     "text": [
      "/home/stuart/repos/CellPhePy/src/cellphe/input.py:175: UserWarning: data/masks/05062019_B3_3_Phase-0448_mask.tif is a low contrast image\n",
      "  io.imsave(save_path, masks.astype(\"uint16\"))  # Assuming masks are uint16\n"
     ]
    },
    {
     "name": "stdout",
     "output_type": "stream",
     "text": [
      "Masks saved for data/05062019_B3_3_imagedata/05062019_B3_3_Phase-0448.tif at data/masks/05062019_B3_3_Phase-0448_mask.tif\n",
      "Processing image: data/05062019_B3_3_imagedata/05062019_B3_3_Phase-0449.tif\n"
     ]
    },
    {
     "name": "stderr",
     "output_type": "stream",
     "text": [
      "/home/stuart/repos/CellPhePy/src/cellphe/input.py:175: UserWarning: data/masks/05062019_B3_3_Phase-0449_mask.tif is a low contrast image\n",
      "  io.imsave(save_path, masks.astype(\"uint16\"))  # Assuming masks are uint16\n"
     ]
    },
    {
     "name": "stdout",
     "output_type": "stream",
     "text": [
      "Masks saved for data/05062019_B3_3_imagedata/05062019_B3_3_Phase-0449.tif at data/masks/05062019_B3_3_Phase-0449_mask.tif\n",
      "Processing image: data/05062019_B3_3_imagedata/05062019_B3_3_Phase-0450.tif\n"
     ]
    },
    {
     "name": "stderr",
     "output_type": "stream",
     "text": [
      "/home/stuart/repos/CellPhePy/src/cellphe/input.py:175: UserWarning: data/masks/05062019_B3_3_Phase-0450_mask.tif is a low contrast image\n",
      "  io.imsave(save_path, masks.astype(\"uint16\"))  # Assuming masks are uint16\n"
     ]
    },
    {
     "name": "stdout",
     "output_type": "stream",
     "text": [
      "Masks saved for data/05062019_B3_3_imagedata/05062019_B3_3_Phase-0450.tif at data/masks/05062019_B3_3_Phase-0450_mask.tif\n",
      "Processing image: data/05062019_B3_3_imagedata/05062019_B3_3_Phase-0451.tif\n"
     ]
    },
    {
     "name": "stderr",
     "output_type": "stream",
     "text": [
      "/home/stuart/repos/CellPhePy/src/cellphe/input.py:175: UserWarning: data/masks/05062019_B3_3_Phase-0451_mask.tif is a low contrast image\n",
      "  io.imsave(save_path, masks.astype(\"uint16\"))  # Assuming masks are uint16\n"
     ]
    },
    {
     "name": "stdout",
     "output_type": "stream",
     "text": [
      "Masks saved for data/05062019_B3_3_imagedata/05062019_B3_3_Phase-0451.tif at data/masks/05062019_B3_3_Phase-0451_mask.tif\n",
      "Processing image: data/05062019_B3_3_imagedata/05062019_B3_3_Phase-0452.tif\n"
     ]
    },
    {
     "name": "stderr",
     "output_type": "stream",
     "text": [
      "/home/stuart/repos/CellPhePy/src/cellphe/input.py:175: UserWarning: data/masks/05062019_B3_3_Phase-0452_mask.tif is a low contrast image\n",
      "  io.imsave(save_path, masks.astype(\"uint16\"))  # Assuming masks are uint16\n"
     ]
    },
    {
     "name": "stdout",
     "output_type": "stream",
     "text": [
      "Masks saved for data/05062019_B3_3_imagedata/05062019_B3_3_Phase-0452.tif at data/masks/05062019_B3_3_Phase-0452_mask.tif\n",
      "Processing image: data/05062019_B3_3_imagedata/05062019_B3_3_Phase-0453.tif\n"
     ]
    },
    {
     "name": "stderr",
     "output_type": "stream",
     "text": [
      "/home/stuart/repos/CellPhePy/src/cellphe/input.py:175: UserWarning: data/masks/05062019_B3_3_Phase-0453_mask.tif is a low contrast image\n",
      "  io.imsave(save_path, masks.astype(\"uint16\"))  # Assuming masks are uint16\n"
     ]
    },
    {
     "name": "stdout",
     "output_type": "stream",
     "text": [
      "Masks saved for data/05062019_B3_3_imagedata/05062019_B3_3_Phase-0453.tif at data/masks/05062019_B3_3_Phase-0453_mask.tif\n",
      "Processing image: data/05062019_B3_3_imagedata/05062019_B3_3_Phase-0454.tif\n"
     ]
    },
    {
     "name": "stderr",
     "output_type": "stream",
     "text": [
      "/home/stuart/repos/CellPhePy/src/cellphe/input.py:175: UserWarning: data/masks/05062019_B3_3_Phase-0454_mask.tif is a low contrast image\n",
      "  io.imsave(save_path, masks.astype(\"uint16\"))  # Assuming masks are uint16\n"
     ]
    },
    {
     "name": "stdout",
     "output_type": "stream",
     "text": [
      "Masks saved for data/05062019_B3_3_imagedata/05062019_B3_3_Phase-0454.tif at data/masks/05062019_B3_3_Phase-0454_mask.tif\n",
      "Processing image: data/05062019_B3_3_imagedata/05062019_B3_3_Phase-0455.tif\n"
     ]
    },
    {
     "name": "stderr",
     "output_type": "stream",
     "text": [
      "/home/stuart/repos/CellPhePy/src/cellphe/input.py:175: UserWarning: data/masks/05062019_B3_3_Phase-0455_mask.tif is a low contrast image\n",
      "  io.imsave(save_path, masks.astype(\"uint16\"))  # Assuming masks are uint16\n"
     ]
    },
    {
     "name": "stdout",
     "output_type": "stream",
     "text": [
      "Masks saved for data/05062019_B3_3_imagedata/05062019_B3_3_Phase-0455.tif at data/masks/05062019_B3_3_Phase-0455_mask.tif\n",
      "Processing image: data/05062019_B3_3_imagedata/05062019_B3_3_Phase-0456.tif\n"
     ]
    },
    {
     "name": "stderr",
     "output_type": "stream",
     "text": [
      "/home/stuart/repos/CellPhePy/src/cellphe/input.py:175: UserWarning: data/masks/05062019_B3_3_Phase-0456_mask.tif is a low contrast image\n",
      "  io.imsave(save_path, masks.astype(\"uint16\"))  # Assuming masks are uint16\n"
     ]
    },
    {
     "name": "stdout",
     "output_type": "stream",
     "text": [
      "Masks saved for data/05062019_B3_3_imagedata/05062019_B3_3_Phase-0456.tif at data/masks/05062019_B3_3_Phase-0456_mask.tif\n",
      "Processing image: data/05062019_B3_3_imagedata/05062019_B3_3_Phase-0457.tif\n"
     ]
    },
    {
     "name": "stderr",
     "output_type": "stream",
     "text": [
      "/home/stuart/repos/CellPhePy/src/cellphe/input.py:175: UserWarning: data/masks/05062019_B3_3_Phase-0457_mask.tif is a low contrast image\n",
      "  io.imsave(save_path, masks.astype(\"uint16\"))  # Assuming masks are uint16\n"
     ]
    },
    {
     "name": "stdout",
     "output_type": "stream",
     "text": [
      "Masks saved for data/05062019_B3_3_imagedata/05062019_B3_3_Phase-0457.tif at data/masks/05062019_B3_3_Phase-0457_mask.tif\n",
      "Processing image: data/05062019_B3_3_imagedata/05062019_B3_3_Phase-0458.tif\n"
     ]
    },
    {
     "name": "stderr",
     "output_type": "stream",
     "text": [
      "/home/stuart/repos/CellPhePy/src/cellphe/input.py:175: UserWarning: data/masks/05062019_B3_3_Phase-0458_mask.tif is a low contrast image\n",
      "  io.imsave(save_path, masks.astype(\"uint16\"))  # Assuming masks are uint16\n"
     ]
    },
    {
     "name": "stdout",
     "output_type": "stream",
     "text": [
      "Masks saved for data/05062019_B3_3_imagedata/05062019_B3_3_Phase-0458.tif at data/masks/05062019_B3_3_Phase-0458_mask.tif\n",
      "Processing image: data/05062019_B3_3_imagedata/05062019_B3_3_Phase-0459.tif\n"
     ]
    },
    {
     "name": "stderr",
     "output_type": "stream",
     "text": [
      "/home/stuart/repos/CellPhePy/src/cellphe/input.py:175: UserWarning: data/masks/05062019_B3_3_Phase-0459_mask.tif is a low contrast image\n",
      "  io.imsave(save_path, masks.astype(\"uint16\"))  # Assuming masks are uint16\n"
     ]
    },
    {
     "name": "stdout",
     "output_type": "stream",
     "text": [
      "Masks saved for data/05062019_B3_3_imagedata/05062019_B3_3_Phase-0459.tif at data/masks/05062019_B3_3_Phase-0459_mask.tif\n",
      "Processing image: data/05062019_B3_3_imagedata/05062019_B3_3_Phase-0460.tif\n"
     ]
    },
    {
     "name": "stderr",
     "output_type": "stream",
     "text": [
      "/home/stuart/repos/CellPhePy/src/cellphe/input.py:175: UserWarning: data/masks/05062019_B3_3_Phase-0460_mask.tif is a low contrast image\n",
      "  io.imsave(save_path, masks.astype(\"uint16\"))  # Assuming masks are uint16\n"
     ]
    },
    {
     "name": "stdout",
     "output_type": "stream",
     "text": [
      "Masks saved for data/05062019_B3_3_imagedata/05062019_B3_3_Phase-0460.tif at data/masks/05062019_B3_3_Phase-0460_mask.tif\n",
      "Processing image: data/05062019_B3_3_imagedata/05062019_B3_3_Phase-0461.tif\n"
     ]
    },
    {
     "name": "stderr",
     "output_type": "stream",
     "text": [
      "/home/stuart/repos/CellPhePy/src/cellphe/input.py:175: UserWarning: data/masks/05062019_B3_3_Phase-0461_mask.tif is a low contrast image\n",
      "  io.imsave(save_path, masks.astype(\"uint16\"))  # Assuming masks are uint16\n"
     ]
    },
    {
     "name": "stdout",
     "output_type": "stream",
     "text": [
      "Masks saved for data/05062019_B3_3_imagedata/05062019_B3_3_Phase-0461.tif at data/masks/05062019_B3_3_Phase-0461_mask.tif\n",
      "Processing image: data/05062019_B3_3_imagedata/05062019_B3_3_Phase-0462.tif\n"
     ]
    },
    {
     "name": "stderr",
     "output_type": "stream",
     "text": [
      "/home/stuart/repos/CellPhePy/src/cellphe/input.py:175: UserWarning: data/masks/05062019_B3_3_Phase-0462_mask.tif is a low contrast image\n",
      "  io.imsave(save_path, masks.astype(\"uint16\"))  # Assuming masks are uint16\n"
     ]
    },
    {
     "name": "stdout",
     "output_type": "stream",
     "text": [
      "Masks saved for data/05062019_B3_3_imagedata/05062019_B3_3_Phase-0462.tif at data/masks/05062019_B3_3_Phase-0462_mask.tif\n",
      "Processing image: data/05062019_B3_3_imagedata/05062019_B3_3_Phase-0463.tif\n"
     ]
    },
    {
     "name": "stderr",
     "output_type": "stream",
     "text": [
      "/home/stuart/repos/CellPhePy/src/cellphe/input.py:175: UserWarning: data/masks/05062019_B3_3_Phase-0463_mask.tif is a low contrast image\n",
      "  io.imsave(save_path, masks.astype(\"uint16\"))  # Assuming masks are uint16\n"
     ]
    },
    {
     "name": "stdout",
     "output_type": "stream",
     "text": [
      "Masks saved for data/05062019_B3_3_imagedata/05062019_B3_3_Phase-0463.tif at data/masks/05062019_B3_3_Phase-0463_mask.tif\n",
      "Processing image: data/05062019_B3_3_imagedata/05062019_B3_3_Phase-0464.tif\n"
     ]
    },
    {
     "name": "stderr",
     "output_type": "stream",
     "text": [
      "/home/stuart/repos/CellPhePy/src/cellphe/input.py:175: UserWarning: data/masks/05062019_B3_3_Phase-0464_mask.tif is a low contrast image\n",
      "  io.imsave(save_path, masks.astype(\"uint16\"))  # Assuming masks are uint16\n"
     ]
    },
    {
     "name": "stdout",
     "output_type": "stream",
     "text": [
      "Masks saved for data/05062019_B3_3_imagedata/05062019_B3_3_Phase-0464.tif at data/masks/05062019_B3_3_Phase-0464_mask.tif\n",
      "Processing image: data/05062019_B3_3_imagedata/05062019_B3_3_Phase-0465.tif\n"
     ]
    },
    {
     "name": "stderr",
     "output_type": "stream",
     "text": [
      "/home/stuart/repos/CellPhePy/src/cellphe/input.py:175: UserWarning: data/masks/05062019_B3_3_Phase-0465_mask.tif is a low contrast image\n",
      "  io.imsave(save_path, masks.astype(\"uint16\"))  # Assuming masks are uint16\n"
     ]
    },
    {
     "name": "stdout",
     "output_type": "stream",
     "text": [
      "Masks saved for data/05062019_B3_3_imagedata/05062019_B3_3_Phase-0465.tif at data/masks/05062019_B3_3_Phase-0465_mask.tif\n",
      "Processing image: data/05062019_B3_3_imagedata/05062019_B3_3_Phase-0466.tif\n"
     ]
    },
    {
     "name": "stderr",
     "output_type": "stream",
     "text": [
      "/home/stuart/repos/CellPhePy/src/cellphe/input.py:175: UserWarning: data/masks/05062019_B3_3_Phase-0466_mask.tif is a low contrast image\n",
      "  io.imsave(save_path, masks.astype(\"uint16\"))  # Assuming masks are uint16\n"
     ]
    },
    {
     "name": "stdout",
     "output_type": "stream",
     "text": [
      "Masks saved for data/05062019_B3_3_imagedata/05062019_B3_3_Phase-0466.tif at data/masks/05062019_B3_3_Phase-0466_mask.tif\n",
      "Processing image: data/05062019_B3_3_imagedata/05062019_B3_3_Phase-0467.tif\n"
     ]
    },
    {
     "name": "stderr",
     "output_type": "stream",
     "text": [
      "/home/stuart/repos/CellPhePy/src/cellphe/input.py:175: UserWarning: data/masks/05062019_B3_3_Phase-0467_mask.tif is a low contrast image\n",
      "  io.imsave(save_path, masks.astype(\"uint16\"))  # Assuming masks are uint16\n"
     ]
    },
    {
     "name": "stdout",
     "output_type": "stream",
     "text": [
      "Masks saved for data/05062019_B3_3_imagedata/05062019_B3_3_Phase-0467.tif at data/masks/05062019_B3_3_Phase-0467_mask.tif\n",
      "Processing image: data/05062019_B3_3_imagedata/05062019_B3_3_Phase-0468.tif\n"
     ]
    },
    {
     "name": "stderr",
     "output_type": "stream",
     "text": [
      "/home/stuart/repos/CellPhePy/src/cellphe/input.py:175: UserWarning: data/masks/05062019_B3_3_Phase-0468_mask.tif is a low contrast image\n",
      "  io.imsave(save_path, masks.astype(\"uint16\"))  # Assuming masks are uint16\n"
     ]
    },
    {
     "name": "stdout",
     "output_type": "stream",
     "text": [
      "Masks saved for data/05062019_B3_3_imagedata/05062019_B3_3_Phase-0468.tif at data/masks/05062019_B3_3_Phase-0468_mask.tif\n",
      "Processing image: data/05062019_B3_3_imagedata/05062019_B3_3_Phase-0469.tif\n"
     ]
    },
    {
     "name": "stderr",
     "output_type": "stream",
     "text": [
      "/home/stuart/repos/CellPhePy/src/cellphe/input.py:175: UserWarning: data/masks/05062019_B3_3_Phase-0469_mask.tif is a low contrast image\n",
      "  io.imsave(save_path, masks.astype(\"uint16\"))  # Assuming masks are uint16\n"
     ]
    },
    {
     "name": "stdout",
     "output_type": "stream",
     "text": [
      "Masks saved for data/05062019_B3_3_imagedata/05062019_B3_3_Phase-0469.tif at data/masks/05062019_B3_3_Phase-0469_mask.tif\n",
      "Processing image: data/05062019_B3_3_imagedata/05062019_B3_3_Phase-0470.tif\n"
     ]
    },
    {
     "name": "stderr",
     "output_type": "stream",
     "text": [
      "/home/stuart/repos/CellPhePy/src/cellphe/input.py:175: UserWarning: data/masks/05062019_B3_3_Phase-0470_mask.tif is a low contrast image\n",
      "  io.imsave(save_path, masks.astype(\"uint16\"))  # Assuming masks are uint16\n"
     ]
    },
    {
     "name": "stdout",
     "output_type": "stream",
     "text": [
      "Masks saved for data/05062019_B3_3_imagedata/05062019_B3_3_Phase-0470.tif at data/masks/05062019_B3_3_Phase-0470_mask.tif\n",
      "Processing image: data/05062019_B3_3_imagedata/05062019_B3_3_Phase-0471.tif\n"
     ]
    },
    {
     "name": "stderr",
     "output_type": "stream",
     "text": [
      "/home/stuart/repos/CellPhePy/src/cellphe/input.py:175: UserWarning: data/masks/05062019_B3_3_Phase-0471_mask.tif is a low contrast image\n",
      "  io.imsave(save_path, masks.astype(\"uint16\"))  # Assuming masks are uint16\n"
     ]
    },
    {
     "name": "stdout",
     "output_type": "stream",
     "text": [
      "Masks saved for data/05062019_B3_3_imagedata/05062019_B3_3_Phase-0471.tif at data/masks/05062019_B3_3_Phase-0471_mask.tif\n",
      "Processing image: data/05062019_B3_3_imagedata/05062019_B3_3_Phase-0472.tif\n"
     ]
    },
    {
     "name": "stderr",
     "output_type": "stream",
     "text": [
      "/home/stuart/repos/CellPhePy/src/cellphe/input.py:175: UserWarning: data/masks/05062019_B3_3_Phase-0472_mask.tif is a low contrast image\n",
      "  io.imsave(save_path, masks.astype(\"uint16\"))  # Assuming masks are uint16\n"
     ]
    },
    {
     "name": "stdout",
     "output_type": "stream",
     "text": [
      "Masks saved for data/05062019_B3_3_imagedata/05062019_B3_3_Phase-0472.tif at data/masks/05062019_B3_3_Phase-0472_mask.tif\n",
      "Processing image: data/05062019_B3_3_imagedata/05062019_B3_3_Phase-0473.tif\n"
     ]
    },
    {
     "name": "stderr",
     "output_type": "stream",
     "text": [
      "/home/stuart/repos/CellPhePy/src/cellphe/input.py:175: UserWarning: data/masks/05062019_B3_3_Phase-0473_mask.tif is a low contrast image\n",
      "  io.imsave(save_path, masks.astype(\"uint16\"))  # Assuming masks are uint16\n"
     ]
    },
    {
     "name": "stdout",
     "output_type": "stream",
     "text": [
      "Masks saved for data/05062019_B3_3_imagedata/05062019_B3_3_Phase-0473.tif at data/masks/05062019_B3_3_Phase-0473_mask.tif\n",
      "Processing image: data/05062019_B3_3_imagedata/05062019_B3_3_Phase-0474.tif\n"
     ]
    },
    {
     "name": "stderr",
     "output_type": "stream",
     "text": [
      "/home/stuart/repos/CellPhePy/src/cellphe/input.py:175: UserWarning: data/masks/05062019_B3_3_Phase-0474_mask.tif is a low contrast image\n",
      "  io.imsave(save_path, masks.astype(\"uint16\"))  # Assuming masks are uint16\n"
     ]
    },
    {
     "name": "stdout",
     "output_type": "stream",
     "text": [
      "Masks saved for data/05062019_B3_3_imagedata/05062019_B3_3_Phase-0474.tif at data/masks/05062019_B3_3_Phase-0474_mask.tif\n",
      "Processing image: data/05062019_B3_3_imagedata/05062019_B3_3_Phase-0475.tif\n"
     ]
    },
    {
     "name": "stderr",
     "output_type": "stream",
     "text": [
      "/home/stuart/repos/CellPhePy/src/cellphe/input.py:175: UserWarning: data/masks/05062019_B3_3_Phase-0475_mask.tif is a low contrast image\n",
      "  io.imsave(save_path, masks.astype(\"uint16\"))  # Assuming masks are uint16\n"
     ]
    },
    {
     "name": "stdout",
     "output_type": "stream",
     "text": [
      "Masks saved for data/05062019_B3_3_imagedata/05062019_B3_3_Phase-0475.tif at data/masks/05062019_B3_3_Phase-0475_mask.tif\n",
      "Processing image: data/05062019_B3_3_imagedata/05062019_B3_3_Phase-0476.tif\n"
     ]
    },
    {
     "name": "stderr",
     "output_type": "stream",
     "text": [
      "/home/stuart/repos/CellPhePy/src/cellphe/input.py:175: UserWarning: data/masks/05062019_B3_3_Phase-0476_mask.tif is a low contrast image\n",
      "  io.imsave(save_path, masks.astype(\"uint16\"))  # Assuming masks are uint16\n"
     ]
    },
    {
     "name": "stdout",
     "output_type": "stream",
     "text": [
      "Masks saved for data/05062019_B3_3_imagedata/05062019_B3_3_Phase-0476.tif at data/masks/05062019_B3_3_Phase-0476_mask.tif\n",
      "Processing image: data/05062019_B3_3_imagedata/05062019_B3_3_Phase-0477.tif\n"
     ]
    },
    {
     "name": "stderr",
     "output_type": "stream",
     "text": [
      "/home/stuart/repos/CellPhePy/src/cellphe/input.py:175: UserWarning: data/masks/05062019_B3_3_Phase-0477_mask.tif is a low contrast image\n",
      "  io.imsave(save_path, masks.astype(\"uint16\"))  # Assuming masks are uint16\n"
     ]
    },
    {
     "name": "stdout",
     "output_type": "stream",
     "text": [
      "Masks saved for data/05062019_B3_3_imagedata/05062019_B3_3_Phase-0477.tif at data/masks/05062019_B3_3_Phase-0477_mask.tif\n",
      "Processing image: data/05062019_B3_3_imagedata/05062019_B3_3_Phase-0478.tif\n"
     ]
    },
    {
     "name": "stderr",
     "output_type": "stream",
     "text": [
      "/home/stuart/repos/CellPhePy/src/cellphe/input.py:175: UserWarning: data/masks/05062019_B3_3_Phase-0478_mask.tif is a low contrast image\n",
      "  io.imsave(save_path, masks.astype(\"uint16\"))  # Assuming masks are uint16\n"
     ]
    },
    {
     "name": "stdout",
     "output_type": "stream",
     "text": [
      "Masks saved for data/05062019_B3_3_imagedata/05062019_B3_3_Phase-0478.tif at data/masks/05062019_B3_3_Phase-0478_mask.tif\n",
      "Processing image: data/05062019_B3_3_imagedata/05062019_B3_3_Phase-0479.tif\n"
     ]
    },
    {
     "name": "stderr",
     "output_type": "stream",
     "text": [
      "/home/stuart/repos/CellPhePy/src/cellphe/input.py:175: UserWarning: data/masks/05062019_B3_3_Phase-0479_mask.tif is a low contrast image\n",
      "  io.imsave(save_path, masks.astype(\"uint16\"))  # Assuming masks are uint16\n"
     ]
    },
    {
     "name": "stdout",
     "output_type": "stream",
     "text": [
      "Masks saved for data/05062019_B3_3_imagedata/05062019_B3_3_Phase-0479.tif at data/masks/05062019_B3_3_Phase-0479_mask.tif\n",
      "Processing image: data/05062019_B3_3_imagedata/05062019_B3_3_Phase-0480.tif\n"
     ]
    },
    {
     "name": "stderr",
     "output_type": "stream",
     "text": [
      "/home/stuart/repos/CellPhePy/src/cellphe/input.py:175: UserWarning: data/masks/05062019_B3_3_Phase-0480_mask.tif is a low contrast image\n",
      "  io.imsave(save_path, masks.astype(\"uint16\"))  # Assuming masks are uint16\n"
     ]
    },
    {
     "name": "stdout",
     "output_type": "stream",
     "text": [
      "Masks saved for data/05062019_B3_3_imagedata/05062019_B3_3_Phase-0480.tif at data/masks/05062019_B3_3_Phase-0480_mask.tif\n",
      "Processing image: data/05062019_B3_3_imagedata/05062019_B3_3_Phase-0481.tif\n",
      "Masks saved for data/05062019_B3_3_imagedata/05062019_B3_3_Phase-0481.tif at data/masks/05062019_B3_3_Phase-0481_mask.tif\n"
     ]
    },
    {
     "name": "stderr",
     "output_type": "stream",
     "text": [
      "/home/stuart/repos/CellPhePy/src/cellphe/input.py:175: UserWarning: data/masks/05062019_B3_3_Phase-0481_mask.tif is a low contrast image\n",
      "  io.imsave(save_path, masks.astype(\"uint16\"))  # Assuming masks are uint16\n"
     ]
    }
   ],
   "source": [
    "segment_images(\"data/05062019_B3_3_imagedata\", \"data/masks\")"
   ]
  },
  {
   "cell_type": "markdown",
   "id": "a9286dcd-6d4e-4baf-bc96-9f2f870526d1",
   "metadata": {},
   "source": [
    "Confirm that the `masks` directory has been created and populated with TIFs containing cell masks.\n",
    "If it has, then you are ready to track the cells.\n",
    "`track_images` takes at minimum 3 arguments: the location of the masks created by `segment_images`, the filename to save the output metadata to, and a filename for the output ROI zip.\n",
    "Optionally you can also change the tracking options - by default the Simple Sparse LAP method is employed - with the `tracker` and `tracker_settings` arguments."
   ]
  },
  {
   "cell_type": "code",
   "execution_count": 12,
   "id": "dacc3a8b-bcba-4080-8a27-180bfa25d16d",
   "metadata": {},
   "outputs": [
    {
     "name": "stdout",
     "output_type": "stream",
     "text": [
      "Computing spot features over 1 frame simultaneously and allocating 8 threads per frame.\n",
      "Calculating 0 spots features...\n",
      "\n",
      "Computation done in 1 ms.\n",
      "Computing track features:\n",
      "  - Branching analyzer in 0 ms.\n",
      "  - Track duration in 0 ms.\n",
      "  - Track index in 0 ms.\n",
      "  - Track location in 0 ms.\n",
      "  - Track speed in 0 ms.\n",
      "  - Track quality in 0 ms.\n",
      "  - Track motility analysis in 0 ms.\n",
      "Computation done in 0 ms.\n",
      "Starting detection process using 8 threads.\n",
      "Detection processes 8 frames simultaneously and allocates 1 thread per frame.\n",
      "Detection...\n",
      "Found 22958 spots.\n",
      "\n",
      "Starting initial filtering process.\n",
      "Computing spot features over 8 frames simultaneously and allocating 1 thread per frame.\n",
      "Calculating 22958 spots features...\n",
      "\n",
      "Computation done in 4882 ms.\n",
      "Starting spot filtering process.\n",
      "Starting tracking process.\n",
      "Frame to frame linking...\n",
      "\n",
      "Creating the segment linking cost matrix...\n",
      "Creating the main cost matrix...\n",
      "Completing the cost matrix...\n",
      "Solving the cost matrix...\n",
      "\n",
      "Creating links...\n",
      "\n",
      "\n",
      "Computing edge features:\n",
      "  - Directional change in 30 ms.\n",
      "  - Edge speed in 101 ms.\n",
      "  - Edge target in 41 ms.\n",
      "  - Edge location in 55 ms.\n",
      "Computation done in 227 ms.\n",
      "Computing track features:\n",
      "  - Branching analyzer in 23 ms.\n",
      "  - Track duration in 8 ms.\n",
      "  - Track index in 0 ms.\n",
      "  - Track location in 7 ms.\n",
      "  - Track speed in 7 ms.\n",
      "  - Track quality in 9 ms.\n",
      "  - Track motility analysis in 20 ms.\n",
      "Computation done in 80 ms.\n",
      "Starting track filtering process.\n"
     ]
    }
   ],
   "source": [
    "track_images(\"data/masks\", \"data/tracked.csv\", \"data/rois.zip\", tracker=\"SimpleSparseLAP\")"
   ]
  },
  {
   "cell_type": "markdown",
   "id": "42440eea-ad1d-42c5-8a73-5aa3653f8a1e",
   "metadata": {},
   "source": [
    "Confirm that the `tracked.csv` and `rois.zip` files were created.\n",
    "These outputs can now be loaded into CellPhe."
   ]
  },
  {
   "cell_type": "markdown",
   "id": "3aef0eea-25c1-4d9c-a719-dc7a512de291",
   "metadata": {},
   "source": [
    "### Importing pre-segmented and tracked data\n",
    "\n",
    "Once a metadata file (CSV format) and a zip of ROIs are available, either directly output from external software (PhaseFocus Livecyte or TrackMate in ImageJ), or from within CellPhe as in the previous section, they can be read into CellPhe.\n",
    "The `import_data` function accepts metadata files from one of these sources and converts it into a standard format.\n",
    "It takes 3 arguments: the metadata file path, the source, and the minimum number of frames that a cell must be tracked for to be retained in the dataset (optional).\n",
    "\n",
    "For example, the dataset that was segmented and tracked in the previous section can be imported as:"
   ]
  },
  {
   "cell_type": "code",
   "execution_count": 4,
   "id": "5e364ded-a081-4b80-8f39-f57b10f1b158",
   "metadata": {},
   "outputs": [],
   "source": [
    "from cellphe import import_data"
   ]
  },
  {
   "cell_type": "code",
   "execution_count": 5,
   "id": "4f6da681-1dd8-44df-864c-e129d0114da0",
   "metadata": {},
   "outputs": [],
   "source": [
    "feature_table = import_data(\"data/tracked.csv\", \"Trackmate_auto\", 50)"
   ]
  },
  {
   "cell_type": "code",
   "execution_count": 6,
   "id": "0823caf3-8135-49d3-bbce-add1e4710220",
   "metadata": {},
   "outputs": [
    {
     "data": {
      "text/html": [
       "<div>\n",
       "<style scoped>\n",
       "    .dataframe tbody tr th:only-of-type {\n",
       "        vertical-align: middle;\n",
       "    }\n",
       "\n",
       "    .dataframe tbody tr th {\n",
       "        vertical-align: top;\n",
       "    }\n",
       "\n",
       "    .dataframe thead th {\n",
       "        text-align: right;\n",
       "    }\n",
       "</style>\n",
       "<table border=\"1\" class=\"dataframe\">\n",
       "  <thead>\n",
       "    <tr style=\"text-align: right;\">\n",
       "      <th></th>\n",
       "      <th>FrameID</th>\n",
       "      <th>CellID</th>\n",
       "      <th>ROI_filename</th>\n",
       "    </tr>\n",
       "  </thead>\n",
       "  <tbody>\n",
       "    <tr>\n",
       "      <th>30</th>\n",
       "      <td>1</td>\n",
       "      <td>1</td>\n",
       "      <td>001-001</td>\n",
       "    </tr>\n",
       "    <tr>\n",
       "      <th>75</th>\n",
       "      <td>2</td>\n",
       "      <td>1</td>\n",
       "      <td>002-001</td>\n",
       "    </tr>\n",
       "    <tr>\n",
       "      <th>116</th>\n",
       "      <td>3</td>\n",
       "      <td>1</td>\n",
       "      <td>003-001</td>\n",
       "    </tr>\n",
       "    <tr>\n",
       "      <th>184</th>\n",
       "      <td>4</td>\n",
       "      <td>1</td>\n",
       "      <td>004-001</td>\n",
       "    </tr>\n",
       "    <tr>\n",
       "      <th>207</th>\n",
       "      <td>5</td>\n",
       "      <td>1</td>\n",
       "      <td>005-001</td>\n",
       "    </tr>\n",
       "  </tbody>\n",
       "</table>\n",
       "</div>"
      ],
      "text/plain": [
       "     FrameID  CellID ROI_filename\n",
       "30         1       1      001-001\n",
       "75         2       1      002-001\n",
       "116        3       1      003-001\n",
       "184        4       1      004-001\n",
       "207        5       1      005-001"
      ]
     },
     "execution_count": 6,
     "metadata": {},
     "output_type": "execute_result"
    }
   ],
   "source": [
    "feature_table.head()"
   ]
  },
  {
   "cell_type": "markdown",
   "id": "a79e0c7d-ca85-4b44-8dba-b7270538f4c6",
   "metadata": {},
   "source": [
    "Alternatively, the example below creates the metadata dataframe from the supplied PhaseFocus segmentation and tracking, only including cells that were tracked for at least 50 frames."
   ]
  },
  {
   "cell_type": "code",
   "execution_count": 7,
   "id": "a3afb271-5feb-4531-979e-54d7736cc9b8",
   "metadata": {},
   "outputs": [
    {
     "data": {
      "text/html": [
       "<div>\n",
       "<style scoped>\n",
       "    .dataframe tbody tr th:only-of-type {\n",
       "        vertical-align: middle;\n",
       "    }\n",
       "\n",
       "    .dataframe tbody tr th {\n",
       "        vertical-align: top;\n",
       "    }\n",
       "\n",
       "    .dataframe thead th {\n",
       "        text-align: right;\n",
       "    }\n",
       "</style>\n",
       "<table border=\"1\" class=\"dataframe\">\n",
       "  <thead>\n",
       "    <tr style=\"text-align: right;\">\n",
       "      <th></th>\n",
       "      <th>FrameID</th>\n",
       "      <th>CellID</th>\n",
       "      <th>ROI_filename</th>\n",
       "      <th>Volume</th>\n",
       "      <th>Sphericity</th>\n",
       "    </tr>\n",
       "  </thead>\n",
       "  <tbody>\n",
       "    <tr>\n",
       "      <th>3</th>\n",
       "      <td>1</td>\n",
       "      <td>2</td>\n",
       "      <td>1-2</td>\n",
       "      <td>603.048401</td>\n",
       "      <td>0.852517</td>\n",
       "    </tr>\n",
       "    <tr>\n",
       "      <th>4</th>\n",
       "      <td>2</td>\n",
       "      <td>2</td>\n",
       "      <td>2-2</td>\n",
       "      <td>618.647583</td>\n",
       "      <td>0.784101</td>\n",
       "    </tr>\n",
       "    <tr>\n",
       "      <th>5</th>\n",
       "      <td>3</td>\n",
       "      <td>2</td>\n",
       "      <td>3-2</td>\n",
       "      <td>652.385071</td>\n",
       "      <td>0.805910</td>\n",
       "    </tr>\n",
       "    <tr>\n",
       "      <th>6</th>\n",
       "      <td>4</td>\n",
       "      <td>2</td>\n",
       "      <td>4-2</td>\n",
       "      <td>659.943665</td>\n",
       "      <td>0.802412</td>\n",
       "    </tr>\n",
       "    <tr>\n",
       "      <th>7</th>\n",
       "      <td>5</td>\n",
       "      <td>2</td>\n",
       "      <td>5-2</td>\n",
       "      <td>648.213989</td>\n",
       "      <td>0.769735</td>\n",
       "    </tr>\n",
       "  </tbody>\n",
       "</table>\n",
       "</div>"
      ],
      "text/plain": [
       "   FrameID  CellID ROI_filename      Volume  Sphericity\n",
       "3        1       2          1-2  603.048401    0.852517\n",
       "4        2       2          2-2  618.647583    0.784101\n",
       "5        3       2          3-2  652.385071    0.805910\n",
       "6        4       2          4-2  659.943665    0.802412\n",
       "7        5       2          5-2  648.213989    0.769735"
      ]
     },
     "execution_count": 7,
     "metadata": {},
     "output_type": "execute_result"
    }
   ],
   "source": [
    "input_feature_table = \"data/05062019_B3_3_Phase-FullFeatureTable.csv\"\n",
    "feature_table_phase = import_data(input_feature_table, \"Phase\", 50)\n",
    "feature_table_phase.head()"
   ]
  },
  {
   "cell_type": "markdown",
   "id": "257ea288-f503-4d53-945c-ea2f9eb95d6e",
   "metadata": {},
   "source": [
    "If a segmented and tracked dataset is available from a different source then it can still be used in CellPhe provided that it can be loaded into a `pandas.DataFrame` containing:\n",
    "\n",
    "  - Each row corresponding to a cell tracked in a specific frame\n",
    "  - A column `FrameID` (integer) denoted the frame number in chronological order\n",
    "  - A column `CellID` (integer) identifying the cell\n",
    "  - A column `ROI_filename` (string) denoting the filename (without extension) of the corresponding ROI file, not including the full path\n",
    "\n",
    "Additional columns providing cell features can be included and will be retained and incorporated into the CellPhe analysis.\n",
    "The PhaseFocus dataset keeps the volume and sphericity features, for example."
   ]
  },
  {
   "cell_type": "markdown",
   "id": "d7e18563-83c0-49ab-9a79-8cec170e52e4",
   "metadata": {},
   "source": [
    "### Generating cell features\n",
    "\n",
    "In addition to any pre-calculated features, the `cell_features()`\n",
    "function generates 74 descriptive features for each cell on every frame\n",
    "using the frame images and pre-generated cell boundaries, based on size,\n",
    "shape, texture, and the local cell density. The output is a dataframe\n",
    "comprising the `FrameID`, `CellID`, and `ROI_filename` columns\n",
    "from the feature table input, the 74 features as columns,\n",
    "and any additional features that may be present (such as from `import_data()`)\n",
    "in further columns.\n",
    "\n",
    "`cell_features()` takes as arguments the feature table, the archive where ROIs are saved, the folder where the images are, and the framerate.\n",
    "It expects images to be saved with a filename ending with the frame id just before the file extension. The file extension can be `.tif`, `.tiff`, or the `ome.tif` and `.ome.tiff` equivalents. \n",
    "The frame id can be zero-padded or not.\n",
    "`myexperiment-1.tif`, `myexperiment_1.tiff`, `2.ome.tif` are all valid names.\n",
    "\n",
    "ROI files are named according to the `ROI_filename` column with a `.roi` extension.\n",
    "\n",
    "The example below uses the PhaseFocus ROIs, but the ones generated using TrackMate just before can be used with the corresponding feature table.\n",
    "There are 74 features generated during this step, which added to the 3 identifiers (`FrameID`, `CellID`, `ROI_filename`) and 2 PhaseFocus features (`Volume`, `Sphericity`) results in 79 columns."
   ]
  },
  {
   "cell_type": "code",
   "execution_count": 8,
   "id": "7a3831ea-52b0-4070-b522-190b4841dcd9",
   "metadata": {},
   "outputs": [],
   "source": [
    "from cellphe import cell_features\n",
    "roi_archive = \"data/05062019_B3_3_Phase.zip\"\n",
    "image_folder = \"data/05062019_B3_3_imagedata\"\n",
    "new_features = cell_features(feature_table_phase, roi_archive, image_folder, framerate=0.0028)"
   ]
  },
  {
   "cell_type": "code",
   "execution_count": 9,
   "id": "db223613-769a-4c54-8197-00ab9919e728",
   "metadata": {},
   "outputs": [
    {
     "data": {
      "text/html": [
       "<div>\n",
       "<style scoped>\n",
       "    .dataframe tbody tr th:only-of-type {\n",
       "        vertical-align: middle;\n",
       "    }\n",
       "\n",
       "    .dataframe tbody tr th {\n",
       "        vertical-align: top;\n",
       "    }\n",
       "\n",
       "    .dataframe thead th {\n",
       "        text-align: right;\n",
       "    }\n",
       "</style>\n",
       "<table border=\"1\" class=\"dataframe\">\n",
       "  <thead>\n",
       "    <tr style=\"text-align: right;\">\n",
       "      <th></th>\n",
       "      <th>FrameID</th>\n",
       "      <th>CellID</th>\n",
       "      <th>ROI_filename</th>\n",
       "      <th>Volume</th>\n",
       "      <th>Sphericity</th>\n",
       "      <th>Dis</th>\n",
       "      <th>Trac</th>\n",
       "      <th>D2T</th>\n",
       "      <th>Vel</th>\n",
       "      <th>Rad</th>\n",
       "      <th>...</th>\n",
       "      <th>IQ3</th>\n",
       "      <th>IQ4</th>\n",
       "      <th>IQ5</th>\n",
       "      <th>IQ6</th>\n",
       "      <th>IQ7</th>\n",
       "      <th>IQ8</th>\n",
       "      <th>IQ9</th>\n",
       "      <th>x</th>\n",
       "      <th>y</th>\n",
       "      <th>dens</th>\n",
       "    </tr>\n",
       "  </thead>\n",
       "  <tbody>\n",
       "    <tr>\n",
       "      <th>0</th>\n",
       "      <td>1</td>\n",
       "      <td>2</td>\n",
       "      <td>1-2</td>\n",
       "      <td>603.048401</td>\n",
       "      <td>0.852517</td>\n",
       "      <td>0.000000</td>\n",
       "      <td>0.000000</td>\n",
       "      <td>0.000000</td>\n",
       "      <td>0.000000</td>\n",
       "      <td>8.681769</td>\n",
       "      <td>...</td>\n",
       "      <td>1.317259</td>\n",
       "      <td>1.216603</td>\n",
       "      <td>1.102974</td>\n",
       "      <td>0.989025</td>\n",
       "      <td>0.835997</td>\n",
       "      <td>0.749949</td>\n",
       "      <td>0.641646</td>\n",
       "      <td>88.903846</td>\n",
       "      <td>518.057692</td>\n",
       "      <td>0.072316</td>\n",
       "    </tr>\n",
       "    <tr>\n",
       "      <th>1</th>\n",
       "      <td>2</td>\n",
       "      <td>2</td>\n",
       "      <td>2-2</td>\n",
       "      <td>618.647583</td>\n",
       "      <td>0.784101</td>\n",
       "      <td>2.353424</td>\n",
       "      <td>2.353424</td>\n",
       "      <td>1.000000</td>\n",
       "      <td>0.006590</td>\n",
       "      <td>8.887084</td>\n",
       "      <td>...</td>\n",
       "      <td>1.342967</td>\n",
       "      <td>1.228169</td>\n",
       "      <td>1.116847</td>\n",
       "      <td>1.009470</td>\n",
       "      <td>0.872957</td>\n",
       "      <td>0.688360</td>\n",
       "      <td>0.456557</td>\n",
       "      <td>89.949153</td>\n",
       "      <td>515.949153</td>\n",
       "      <td>0.071690</td>\n",
       "    </tr>\n",
       "    <tr>\n",
       "      <th>2</th>\n",
       "      <td>3</td>\n",
       "      <td>2</td>\n",
       "      <td>3-2</td>\n",
       "      <td>652.385071</td>\n",
       "      <td>0.805910</td>\n",
       "      <td>1.602057</td>\n",
       "      <td>3.189590</td>\n",
       "      <td>0.502277</td>\n",
       "      <td>0.002341</td>\n",
       "      <td>9.293634</td>\n",
       "      <td>...</td>\n",
       "      <td>1.449308</td>\n",
       "      <td>1.341675</td>\n",
       "      <td>1.218744</td>\n",
       "      <td>1.110506</td>\n",
       "      <td>0.960103</td>\n",
       "      <td>0.790081</td>\n",
       "      <td>0.576323</td>\n",
       "      <td>89.872727</td>\n",
       "      <td>516.781818</td>\n",
       "      <td>0.070477</td>\n",
       "    </tr>\n",
       "    <tr>\n",
       "      <th>3</th>\n",
       "      <td>4</td>\n",
       "      <td>2</td>\n",
       "      <td>4-2</td>\n",
       "      <td>659.943665</td>\n",
       "      <td>0.802412</td>\n",
       "      <td>2.951481</td>\n",
       "      <td>4.761765</td>\n",
       "      <td>0.619829</td>\n",
       "      <td>0.004402</td>\n",
       "      <td>9.430428</td>\n",
       "      <td>...</td>\n",
       "      <td>1.468752</td>\n",
       "      <td>1.366378</td>\n",
       "      <td>1.245534</td>\n",
       "      <td>1.118893</td>\n",
       "      <td>1.032372</td>\n",
       "      <td>0.845990</td>\n",
       "      <td>0.653296</td>\n",
       "      <td>89.709091</td>\n",
       "      <td>515.218182</td>\n",
       "      <td>0.073441</td>\n",
       "    </tr>\n",
       "    <tr>\n",
       "      <th>4</th>\n",
       "      <td>5</td>\n",
       "      <td>2</td>\n",
       "      <td>5-2</td>\n",
       "      <td>648.213989</td>\n",
       "      <td>0.769735</td>\n",
       "      <td>3.721509</td>\n",
       "      <td>5.538301</td>\n",
       "      <td>0.671959</td>\n",
       "      <td>0.002174</td>\n",
       "      <td>9.576764</td>\n",
       "      <td>...</td>\n",
       "      <td>1.484971</td>\n",
       "      <td>1.378171</td>\n",
       "      <td>1.252418</td>\n",
       "      <td>1.128258</td>\n",
       "      <td>1.019737</td>\n",
       "      <td>0.779663</td>\n",
       "      <td>0.534423</td>\n",
       "      <td>89.810345</td>\n",
       "      <td>514.448276</td>\n",
       "      <td>0.074045</td>\n",
       "    </tr>\n",
       "  </tbody>\n",
       "</table>\n",
       "<p>5 rows × 79 columns</p>\n",
       "</div>"
      ],
      "text/plain": [
       "   FrameID  CellID ROI_filename      Volume  Sphericity       Dis      Trac  \\\n",
       "0        1       2          1-2  603.048401    0.852517  0.000000  0.000000   \n",
       "1        2       2          2-2  618.647583    0.784101  2.353424  2.353424   \n",
       "2        3       2          3-2  652.385071    0.805910  1.602057  3.189590   \n",
       "3        4       2          4-2  659.943665    0.802412  2.951481  4.761765   \n",
       "4        5       2          5-2  648.213989    0.769735  3.721509  5.538301   \n",
       "\n",
       "        D2T       Vel       Rad  ...       IQ3       IQ4       IQ5       IQ6  \\\n",
       "0  0.000000  0.000000  8.681769  ...  1.317259  1.216603  1.102974  0.989025   \n",
       "1  1.000000  0.006590  8.887084  ...  1.342967  1.228169  1.116847  1.009470   \n",
       "2  0.502277  0.002341  9.293634  ...  1.449308  1.341675  1.218744  1.110506   \n",
       "3  0.619829  0.004402  9.430428  ...  1.468752  1.366378  1.245534  1.118893   \n",
       "4  0.671959  0.002174  9.576764  ...  1.484971  1.378171  1.252418  1.128258   \n",
       "\n",
       "        IQ7       IQ8       IQ9          x           y      dens  \n",
       "0  0.835997  0.749949  0.641646  88.903846  518.057692  0.072316  \n",
       "1  0.872957  0.688360  0.456557  89.949153  515.949153  0.071690  \n",
       "2  0.960103  0.790081  0.576323  89.872727  516.781818  0.070477  \n",
       "3  1.032372  0.845990  0.653296  89.709091  515.218182  0.073441  \n",
       "4  1.019737  0.779663  0.534423  89.810345  514.448276  0.074045  \n",
       "\n",
       "[5 rows x 79 columns]"
      ]
     },
     "execution_count": 9,
     "metadata": {},
     "output_type": "execute_result"
    }
   ],
   "source": [
    "new_features.head()"
   ]
  },
  {
   "cell_type": "markdown",
   "id": "15df1f44-25fd-46d3-8dce-c6c5aa4fa6f9",
   "metadata": {},
   "source": [
    "### Generating time-series features\n",
    "\n",
    "The next step is to calculate features that incorporate the time-dimension.\n",
    "This is done with the `time_series_features` function, which accepts a dataframe with the cell-level features as output earlier from `cell_features`.\n",
    "\n",
    "Variables are calculated from the time series providing both\n",
    "summary statistics and indicators of time-series behaviour at different\n",
    "levels of detail obtained via wavelet analysis. 15 summary scores are\n",
    "calculated for each feature, in addition to the cell trajectory, thereby\n",
    "resulting in a default output of 1081 features (15x72 + 1). \n",
    "With the 2 PhaseFocus features as well, this increases to 1111.\n",
    "The output is a dataframe with the first column being the\n",
    "`CellID` used previously."
   ]
  },
  {
   "cell_type": "code",
   "execution_count": 10,
   "id": "0764cd7a-6245-4e1b-827c-b607c2acf308",
   "metadata": {},
   "outputs": [],
   "source": [
    "from cellphe import time_series_features\n",
    "ts_variables = time_series_features(new_features)"
   ]
  },
  {
   "cell_type": "code",
   "execution_count": 11,
   "id": "20a53a54-965d-4e15-9a13-ac4876f22892",
   "metadata": {},
   "outputs": [
    {
     "data": {
      "text/html": [
       "<div>\n",
       "<style scoped>\n",
       "    .dataframe tbody tr th:only-of-type {\n",
       "        vertical-align: middle;\n",
       "    }\n",
       "\n",
       "    .dataframe tbody tr th {\n",
       "        vertical-align: top;\n",
       "    }\n",
       "\n",
       "    .dataframe thead th {\n",
       "        text-align: right;\n",
       "    }\n",
       "</style>\n",
       "<table border=\"1\" class=\"dataframe\">\n",
       "  <thead>\n",
       "    <tr style=\"text-align: right;\">\n",
       "      <th></th>\n",
       "      <th>CellID</th>\n",
       "      <th>A2B_mean</th>\n",
       "      <th>A2B_std</th>\n",
       "      <th>A2B_skew</th>\n",
       "      <th>Area_mean</th>\n",
       "      <th>Area_std</th>\n",
       "      <th>Area_skew</th>\n",
       "      <th>Box_mean</th>\n",
       "      <th>Box_std</th>\n",
       "      <th>Box_skew</th>\n",
       "      <th>...</th>\n",
       "      <th>poly4_l1_asc</th>\n",
       "      <th>poly4_l1_des</th>\n",
       "      <th>poly4_l1_max</th>\n",
       "      <th>poly4_l2_asc</th>\n",
       "      <th>poly4_l2_des</th>\n",
       "      <th>poly4_l2_max</th>\n",
       "      <th>poly4_l3_asc</th>\n",
       "      <th>poly4_l3_des</th>\n",
       "      <th>poly4_l3_max</th>\n",
       "      <th>trajArea</th>\n",
       "    </tr>\n",
       "  </thead>\n",
       "  <tbody>\n",
       "    <tr>\n",
       "      <th>0</th>\n",
       "      <td>2</td>\n",
       "      <td>0.095047</td>\n",
       "      <td>0.008466</td>\n",
       "      <td>-1.277404</td>\n",
       "      <td>346.259875</td>\n",
       "      <td>56.441240</td>\n",
       "      <td>1.206047</td>\n",
       "      <td>1.338842</td>\n",
       "      <td>0.093507</td>\n",
       "      <td>1.926193</td>\n",
       "      <td>...</td>\n",
       "      <td>2.369861</td>\n",
       "      <td>-2.460841</td>\n",
       "      <td>47.259019</td>\n",
       "      <td>2.572310</td>\n",
       "      <td>-1.611360</td>\n",
       "      <td>29.186845</td>\n",
       "      <td>1.753271</td>\n",
       "      <td>-1.919305</td>\n",
       "      <td>12.797446</td>\n",
       "      <td>0.623323</td>\n",
       "    </tr>\n",
       "    <tr>\n",
       "      <th>1</th>\n",
       "      <td>3</td>\n",
       "      <td>0.092142</td>\n",
       "      <td>0.011569</td>\n",
       "      <td>-1.615687</td>\n",
       "      <td>688.148936</td>\n",
       "      <td>216.608400</td>\n",
       "      <td>1.393530</td>\n",
       "      <td>1.351822</td>\n",
       "      <td>0.113257</td>\n",
       "      <td>1.289532</td>\n",
       "      <td>...</td>\n",
       "      <td>3.554182</td>\n",
       "      <td>-2.072767</td>\n",
       "      <td>35.853083</td>\n",
       "      <td>2.500715</td>\n",
       "      <td>-1.495602</td>\n",
       "      <td>21.405508</td>\n",
       "      <td>1.595877</td>\n",
       "      <td>-3.060472</td>\n",
       "      <td>11.730594</td>\n",
       "      <td>83.530671</td>\n",
       "    </tr>\n",
       "    <tr>\n",
       "      <th>2</th>\n",
       "      <td>5</td>\n",
       "      <td>0.092124</td>\n",
       "      <td>0.009241</td>\n",
       "      <td>-1.319829</td>\n",
       "      <td>487.855649</td>\n",
       "      <td>73.061202</td>\n",
       "      <td>-0.378465</td>\n",
       "      <td>1.345572</td>\n",
       "      <td>0.079226</td>\n",
       "      <td>1.022087</td>\n",
       "      <td>...</td>\n",
       "      <td>2.783071</td>\n",
       "      <td>-3.223079</td>\n",
       "      <td>49.745435</td>\n",
       "      <td>2.567780</td>\n",
       "      <td>-2.184085</td>\n",
       "      <td>19.802078</td>\n",
       "      <td>1.555677</td>\n",
       "      <td>-3.011515</td>\n",
       "      <td>30.409920</td>\n",
       "      <td>5.101182</td>\n",
       "    </tr>\n",
       "    <tr>\n",
       "      <th>3</th>\n",
       "      <td>6</td>\n",
       "      <td>0.085164</td>\n",
       "      <td>0.010464</td>\n",
       "      <td>0.375708</td>\n",
       "      <td>548.186957</td>\n",
       "      <td>146.269491</td>\n",
       "      <td>-0.317095</td>\n",
       "      <td>1.291496</td>\n",
       "      <td>0.065032</td>\n",
       "      <td>0.740871</td>\n",
       "      <td>...</td>\n",
       "      <td>5.495591</td>\n",
       "      <td>-3.794187</td>\n",
       "      <td>87.033024</td>\n",
       "      <td>4.200457</td>\n",
       "      <td>-3.292587</td>\n",
       "      <td>50.855024</td>\n",
       "      <td>2.239058</td>\n",
       "      <td>-4.402756</td>\n",
       "      <td>8.215694</td>\n",
       "      <td>2.175653</td>\n",
       "    </tr>\n",
       "    <tr>\n",
       "      <th>4</th>\n",
       "      <td>7</td>\n",
       "      <td>0.085734</td>\n",
       "      <td>0.011498</td>\n",
       "      <td>-0.359607</td>\n",
       "      <td>728.992958</td>\n",
       "      <td>245.370656</td>\n",
       "      <td>1.311465</td>\n",
       "      <td>1.391985</td>\n",
       "      <td>0.115098</td>\n",
       "      <td>0.755004</td>\n",
       "      <td>...</td>\n",
       "      <td>4.625511</td>\n",
       "      <td>-3.817404</td>\n",
       "      <td>31.558305</td>\n",
       "      <td>3.710931</td>\n",
       "      <td>-5.180719</td>\n",
       "      <td>21.766337</td>\n",
       "      <td>3.796728</td>\n",
       "      <td>-3.213180</td>\n",
       "      <td>14.422016</td>\n",
       "      <td>12.269081</td>\n",
       "    </tr>\n",
       "  </tbody>\n",
       "</table>\n",
       "<p>5 rows × 1112 columns</p>\n",
       "</div>"
      ],
      "text/plain": [
       "   CellID  A2B_mean   A2B_std  A2B_skew   Area_mean    Area_std  Area_skew  \\\n",
       "0       2  0.095047  0.008466 -1.277404  346.259875   56.441240   1.206047   \n",
       "1       3  0.092142  0.011569 -1.615687  688.148936  216.608400   1.393530   \n",
       "2       5  0.092124  0.009241 -1.319829  487.855649   73.061202  -0.378465   \n",
       "3       6  0.085164  0.010464  0.375708  548.186957  146.269491  -0.317095   \n",
       "4       7  0.085734  0.011498 -0.359607  728.992958  245.370656   1.311465   \n",
       "\n",
       "   Box_mean   Box_std  Box_skew  ...  poly4_l1_asc  poly4_l1_des  \\\n",
       "0  1.338842  0.093507  1.926193  ...      2.369861     -2.460841   \n",
       "1  1.351822  0.113257  1.289532  ...      3.554182     -2.072767   \n",
       "2  1.345572  0.079226  1.022087  ...      2.783071     -3.223079   \n",
       "3  1.291496  0.065032  0.740871  ...      5.495591     -3.794187   \n",
       "4  1.391985  0.115098  0.755004  ...      4.625511     -3.817404   \n",
       "\n",
       "   poly4_l1_max  poly4_l2_asc  poly4_l2_des  poly4_l2_max  poly4_l3_asc  \\\n",
       "0     47.259019      2.572310     -1.611360     29.186845      1.753271   \n",
       "1     35.853083      2.500715     -1.495602     21.405508      1.595877   \n",
       "2     49.745435      2.567780     -2.184085     19.802078      1.555677   \n",
       "3     87.033024      4.200457     -3.292587     50.855024      2.239058   \n",
       "4     31.558305      3.710931     -5.180719     21.766337      3.796728   \n",
       "\n",
       "   poly4_l3_des  poly4_l3_max   trajArea  \n",
       "0     -1.919305     12.797446   0.623323  \n",
       "1     -3.060472     11.730594  83.530671  \n",
       "2     -3.011515     30.409920   5.101182  \n",
       "3     -4.402756      8.215694   2.175653  \n",
       "4     -3.213180     14.422016  12.269081  \n",
       "\n",
       "[5 rows x 1112 columns]"
      ]
     },
     "execution_count": 11,
     "metadata": {},
     "output_type": "execute_result"
    }
   ],
   "source": [
    "ts_variables.head()"
   ]
  }
 ],
 "metadata": {
  "kernelspec": {
   "display_name": "cellphe",
   "language": "python",
   "name": "cellphe"
  },
  "language_info": {
   "codemirror_mode": {
    "name": "ipython",
    "version": 3
   },
   "file_extension": ".py",
   "mimetype": "text/x-python",
   "name": "python",
   "nbconvert_exporter": "python",
   "pygments_lexer": "ipython3",
   "version": "3.12.6"
  }
 },
 "nbformat": 4,
 "nbformat_minor": 5
}
